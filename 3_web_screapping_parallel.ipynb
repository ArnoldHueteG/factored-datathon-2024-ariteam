{
 "cells": [
  {
   "cell_type": "code",
   "execution_count": 1,
   "metadata": {},
   "outputs": [],
   "source": [
    "import pandas as pd\n",
    "import requests\n",
    "\n",
    "pd.set_option('display.max_columns', None)\n",
    "# pd.set_option('display.max_colwidth', None)"
   ]
  },
  {
   "cell_type": "code",
   "execution_count": 2,
   "metadata": {},
   "outputs": [],
   "source": [
    "df = pd.read_pickle(\"data/20240813.gkg.first-1000-news.pkl\")"
   ]
  },
  {
   "cell_type": "code",
   "execution_count": 41,
   "metadata": {},
   "outputs": [],
   "source": [
    "gkg = pd.read_pickle(\"data/20240813.gkg.pkl\")"
   ]
  },
  {
   "cell_type": "code",
   "execution_count": 42,
   "metadata": {},
   "outputs": [],
   "source": [
    "list_urls = gkg[\"first_url\"].head(10000).to_list()"
   ]
  },
  {
   "cell_type": "code",
   "execution_count": 43,
   "metadata": {},
   "outputs": [
    {
     "data": {
      "text/plain": [
       "10000"
      ]
     },
     "execution_count": 43,
     "metadata": {},
     "output_type": "execute_result"
    }
   ],
   "source": [
    "len(list_urls)"
   ]
  },
  {
   "cell_type": "code",
   "execution_count": 7,
   "metadata": {},
   "outputs": [],
   "source": [
    "from newspaper import Article\n",
    "from newspaper import Config\n",
    "\n",
    "user_agent = 'Mozilla/5.0 (Macintosh; Intel Mac OS X 10_11_5) AppleWebKit/537.36 (KHTML, like Gecko) Chrome/50.0.2661.102 Safari/537.36'\n",
    "config = Config()\n",
    "config.browser_user_agent = user_agent\n",
    "def get_article(url):\n",
    "    try:\n",
    "        article = Article(url, config=config)\n",
    "        article.download()\n",
    "        article.parse()\n",
    "        article.nlp()\n",
    "        data = {\n",
    "            \"title\": article.title,\n",
    "            \"text\": article.text,\n",
    "            \"summary\": article.summary\n",
    "        }\n",
    "        return data\n",
    "    except Exception as e:\n",
    "        return {\n",
    "            \"title\": \"ERROR\",\n",
    "            \"text\": str(e),\n",
    "            \"summary\": \"ERROR\"\n",
    "        }"
   ]
  },
  {
   "cell_type": "code",
   "execution_count": 19,
   "metadata": {},
   "outputs": [],
   "source": [
    "import time\n",
    "def get_article(url):\n",
    "    start_time = time.time()\n",
    "    download_time = parse_time = nlp_time = None\n",
    "    \n",
    "    try:\n",
    "        article = Article(url, config=config)\n",
    "        \n",
    "        start_download = time.time()\n",
    "        article.download()\n",
    "        download_time = time.time() - start_download\n",
    "        \n",
    "        start_parse = time.time()\n",
    "        article.parse()\n",
    "        parse_time = time.time() - start_parse\n",
    "        \n",
    "        start_nlp = time.time()\n",
    "        article.nlp()\n",
    "        nlp_time = time.time() - start_nlp\n",
    "        \n",
    "        data = {\n",
    "            \"title\": article.title,\n",
    "            \"text\": article.text,\n",
    "            \"summary\": article.summary,\n",
    "        }\n",
    "    except Exception as e:\n",
    "        data = {\n",
    "            \"title\": \"ERROR\",\n",
    "            \"text\": str(e),\n",
    "            \"summary\": \"ERROR\",\n",
    "        }\n",
    "    finally:\n",
    "        total_time = time.time() - start_time\n",
    "        data = {\n",
    "            **data,\n",
    "            \"download\": download_time,\n",
    "            \"parse\": parse_time,\n",
    "            \"nlp\": nlp_time,\n",
    "            \"total\": total_time\n",
    "        }\n",
    "        return data"
   ]
  },
  {
   "cell_type": "code",
   "execution_count": 8,
   "metadata": {},
   "outputs": [],
   "source": [
    "from concurrent.futures import ThreadPoolExecutor, as_completed\n",
    "\n",
    "def scrape_articles_parallel(urls, max_workers=10):\n",
    "    results = []\n",
    "    with ThreadPoolExecutor(max_workers=max_workers) as executor:\n",
    "        future_to_url = {executor.submit(get_article, url): url for url in urls}\n",
    "        for future in as_completed(future_to_url):\n",
    "            results.append(future.result())\n",
    "    return results"
   ]
  },
  {
   "cell_type": "code",
   "execution_count": 20,
   "metadata": {},
   "outputs": [],
   "source": [
    "articles = scrape_articles_parallel(list_urls,10)"
   ]
  },
  {
   "cell_type": "code",
   "execution_count": 29,
   "metadata": {},
   "outputs": [
    {
     "name": "stderr",
     "output_type": "stream",
     "text": [
      "/Users/ahueteg/Documents/workspace/ahueteg/hackatons/factored-datathon-2024-ariteam/.venv/lib/python3.12/site-packages/dateutil/parser/_parser.py:1207: UnknownTimezoneWarning: tzname ET identified but not understood.  Pass `tzinfos` argument in order to correctly return a timezone-aware datetime.  In a future version, this will raise an exception.\n",
      "  warnings.warn(\"tzname {tzname} identified but not understood.  \"\n"
     ]
    }
   ],
   "source": [
    "articles = scrape_articles_parallel(list_urls,20)"
   ]
  },
  {
   "cell_type": "code",
   "execution_count": 44,
   "metadata": {},
   "outputs": [
    {
     "name": "stderr",
     "output_type": "stream",
     "text": [
      "/Users/ahueteg/Documents/workspace/ahueteg/hackatons/factored-datathon-2024-ariteam/.venv/lib/python3.12/site-packages/dateutil/parser/_parser.py:1207: UnknownTimezoneWarning: tzname ET identified but not understood.  Pass `tzinfos` argument in order to correctly return a timezone-aware datetime.  In a future version, this will raise an exception.\n",
      "  warnings.warn(\"tzname {tzname} identified but not understood.  \"\n",
      "/Users/ahueteg/Documents/workspace/ahueteg/hackatons/factored-datathon-2024-ariteam/.venv/lib/python3.12/site-packages/dateutil/parser/_parser.py:1207: UnknownTimezoneWarning: tzname CDT identified but not understood.  Pass `tzinfos` argument in order to correctly return a timezone-aware datetime.  In a future version, this will raise an exception.\n",
      "  warnings.warn(\"tzname {tzname} identified but not understood.  \"\n"
     ]
    }
   ],
   "source": [
    "\n",
    "articles = scrape_articles_parallel(list_urls,40)"
   ]
  },
  {
   "cell_type": "code",
   "execution_count": 31,
   "metadata": {},
   "outputs": [
    {
     "data": {
      "text/plain": [
       "1000"
      ]
     },
     "execution_count": 31,
     "metadata": {},
     "output_type": "execute_result"
    }
   ],
   "source": [
    "len(articles)"
   ]
  },
  {
   "cell_type": "code",
   "execution_count": 18,
   "metadata": {},
   "outputs": [
    {
     "data": {
      "text/plain": [
       "{'title': 'Underground reservoir on Mars could fill oceans on the planet’s surface, study finds',\n",
       " 'text': '(CNN) — Data from a retired NASA mission has revealed evidence of an underground reservoir of water deep beneath the surface of Mars, according to new research.\\n\\nA team of scientists estimates that there may be enough water, trapped in tiny cracks and pores of rock in the middle of the Martian crust, to fill oceans on the planet’s surface. The groundwater would likely cover the entirety of Mars to a depth of 1 mile (1.6 kilometers), the study found.\\n\\nThe data came from NASA’s InSight lander, which used a seismometer to study the interior of Mars from 2018 to 2022.\\n\\nFuture astronauts exploring Mars would encounter a whole host of challenges if they tried to access the water, because it’s located between 7 and 12 miles (11.5 and 20 kilometers) beneath the surface, according to the study published Monday in the journal Proceedings of the National Academy of Sciences.\\n\\nBut the finding uncovers new details about the geological history of Mars — and suggests a new place to search for life on the red planet if the water could ever be accessed.\\n\\n“Understanding the Martian water cycle is critical for understanding the evolution of the climate, surface and interior,” said lead study author Vashan Wright, assistant professor and geophysicist at the University of California, San Diego’s Scripps Institution of Oceanography, in a statement. “A useful starting point is to identify where water is and how much is there.”\\n\\nThe search for ‘lost’ water on Mars\\n\\nMars was likely a warmer, wetter place billions of years ago, based on the evidence of ancient lakes, river channels, deltas and rocks altered by water studied by other NASA missions and observed by orbiters. But the red planet lost its atmosphere more than 3 billion years ago, which effectively ended the wet period on Mars.\\n\\nScientists still aren’t sure why Mars lost its atmosphere, and a multitude of missions have been developed to learn about the history of the planet’s water, where it went, and whether water ever created habitable conditions for life on Mars. While water remains trapped as ice at the planet’s polar ice caps, researchers don’t believe that can account for all the planet’s “lost” water.\\n\\nExisting theories offer a few likely scenarios for what happened to Martian water after Mars lost its atmosphere: Some hypothesize it became ice or was lost to space, while others suggest it was incorporated into minerals beneath the planet’s surface or trickled into deep aquifers.\\n\\nThe new findings suggest that water on Mars filtered down into the Martian crust.\\n\\nInSight, short for Interior Exploration using Seismic Investigations, Geodesy and Heat Transport, was a stationary lander. But it collected unprecedented data about the thickness of the red planet’s crust and the temperature of its mantle, as well as the depth and composition of the core and atmosphere. The lander’s seismometer detected the first quakes on another planet, dubbed marsquakes.\\n\\nWhile earthquakes occur when tectonic plates shift, move and grind against one another, the Martian crust is like one giant plate with faults and fractures as the planet continues to shrink and cool over time. As the Martian crust stretches, it cracks, and InSight’s seismometer was able to detect more than 1,300 marsquakes as they rumbled from hundreds and thousands of miles away.\\n\\nScientists studying InSight’s data were able to study the speed of marsquakes as they traveled through the planet, which can serve as an indicator of what substances exist beneath the Martian surface.\\n\\nThe speed of seismic waves depends on what the rock is made of, where it has cracks and what fills those cracks, Wright said.\\n\\nThe team used this data and fed it into a mathematical model of rock physics, which is used on Earth to map underground oil fields and aquifers.\\n\\nThe results showed that InSight’s data best matches up with a deep layer of igneous, or volcanic, rock that is filled with liquid water.\\n\\n“Establishing that there is a big reservoir of liquid water provides some window into what the climate was like or could be like,” said study coauthor Michael Manga, a professor of earth and planetary science at the University of California, Berkeley, in a statement.\\n\\n“And water is necessary for life as we know it. I don’t see why (the underground reservoir) is not a habitable environment,” Manga added. “It’s certainly true on Earth — deep, deep mines host life, the bottom of the ocean hosts life. We haven’t found any evidence for life on Mars, but at least we have identified a place that should, in principle, be able to sustain life.”\\n\\nIf Mars’ crust is similar across the planet, there may be more water within the mid-crust zone than the “volumes proposed to have filled hypothesized ancient Martian oceans,” the authors wrote in the study.\\n\\nRocks help trap information about the history of a planet, and understanding the water cycle of a planet can help researchers unlock the evolution of Mars, Wright said.\\n\\nWhile the analysis of the data can’t reveal any information about life, past or present, if it existed on Mars, it’s possible that wet Martian crust could be habitable in the same way that deep groundwater on Earth is hospitable for microbial life, he said.\\n\\nBut even drilling holes just half a mile (1 kilometer) or deeper on Earth is a challenge that requires energy and infrastructure, so a massive number of resources would need to be brought to Mars to drill to such depths, Wright said.\\n\\nThe team was surprised not to find evidence suggesting a layer of frozen groundwater beneath Insight because that portion of the crust is cold. The researchers are still trying to determine why there isn’t frozen groundwater at shallower depths above the mid-crust.\\n\\nWindows into Martian history\\n\\nThe findings add a new piece to the Martian water puzzle.\\n\\nThe idea that liquid water may exist deep beneath the Martian surface has been around for decades, but this is the first time real data from a Mars mission can confirm such speculation, said Alberto Fairén, a visiting interdisciplinary planetary scientist and astrobiologist within the department of astronomy at Cornell University. Fairén was not involved in the study.\\n\\nHe said the water is likely “a kind of deep underground mud.”\\n\\n“These new results demonstrate that liquid water does exist in the Martian subsurface today, not in the form of discrete and isolated lakes, but as liquid water-saturated sediments, or aquifers,” Fairén said. “On Earth, the subsurface biosphere is truly vast, containing most of the prokaryotic diversity and biomass on our planet. Some investigations even point to an origin of life on Earth precisely deep in the subsurface. Therefore, the astrobiological implications of finally confirming the existence of liquid water habitats kilometers beneath the surface of Mars are truly exciting.”\\n\\nThe result is “exactly the kind of thing that I hoped we would get out of InSight,” said Bruce Banerdt, the principal investigator for the InSight mission.\\n\\n“I was hoping that we would get data that was good enough to do these kinds of studies where we’re actually looking at details of the inside of Mars that are relevant to geological questions, questions about the habitability of Mars, questions about the evolution of Mars,” he said.\\n\\nBanerdt, who was not involved in the research, said that while the interpretation of the data presented in the paper is strongly supported with good arguments, he also believes it is still somewhat speculative and that there is almost always another way to explain any given set of data.\\n\\n“I was really impressed by the fact that Wright et al brought in mineral physics concepts to interpret seismic data,” Banerdt said.\\n\\nBanerdt and Wright both expressed an interest in the ability to send more seismometers to Mars and other planets and moons within our solar system in the future. While InSight’s one seismometer gathered crucial data, spreading them out across Mars would reveal variations within the planet’s interior and provide a greater window into its diverse and complex history, Banerdt said.\\n\\n“Just as on Earth, where groundwater is connected to the surface through rivers and lakes, this was surely the case on early Mars as well,” Wright said. “The groundwater we see is a record of that past.”',\n",
       " 'summary': '(CNN) — Data from a retired NASA mission has revealed evidence of an underground reservoir of water deep beneath the surface of Mars, according to new research.\\nThe data came from NASA’s InSight lander, which used a seismometer to study the interior of Mars from 2018 to 2022.\\nThe new findings suggest that water on Mars filtered down into the Martian crust.\\n“It’s certainly true on Earth — deep, deep mines host life, the bottom of the ocean hosts life.\\nWindows into Martian history The findings add a new piece to the Martian water puzzle.',\n",
       " 'timing': {'download': 0.30560874938964844,\n",
       "  'parse': 0.49927592277526855,\n",
       "  'nlp': 0.009243011474609375,\n",
       "  'total': 0.8141818046569824}}"
      ]
     },
     "execution_count": 18,
     "metadata": {},
     "output_type": "execute_result"
    }
   ],
   "source": [
    "articles[0]a"
   ]
  },
  {
   "cell_type": "code",
   "execution_count": 15,
   "metadata": {},
   "outputs": [
    {
     "name": "stdout",
     "output_type": "stream",
     "text": [
      "Number of CPU cores: 10\n"
     ]
    }
   ],
   "source": [
    "import multiprocessing\n",
    "\n",
    "def get_core_count():\n",
    "    return multiprocessing.cpu_count()\n",
    "\n",
    "print(f\"Number of CPU cores: {get_core_count()}\")"
   ]
  },
  {
   "cell_type": "code",
   "execution_count": 33,
   "metadata": {},
   "outputs": [],
   "source": [
    "pd.DataFrame(articles).to_csv(\"data/20240813.gkg.first-1000-news-articles.csv\", index=False)"
   ]
  },
  {
   "cell_type": "code",
   "execution_count": 30,
   "metadata": {},
   "outputs": [
    {
     "data": {
      "text/html": [
       "<div>\n",
       "<style scoped>\n",
       "    .dataframe tbody tr th:only-of-type {\n",
       "        vertical-align: middle;\n",
       "    }\n",
       "\n",
       "    .dataframe tbody tr th {\n",
       "        vertical-align: top;\n",
       "    }\n",
       "\n",
       "    .dataframe thead th {\n",
       "        text-align: right;\n",
       "    }\n",
       "</style>\n",
       "<table border=\"1\" class=\"dataframe\">\n",
       "  <thead>\n",
       "    <tr style=\"text-align: right;\">\n",
       "      <th></th>\n",
       "      <th>title</th>\n",
       "      <th>text</th>\n",
       "      <th>summary</th>\n",
       "      <th>download</th>\n",
       "      <th>parse</th>\n",
       "      <th>nlp</th>\n",
       "      <th>total</th>\n",
       "    </tr>\n",
       "  </thead>\n",
       "  <tbody>\n",
       "    <tr>\n",
       "      <th>995</th>\n",
       "      <td>Soldier charged for Kiss driver's road death o...</td>\n",
       "      <td>Laurel V Williams\\n\\nJALANI Mapp, the man char...</td>\n",
       "      <td>Laurel V Williams JALANI Mapp, the man charged...</td>\n",
       "      <td>8.456538</td>\n",
       "      <td>0.210626</td>\n",
       "      <td>0.002457</td>\n",
       "      <td>8.669670</td>\n",
       "    </tr>\n",
       "    <tr>\n",
       "      <th>996</th>\n",
       "      <td>Bangladesh Sees 12-Year High Inflation Amid Pr...</td>\n",
       "      <td>Bangladesh's inflation in July reached a 12-ye...</td>\n",
       "      <td>Bangladesh's inflation in July reached a 12-ye...</td>\n",
       "      <td>4.836724</td>\n",
       "      <td>1.499970</td>\n",
       "      <td>0.001541</td>\n",
       "      <td>6.338301</td>\n",
       "    </tr>\n",
       "    <tr>\n",
       "      <th>997</th>\n",
       "      <td>ERROR</td>\n",
       "      <td>Article `download()` failed with HTTPConnectio...</td>\n",
       "      <td>ERROR</td>\n",
       "      <td>10.675692</td>\n",
       "      <td>NaN</td>\n",
       "      <td>NaN</td>\n",
       "      <td>10.675741</td>\n",
       "    </tr>\n",
       "    <tr>\n",
       "      <th>998</th>\n",
       "      <td>Your superb shots of the Northern Lights visib...</td>\n",
       "      <td>The Aurora Borealis was visible in parts of th...</td>\n",
       "      <td>The Aurora Borealis was visible in parts of th...</td>\n",
       "      <td>9.594916</td>\n",
       "      <td>0.327279</td>\n",
       "      <td>0.001642</td>\n",
       "      <td>9.923888</td>\n",
       "    </tr>\n",
       "    <tr>\n",
       "      <th>999</th>\n",
       "      <td>LQR House Inc. Announces 382% Year-Over-Year R...</td>\n",
       "      <td>MIAMI BEACH, FL / ACCESSWIRE / August 13, 2024...</td>\n",
       "      <td>In July 2023, LQR House reported revenues of $...</td>\n",
       "      <td>3.938475</td>\n",
       "      <td>25.957049</td>\n",
       "      <td>0.003842</td>\n",
       "      <td>29.899412</td>\n",
       "    </tr>\n",
       "  </tbody>\n",
       "</table>\n",
       "</div>"
      ],
      "text/plain": [
       "                                                 title  \\\n",
       "995  Soldier charged for Kiss driver's road death o...   \n",
       "996  Bangladesh Sees 12-Year High Inflation Amid Pr...   \n",
       "997                                              ERROR   \n",
       "998  Your superb shots of the Northern Lights visib...   \n",
       "999  LQR House Inc. Announces 382% Year-Over-Year R...   \n",
       "\n",
       "                                                  text  \\\n",
       "995  Laurel V Williams\\n\\nJALANI Mapp, the man char...   \n",
       "996  Bangladesh's inflation in July reached a 12-ye...   \n",
       "997  Article `download()` failed with HTTPConnectio...   \n",
       "998  The Aurora Borealis was visible in parts of th...   \n",
       "999  MIAMI BEACH, FL / ACCESSWIRE / August 13, 2024...   \n",
       "\n",
       "                                               summary   download      parse  \\\n",
       "995  Laurel V Williams JALANI Mapp, the man charged...   8.456538   0.210626   \n",
       "996  Bangladesh's inflation in July reached a 12-ye...   4.836724   1.499970   \n",
       "997                                              ERROR  10.675692        NaN   \n",
       "998  The Aurora Borealis was visible in parts of th...   9.594916   0.327279   \n",
       "999  In July 2023, LQR House reported revenues of $...   3.938475  25.957049   \n",
       "\n",
       "          nlp      total  \n",
       "995  0.002457   8.669670  \n",
       "996  0.001541   6.338301  \n",
       "997       NaN  10.675741  \n",
       "998  0.001642   9.923888  \n",
       "999  0.003842  29.899412  "
      ]
     },
     "execution_count": 30,
     "metadata": {},
     "output_type": "execute_result"
    }
   ],
   "source": [
    "pd.DataFrame(articles).tail()"
   ]
  },
  {
   "cell_type": "code",
   "execution_count": 46,
   "metadata": {},
   "outputs": [
    {
     "data": {
      "text/html": [
       "<div>\n",
       "<style scoped>\n",
       "    .dataframe tbody tr th:only-of-type {\n",
       "        vertical-align: middle;\n",
       "    }\n",
       "\n",
       "    .dataframe tbody tr th {\n",
       "        vertical-align: top;\n",
       "    }\n",
       "\n",
       "    .dataframe thead th {\n",
       "        text-align: right;\n",
       "    }\n",
       "</style>\n",
       "<table border=\"1\" class=\"dataframe\">\n",
       "  <thead>\n",
       "    <tr style=\"text-align: right;\">\n",
       "      <th></th>\n",
       "      <th>title</th>\n",
       "      <th>text</th>\n",
       "      <th>summary</th>\n",
       "      <th>download</th>\n",
       "      <th>parse</th>\n",
       "      <th>nlp</th>\n",
       "      <th>total</th>\n",
       "    </tr>\n",
       "  </thead>\n",
       "  <tbody>\n",
       "    <tr>\n",
       "      <th>9998</th>\n",
       "      <td>NITDA, Japan partner to empower startups with ...</td>\n",
       "      <td>The National Information Technology Developmen...</td>\n",
       "      <td>The National Information Technology Developmen...</td>\n",
       "      <td>4.829097</td>\n",
       "      <td>206.816207</td>\n",
       "      <td>0.002367</td>\n",
       "      <td>211.647736</td>\n",
       "    </tr>\n",
       "    <tr>\n",
       "      <th>7976</th>\n",
       "      <td>SVB&amp;T Corp.: SVB&amp;T Corporation Reports 2024 Se...</td>\n",
       "      <td>SVB&amp;T Corporation (OTCQX:SVBT), parent company...</td>\n",
       "      <td>Interest income increased $890,000 compared to...</td>\n",
       "      <td>5.704282</td>\n",
       "      <td>111.365592</td>\n",
       "      <td>0.013440</td>\n",
       "      <td>117.083366</td>\n",
       "    </tr>\n",
       "    <tr>\n",
       "      <th>8071</th>\n",
       "      <td>Franco-Nevada Reports Q2 2024 Results; New Min...</td>\n",
       "      <td>New Mine Start-ups and Acquisitions\\n\\n(in U.S...</td>\n",
       "      <td>Q2 2024 Portfolio Updates Precious Metal asset...</td>\n",
       "      <td>6.259472</td>\n",
       "      <td>96.307791</td>\n",
       "      <td>0.036811</td>\n",
       "      <td>102.604130</td>\n",
       "    </tr>\n",
       "    <tr>\n",
       "      <th>9428</th>\n",
       "      <td>Ponsse Oyj : Half year Report for 1 January 30...</td>\n",
       "      <td>Ponsse's Half-year Report for 1 January - 30 J...</td>\n",
       "      <td>DISTRIBUTION NETWORK In the new operating mode...</td>\n",
       "      <td>7.137853</td>\n",
       "      <td>88.686141</td>\n",
       "      <td>0.036498</td>\n",
       "      <td>95.860548</td>\n",
       "    </tr>\n",
       "    <tr>\n",
       "      <th>5760</th>\n",
       "      <td>1843 Seated Dollar</td>\n",
       "      <td>Author Replies: 12 / Views: 1,690\\n\\nValued Me...</td>\n",
       "      <td>Pillar of the Community United States 4049 Pos...</td>\n",
       "      <td>5.871923</td>\n",
       "      <td>75.527072</td>\n",
       "      <td>0.003525</td>\n",
       "      <td>81.402565</td>\n",
       "    </tr>\n",
       "    <tr>\n",
       "      <th>6408</th>\n",
       "      <td>More than 20 injured in German train crash</td>\n",
       "      <td>BERLIN - An east German regional train struck ...</td>\n",
       "      <td>BERLIN - An east German regional train struck ...</td>\n",
       "      <td>8.011999</td>\n",
       "      <td>68.955060</td>\n",
       "      <td>0.001326</td>\n",
       "      <td>76.968432</td>\n",
       "    </tr>\n",
       "    <tr>\n",
       "      <th>7918</th>\n",
       "      <td>Syndicated Article – Your Fort Dodge</td>\n",
       "      <td></td>\n",
       "      <td></td>\n",
       "      <td>4.412640</td>\n",
       "      <td>72.175424</td>\n",
       "      <td>0.000181</td>\n",
       "      <td>76.588318</td>\n",
       "    </tr>\n",
       "    <tr>\n",
       "      <th>2269</th>\n",
       "      <td>Defunct N.S. regional development agency to un...</td>\n",
       "      <td>HALIFAX - A forensic audit will determine what...</td>\n",
       "      <td>Percy Paris, the economic and rural developmen...</td>\n",
       "      <td>8.450237</td>\n",
       "      <td>67.218402</td>\n",
       "      <td>0.002903</td>\n",
       "      <td>75.671610</td>\n",
       "    </tr>\n",
       "    <tr>\n",
       "      <th>6542</th>\n",
       "      <td>CTV Montreal: Stephane Giroux at the courthouse</td>\n",
       "      <td>You are now being redirected to the BCE.ca web...</td>\n",
       "      <td>You are now being redirected to the BCE.ca web...</td>\n",
       "      <td>9.847173</td>\n",
       "      <td>65.702806</td>\n",
       "      <td>0.005332</td>\n",
       "      <td>75.555381</td>\n",
       "    </tr>\n",
       "    <tr>\n",
       "      <th>3720</th>\n",
       "      <td>Young people see online slurs as jokes: AP-MTV...</td>\n",
       "      <td>WASHINGTON - Is it ever OK to tweet that a gir...</td>\n",
       "      <td>Jaded by the Internet free-for-all, teens and ...</td>\n",
       "      <td>8.151193</td>\n",
       "      <td>66.477123</td>\n",
       "      <td>0.006284</td>\n",
       "      <td>74.634714</td>\n",
       "    </tr>\n",
       "  </tbody>\n",
       "</table>\n",
       "</div>"
      ],
      "text/plain": [
       "                                                  title  \\\n",
       "9998  NITDA, Japan partner to empower startups with ...   \n",
       "7976  SVB&T Corp.: SVB&T Corporation Reports 2024 Se...   \n",
       "8071  Franco-Nevada Reports Q2 2024 Results; New Min...   \n",
       "9428  Ponsse Oyj : Half year Report for 1 January 30...   \n",
       "5760                                 1843 Seated Dollar   \n",
       "6408         More than 20 injured in German train crash   \n",
       "7918               Syndicated Article – Your Fort Dodge   \n",
       "2269  Defunct N.S. regional development agency to un...   \n",
       "6542    CTV Montreal: Stephane Giroux at the courthouse   \n",
       "3720  Young people see online slurs as jokes: AP-MTV...   \n",
       "\n",
       "                                                   text  \\\n",
       "9998  The National Information Technology Developmen...   \n",
       "7976  SVB&T Corporation (OTCQX:SVBT), parent company...   \n",
       "8071  New Mine Start-ups and Acquisitions\\n\\n(in U.S...   \n",
       "9428  Ponsse's Half-year Report for 1 January - 30 J...   \n",
       "5760  Author Replies: 12 / Views: 1,690\\n\\nValued Me...   \n",
       "6408  BERLIN - An east German regional train struck ...   \n",
       "7918                                                      \n",
       "2269  HALIFAX - A forensic audit will determine what...   \n",
       "6542  You are now being redirected to the BCE.ca web...   \n",
       "3720  WASHINGTON - Is it ever OK to tweet that a gir...   \n",
       "\n",
       "                                                summary  download       parse  \\\n",
       "9998  The National Information Technology Developmen...  4.829097  206.816207   \n",
       "7976  Interest income increased $890,000 compared to...  5.704282  111.365592   \n",
       "8071  Q2 2024 Portfolio Updates Precious Metal asset...  6.259472   96.307791   \n",
       "9428  DISTRIBUTION NETWORK In the new operating mode...  7.137853   88.686141   \n",
       "5760  Pillar of the Community United States 4049 Pos...  5.871923   75.527072   \n",
       "6408  BERLIN - An east German regional train struck ...  8.011999   68.955060   \n",
       "7918                                                     4.412640   72.175424   \n",
       "2269  Percy Paris, the economic and rural developmen...  8.450237   67.218402   \n",
       "6542  You are now being redirected to the BCE.ca web...  9.847173   65.702806   \n",
       "3720  Jaded by the Internet free-for-all, teens and ...  8.151193   66.477123   \n",
       "\n",
       "           nlp       total  \n",
       "9998  0.002367  211.647736  \n",
       "7976  0.013440  117.083366  \n",
       "8071  0.036811  102.604130  \n",
       "9428  0.036498   95.860548  \n",
       "5760  0.003525   81.402565  \n",
       "6408  0.001326   76.968432  \n",
       "7918  0.000181   76.588318  \n",
       "2269  0.002903   75.671610  \n",
       "6542  0.005332   75.555381  \n",
       "3720  0.006284   74.634714  "
      ]
     },
     "execution_count": 46,
     "metadata": {},
     "output_type": "execute_result"
    }
   ],
   "source": [
    "ar = pd.DataFrame(articles)\n",
    "\n",
    "ar.sort_values(\"total\", ascending=False).head(10)"
   ]
  },
  {
   "cell_type": "code",
   "execution_count": null,
   "metadata": {},
   "outputs": [],
   "source": []
  }
 ],
 "metadata": {
  "kernelspec": {
   "display_name": ".venv",
   "language": "python",
   "name": "python3"
  },
  "language_info": {
   "codemirror_mode": {
    "name": "ipython",
    "version": 3
   },
   "file_extension": ".py",
   "mimetype": "text/x-python",
   "name": "python",
   "nbconvert_exporter": "python",
   "pygments_lexer": "ipython3",
   "version": "3.12.3"
  }
 },
 "nbformat": 4,
 "nbformat_minor": 2
}
