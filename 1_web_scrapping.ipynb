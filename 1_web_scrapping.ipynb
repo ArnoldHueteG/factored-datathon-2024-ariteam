{
 "cells": [
  {
   "cell_type": "code",
   "execution_count": 1,
   "metadata": {},
   "outputs": [],
   "source": [
    "import pandas as pd\n",
    "import requests\n",
    "\n",
    "pd.set_option('display.max_columns', None)\n",
    "# pd.set_option('display.max_colwidth', None)"
   ]
  },
  {
   "cell_type": "code",
   "execution_count": 2,
   "metadata": {},
   "outputs": [],
   "source": [
    "gkg = pd.read_csv(\"data/20240813.gkg.csv\", sep=\"\\t\")\n",
    "#gkg.head()"
   ]
  },
  {
   "cell_type": "code",
   "execution_count": 3,
   "metadata": {},
   "outputs": [],
   "source": [
    "# create a function to apply to counts to split the string AFFECT#3000000#Americans#1#United States#US#US#39.828175#-98.5795#US; into a list. the separator is \";\"\n",
    "\n",
    "def split_counts(counts, sep=\";\"):\n",
    "    if pd.isna(counts):\n",
    "        return []\n",
    "    return counts[:-1].split(sep)\n",
    "\n",
    "# apply the function to the counts column\n",
    "\n",
    "gkg[\"counts\"] = gkg[\"COUNTS\"].apply(split_counts)\n",
    "gkg[\"themes\"] = gkg[\"THEMES\"].apply(split_counts)\n",
    "gkg[\"locations\"] = gkg[\"LOCATIONS\"].apply(split_counts)\n",
    "gkg[\"persons\"] = gkg[\"PERSONS\"].apply(split_counts)\n",
    "gkg[\"organizations\"] = gkg[\"ORGANIZATIONS\"].apply(split_counts)\n",
    "gkg[\"tone\"] = gkg[\"TONE\"].apply(split_counts, sep=\",\")\n",
    "gkg[\"cameoeventids\"] = gkg[\"CAMEOEVENTIDS\"].apply(split_counts, sep=\",\")\n",
    "gkg[\"sources\"] = gkg[\"SOURCES\"].apply(split_counts)\n",
    "gkg[\"sourcesurl\"] = gkg[\"SOURCEURLS\"].apply(split_counts, sep='<UDIV>')\n"
   ]
  },
  {
   "cell_type": "code",
   "execution_count": 4,
   "metadata": {},
   "outputs": [],
   "source": [
    "def get_dicts_from_lists(counts):\n",
    "    if len(counts) == 0:\n",
    "        return []\n",
    "    return [dict(zip([\"COUNTTYPE\", \"NUMBER\", \"OBJECTTYPE\", \"GEO_TYPE\", \"GEO_FULLNAME\", \"GEO_COUNTRYCODE\", \"GEO_ADM1CODE\", \"GEO_LAT\", \"GEO_LONG\", \"GEO_FEATUREID\"], i.split(\"#\"))) for i in counts]\n",
    "\n",
    "gkg[\"counts\"] = gkg[\"counts\"].apply(get_dicts_from_lists)"
   ]
  },
  {
   "cell_type": "code",
   "execution_count": 5,
   "metadata": {},
   "outputs": [
    {
     "data": {
      "text/plain": [
       "0    https://www.castanetkamloops.net/news/Business...\n",
       "1    https://www.bostonglobe.com/2024/08/12/world/b...\n",
       "2    https://www.wdrb.com/news/crime-reports/city-o...\n",
       "3    https://www.brecorder.com/news/40317251/na-spe...\n",
       "4    https://www.tribtoday.com/news/local-news/2024...\n",
       "Name: sourcesurl, dtype: object"
      ]
     },
     "execution_count": 5,
     "metadata": {},
     "output_type": "execute_result"
    }
   ],
   "source": [
    "# expand gkg[\"sourcesurl\"] to create a new row for each value in the list\n",
    "\n",
    "gkg.explode(\"sourcesurl\")[\"sourcesurl\"].head()"
   ]
  },
  {
   "cell_type": "code",
   "execution_count": 6,
   "metadata": {},
   "outputs": [],
   "source": [
    "url = gkg.explode(\"sourcesurl\")[\"sourcesurl\"].iloc[0]"
   ]
  },
  {
   "cell_type": "code",
   "execution_count": 2,
   "metadata": {},
   "outputs": [],
   "source": [
    "url = 'https://www.castanetkamloops.net/news/Business/501194/Starbucks-replaces-its-CEO-names-Chipotle-chief-to-head-the-compan'"
   ]
  },
  {
   "cell_type": "code",
   "execution_count": 3,
   "metadata": {},
   "outputs": [],
   "source": [
    "from newspaper import Article\n",
    "\n",
    "article = Article(url)"
   ]
  },
  {
   "cell_type": "code",
   "execution_count": 4,
   "metadata": {},
   "outputs": [],
   "source": [
    "article.download()"
   ]
  },
  {
   "cell_type": "code",
   "execution_count": 5,
   "metadata": {},
   "outputs": [],
   "source": [
    "article.parse()\n",
    "article.nlp()"
   ]
  },
  {
   "cell_type": "code",
   "execution_count": 6,
   "metadata": {},
   "outputs": [
    {
     "data": {
      "text/plain": [
       "['Dee-Ann Durbin', 'The Associated Press -']"
      ]
     },
     "execution_count": 6,
     "metadata": {},
     "output_type": "execute_result"
    }
   ],
   "source": [
    "article.authors"
   ]
  },
  {
   "cell_type": "code",
   "execution_count": 7,
   "metadata": {},
   "outputs": [
    {
     "data": {
      "text/plain": [
       "'Photo: The Canadian Press FILE - A Starbucks mermaid logo sign is displayed on a store, May 29, 2024, in Salem, N.H. (AP Photo/Charles Krupa, File)\\n\\nStarbucks, struggling with weak demand and disgruntled investors, said Tuesday that CEO Laxman Narasimhan is stepping down after a little more than a year in the job.\\n\\nThe Seattle coffee giant said Brian Niccol, the chairman and CEO of Chipotle, will become Starbucks\\' chairman and CEO on Sept. 9.\\n\\nStarbucks shares jumped more than 13% before the market opened.\\n\\nNarasimhan, a longtime PepsiCo executive who has also served as the CEO of Reckitt, a U.K.-based consumer health company, became Starbucks\\' CEO in March 2023. He succeeded Howard Schultz, the longtime Starbucks leader and chairman emeritus who came out of retirement in 2022 to serve as the company\\'s interim CEO.\\n\\nBut investors quickly soured on Narasimhan as the company\\'s sales weakened and it dealt with multiple issues, including competition from lower-cost competitors in China and boycotts in the Middle East and elsewhere due to its perceived support for Israel.\\n\\nMellody Hobson, the chair of Starbucks\\' board of directors, said Niccol has transformed Chipotle since becoming its CEO in 2018 by focusing on menu innovation, operational excellence and digital transformation.\\n\\n“Brian is a culture carrier who brings a wealth of experience and a proven track record of driving innovation and growth,\" Hobson said in a statement. “Like all of us at Starbucks, he understands that a remarkable customer experience is rooted in an exceptional partner experience.”\\n\\nSchultz said he has long admired Niccol.\\n\\n\"I believe he is the leader Starbucks needs at a pivotal moment in its history. He has my respect and full support,” Schultz said in a statement.'"
      ]
     },
     "execution_count": 7,
     "metadata": {},
     "output_type": "execute_result"
    }
   ],
   "source": [
    "article.text"
   ]
  },
  {
   "cell_type": "code",
   "execution_count": 9,
   "metadata": {},
   "outputs": [
    {
     "name": "stdout",
     "output_type": "stream",
     "text": [
      "Help on Article in module newspaper.article object:\n",
      "\n",
      "class Article(builtins.object)\n",
      " |  Article(url, title='', source_url='', config=None, **kwargs)\n",
      " |\n",
      " |  Article objects abstract an online news article page\n",
      " |\n",
      " |  Methods defined here:\n",
      " |\n",
      " |  __init__(self, url, title='', source_url='', config=None, **kwargs)\n",
      " |      The **kwargs argument may be filled with config values, which\n",
      " |      is added into the config object\n",
      " |\n",
      " |  build(self)\n",
      " |      Build a lone article from a URL independent of the source (newspaper).\n",
      " |      Don't normally call this method b/c it's good to multithread articles\n",
      " |      on a source (newspaper) level.\n",
      " |\n",
      " |  build_resource_path(self)\n",
      " |      Must be called after computing HTML/final URL\n",
      " |\n",
      " |  download(self, input_html=None, title=None, recursion_counter=0)\n",
      " |      Downloads the link's HTML content, don't use if you are batch async\n",
      " |      downloading articles\n",
      " |\n",
      " |      recursion_counter (currently 1) stops refreshes that are potentially\n",
      " |      infinite\n",
      " |\n",
      " |  fetch_images(self)\n",
      " |\n",
      " |  get_parse_candidate(self)\n",
      " |      A parse candidate is a wrapper object holding a link hash of this\n",
      " |      article and a final_url of the article\n",
      " |\n",
      " |  get_resource_path(self)\n",
      " |      Every article object has a special directory to store data in from\n",
      " |      initialization to garbage collection\n",
      " |\n",
      " |  has_top_image(self)\n",
      " |\n",
      " |  is_media_news(self)\n",
      " |      If the article is related heavily to media:\n",
      " |      gallery, video, big pictures, etc\n",
      " |\n",
      " |  is_valid_body(self)\n",
      " |      If the article's body text is long enough to meet\n",
      " |      standard article requirements, keep the article\n",
      " |\n",
      " |  is_valid_url(self)\n",
      " |      Performs a check on the url of this link to determine if article\n",
      " |      is a real news article or not\n",
      " |\n",
      " |  nlp(self)\n",
      " |      Keyword extraction wrapper\n",
      " |\n",
      " |  parse(self)\n",
      " |\n",
      " |  release_resources(self)\n",
      " |\n",
      " |  set_article_html(self, article_html)\n",
      " |      Sets the HTML of just the article's `top_node`\n",
      " |\n",
      " |  set_authors(self, authors)\n",
      " |      Authors are in [\"firstName lastName\", \"firstName lastName\"] format\n",
      " |\n",
      " |  set_canonical_link(self, canonical_link)\n",
      " |\n",
      " |  set_html(self, html)\n",
      " |      Encode HTML before setting it\n",
      " |\n",
      " |  set_imgs(self, imgs)\n",
      " |      The motive for this method is the same as above, provide APIs\n",
      " |      for both `article.imgs` and `article.images`\n",
      " |\n",
      " |  set_keywords(self, keywords)\n",
      " |      Keys are stored in list format\n",
      " |\n",
      " |  set_meta_data(self, meta_data)\n",
      " |\n",
      " |  set_meta_description(self, meta_description)\n",
      " |\n",
      " |  set_meta_favicon(self, meta_favicon)\n",
      " |\n",
      " |  set_meta_img(self, src_url)\n",
      " |\n",
      " |  set_meta_keywords(self, meta_keywords)\n",
      " |      Store the keys in list form\n",
      " |\n",
      " |  set_meta_language(self, meta_lang)\n",
      " |      Save langauges in their ISO 2-character form\n",
      " |\n",
      " |  set_movies(self, movie_objects)\n",
      " |      Trim video objects into just urls\n",
      " |\n",
      " |  set_reddit_top_img(self)\n",
      " |      Wrapper for setting images. Queries known image attributes\n",
      " |      first, then uses Reddit's image algorithm as a fallback.\n",
      " |\n",
      " |  set_summary(self, summary)\n",
      " |      Summary here refers to a paragraph of text from the\n",
      " |      title text and body text\n",
      " |\n",
      " |  set_tags(self, tags)\n",
      " |\n",
      " |  set_text(self, text)\n",
      " |\n",
      " |  set_title(self, input_title)\n",
      " |\n",
      " |  set_top_img(self, src_url)\n",
      " |\n",
      " |  set_top_img_no_check(self, src_url)\n",
      " |      Provide 2 APIs for images. One at \"top_img\", \"imgs\"\n",
      " |      and one at \"top_image\", \"images\"\n",
      " |\n",
      " |  throw_if_not_downloaded_verbose(self)\n",
      " |      Parse ArticleDownloadState -> log readable status\n",
      " |      -> maybe throw ArticleException\n",
      " |\n",
      " |  throw_if_not_parsed_verbose(self)\n",
      " |      Parse `is_parsed` status -> log readable status\n",
      " |      -> maybe throw ArticleException\n",
      " |\n",
      " |  ----------------------------------------------------------------------\n",
      " |  Data descriptors defined here:\n",
      " |\n",
      " |  __dict__\n",
      " |      dictionary for instance variables\n",
      " |\n",
      " |  __weakref__\n",
      " |      list of weak references to the object\n",
      "\n"
     ]
    }
   ],
   "source": [
    "help(article)"
   ]
  },
  {
   "cell_type": "code",
   "execution_count": 10,
   "metadata": {},
   "outputs": [
    {
     "data": {
      "text/plain": [
       "{'config': <newspaper.configuration.Configuration at 0x105dc2a80>,\n",
       " 'extractor': <newspaper.extractors.ContentExtractor at 0x105dc11c0>,\n",
       " 'source_url': 'https://www.castanetkamloops.net',\n",
       " 'url': 'https://www.castanetkamloops.net/news/Business/501194/Starbucks-replaces-its-CEO-names-Chipotle-chief-to-head-the-compan',\n",
       " 'title': 'Starbucks replaces its CEO, names Chipotle chief to head the company - Business News',\n",
       " 'top_img': 'https://www.castanet.net/content/2024/8/37a61014e499717cd703e4a6c1730cc550663707ea732a0d131787b5c7e8e517_p3883387.jpg',\n",
       " 'top_image': 'https://www.castanet.net/content/2024/8/37a61014e499717cd703e4a6c1730cc550663707ea732a0d131787b5c7e8e517_p3883387.jpg',\n",
       " 'meta_img': 'https://www.castanet.net/content/2024/8/37a61014e499717cd703e4a6c1730cc550663707ea732a0d131787b5c7e8e517_p3883387.jpg',\n",
       " 'imgs': {'https://c.castanet.net/img/45/5042861-1-1.jpg',\n",
       "  'https://sb.scorecardresearch.com/p?c1=2&c2=6034663&cv=3.6.0&cj=1',\n",
       "  'https://www.castanet.net/content/2024/8/37a61014e499717cd703e4a6c1730cc550663707ea732a0d131787b5c7e8e517_p3883387.jpg',\n",
       "  'https://www.castanetkamloops.net/content/2024/8/37a61014e499717cd703e4a6c1730cc550663707ea732a0d131787b5c7e8e517_p3883387.jpg',\n",
       "  'https://www.castanetkamloops.net/content/2024/8/square/thumb/1_p3883700.jpg',\n",
       "  'https://www.castanetkamloops.net/content/2024/8/square/thumb/23111f9ca2f2d77887f3919b3968d1da27a36266871b62d15b427edd2480107b_p3887144.jpg',\n",
       "  'https://www.castanetkamloops.net/content/2024/8/square/thumb/25cd18df08aa82e93429364aeef5b57900720c66a8c49fb56c10a4bb124d1ff2_p3887165.jpg',\n",
       "  'https://www.castanetkamloops.net/content/2024/8/square/thumb/268b6d983238781b616a99e915b77860b300833d943c087cac92e151351b1497_p3887199.jpg',\n",
       "  'https://www.castanetkamloops.net/content/2024/8/square/thumb/42471330034d0b8ad93b7c3d1bd49cea51c9eeecc41547a224c45ff16f1a524c_p3887386.jpg',\n",
       "  'https://www.castanetkamloops.net/content/2024/8/square/thumb/490f06b4fe7d07adddbd0ba0b7f403737b201d89059192dcd8d87ee571f0bfc1_p3887092.jpg',\n",
       "  'https://www.castanetkamloops.net/content/2024/8/square/thumb/827c5a347bdf50bfef0605bb85e1e8320c74d4de4e01ecc6eed7d7f72a217535_p3885500.jpg',\n",
       "  'https://www.castanetkamloops.net/content/2024/8/square/thumb/9d15ba6ac7bc5b3fc0d211ed4b7e8776d1e6c42291352edec4467fd3b52ad574_p3885387.jpg',\n",
       "  'https://www.castanetkamloops.net/content/2024/8/square/thumb/bang_99962_p.jpg',\n",
       "  'https://www.castanetkamloops.net/content/2024/8/square/thumb/bang_99965_p.jpg',\n",
       "  'https://www.castanetkamloops.net/content/2024/8/square/thumb/bang_99969_p.jpg',\n",
       "  'https://www.castanetkamloops.net/content/2024/8/square/thumb/d56f2ee62f4bdfb886c759714d12c0800b409e305b0165d88c400761f39980fa_p3887149.jpg',\n",
       "  'https://www.castanetkamloops.net/content/2024/8/square/thumb/glacier_112981_p.jpg',\n",
       "  'https://www.castanetkamloops.net/content/2024/8/square/thumb/glacier_112995_p.jpg',\n",
       "  'https://www.castanetkamloops.net/content/2024/8/square/thumb/img_0361_p3883479.jpg',\n",
       "  'https://www.castanetkamloops.net/content/2024/8/thumb/501154_1.jpg',\n",
       "  'https://www.castanetkamloops.net/content/2024/8/thumb/501900_0.jpg',\n",
       "  'https://www.castanetkamloops.net/content/2024/8/thumb/501919_0.jpg',\n",
       "  'https://www.castanetkamloops.net/images/new-red.png',\n",
       "  'https://www.castanetkamloops.net/images/pressroom-300x150-rev.jpg',\n",
       "  'https://www.castanetkamloops.net/img/RTNDA.jpg',\n",
       "  'https://www.castanetkamloops.net/img/TheMarket-5.jpg',\n",
       "  'https://www.castanetkamloops.net/img/mh/CastanetM.png',\n",
       "  'https://www.castanetkamloops.net/img/mh/KamloopsM.png',\n",
       "  'https://www.castanetkamloops.net/img/mh/logo.e0bd1e4c.svg',\n",
       "  'https://www.castanetkamloops.net/mh/flyout-fin.png',\n",
       "  'https://www.facebook.com/tr?id=848449583451351&ev=PageView&noscript=1',\n",
       "  'https://x.castanet.net/AGutterWindowCleaningALLLOCATIONS/24-05/display/APlusGutter-Spec-Newa.gif',\n",
       "  'https://x.castanet.net/ArtWalk/24-07/display/LCArtWalk-MR1.gif',\n",
       "  'https://x.castanet.net/BCLCCossetteMedia/24-07/display/BCLC_Community_Outreach_DisplayAd_300x600_Kamloops.gif',\n",
       "  'https://x.castanet.net/DesignerAppliances/24-07/display/DesignerAppliances-July2024-FP1b.jpg',\n",
       "  'https://x.castanet.net/FoxandSons/24-05/display/FoxandSons-SummerComfort-HP1.jpg',\n",
       "  'https://x.castanet.net/IPE/24-07/display/IPE-Tickets-PR1.jpg',\n",
       "  'https://x.castanet.net/KamloopsSymphony/24-08/display/KSO_Kids_Concerts_Castanet_Leaderboard.gif',\n",
       "  'https://x.castanet.net/TotalRestorationKamloops/24-07/display/TotalRestorationKamloops-ComingSoon-HP2.gif',\n",
       "  'https://x.castanet.net/YoungDrivers/22-12/display/YoungDriversofCanada-MR1.gif'},\n",
       " 'images': {'https://c.castanet.net/img/45/5042861-1-1.jpg',\n",
       "  'https://sb.scorecardresearch.com/p?c1=2&c2=6034663&cv=3.6.0&cj=1',\n",
       "  'https://www.castanet.net/content/2024/8/37a61014e499717cd703e4a6c1730cc550663707ea732a0d131787b5c7e8e517_p3883387.jpg',\n",
       "  'https://www.castanetkamloops.net/content/2024/8/37a61014e499717cd703e4a6c1730cc550663707ea732a0d131787b5c7e8e517_p3883387.jpg',\n",
       "  'https://www.castanetkamloops.net/content/2024/8/square/thumb/1_p3883700.jpg',\n",
       "  'https://www.castanetkamloops.net/content/2024/8/square/thumb/23111f9ca2f2d77887f3919b3968d1da27a36266871b62d15b427edd2480107b_p3887144.jpg',\n",
       "  'https://www.castanetkamloops.net/content/2024/8/square/thumb/25cd18df08aa82e93429364aeef5b57900720c66a8c49fb56c10a4bb124d1ff2_p3887165.jpg',\n",
       "  'https://www.castanetkamloops.net/content/2024/8/square/thumb/268b6d983238781b616a99e915b77860b300833d943c087cac92e151351b1497_p3887199.jpg',\n",
       "  'https://www.castanetkamloops.net/content/2024/8/square/thumb/42471330034d0b8ad93b7c3d1bd49cea51c9eeecc41547a224c45ff16f1a524c_p3887386.jpg',\n",
       "  'https://www.castanetkamloops.net/content/2024/8/square/thumb/490f06b4fe7d07adddbd0ba0b7f403737b201d89059192dcd8d87ee571f0bfc1_p3887092.jpg',\n",
       "  'https://www.castanetkamloops.net/content/2024/8/square/thumb/827c5a347bdf50bfef0605bb85e1e8320c74d4de4e01ecc6eed7d7f72a217535_p3885500.jpg',\n",
       "  'https://www.castanetkamloops.net/content/2024/8/square/thumb/9d15ba6ac7bc5b3fc0d211ed4b7e8776d1e6c42291352edec4467fd3b52ad574_p3885387.jpg',\n",
       "  'https://www.castanetkamloops.net/content/2024/8/square/thumb/bang_99962_p.jpg',\n",
       "  'https://www.castanetkamloops.net/content/2024/8/square/thumb/bang_99965_p.jpg',\n",
       "  'https://www.castanetkamloops.net/content/2024/8/square/thumb/bang_99969_p.jpg',\n",
       "  'https://www.castanetkamloops.net/content/2024/8/square/thumb/d56f2ee62f4bdfb886c759714d12c0800b409e305b0165d88c400761f39980fa_p3887149.jpg',\n",
       "  'https://www.castanetkamloops.net/content/2024/8/square/thumb/glacier_112981_p.jpg',\n",
       "  'https://www.castanetkamloops.net/content/2024/8/square/thumb/glacier_112995_p.jpg',\n",
       "  'https://www.castanetkamloops.net/content/2024/8/square/thumb/img_0361_p3883479.jpg',\n",
       "  'https://www.castanetkamloops.net/content/2024/8/thumb/501154_1.jpg',\n",
       "  'https://www.castanetkamloops.net/content/2024/8/thumb/501900_0.jpg',\n",
       "  'https://www.castanetkamloops.net/content/2024/8/thumb/501919_0.jpg',\n",
       "  'https://www.castanetkamloops.net/images/new-red.png',\n",
       "  'https://www.castanetkamloops.net/images/pressroom-300x150-rev.jpg',\n",
       "  'https://www.castanetkamloops.net/img/RTNDA.jpg',\n",
       "  'https://www.castanetkamloops.net/img/TheMarket-5.jpg',\n",
       "  'https://www.castanetkamloops.net/img/mh/CastanetM.png',\n",
       "  'https://www.castanetkamloops.net/img/mh/KamloopsM.png',\n",
       "  'https://www.castanetkamloops.net/img/mh/logo.e0bd1e4c.svg',\n",
       "  'https://www.castanetkamloops.net/mh/flyout-fin.png',\n",
       "  'https://www.facebook.com/tr?id=848449583451351&ev=PageView&noscript=1',\n",
       "  'https://x.castanet.net/AGutterWindowCleaningALLLOCATIONS/24-05/display/APlusGutter-Spec-Newa.gif',\n",
       "  'https://x.castanet.net/ArtWalk/24-07/display/LCArtWalk-MR1.gif',\n",
       "  'https://x.castanet.net/BCLCCossetteMedia/24-07/display/BCLC_Community_Outreach_DisplayAd_300x600_Kamloops.gif',\n",
       "  'https://x.castanet.net/DesignerAppliances/24-07/display/DesignerAppliances-July2024-FP1b.jpg',\n",
       "  'https://x.castanet.net/FoxandSons/24-05/display/FoxandSons-SummerComfort-HP1.jpg',\n",
       "  'https://x.castanet.net/IPE/24-07/display/IPE-Tickets-PR1.jpg',\n",
       "  'https://x.castanet.net/KamloopsSymphony/24-08/display/KSO_Kids_Concerts_Castanet_Leaderboard.gif',\n",
       "  'https://x.castanet.net/TotalRestorationKamloops/24-07/display/TotalRestorationKamloops-ComingSoon-HP2.gif',\n",
       "  'https://x.castanet.net/YoungDrivers/22-12/display/YoungDriversofCanada-MR1.gif'},\n",
       " 'movies': [],\n",
       " 'text': 'Photo: The Canadian Press FILE - A Starbucks mermaid logo sign is displayed on a store, May 29, 2024, in Salem, N.H. (AP Photo/Charles Krupa, File)\\n\\nStarbucks, struggling with weak demand and disgruntled investors, said Tuesday that CEO Laxman Narasimhan is stepping down after a little more than a year in the job.\\n\\nThe Seattle coffee giant said Brian Niccol, the chairman and CEO of Chipotle, will become Starbucks\\' chairman and CEO on Sept. 9.\\n\\nStarbucks shares jumped more than 13% before the market opened.\\n\\nNarasimhan, a longtime PepsiCo executive who has also served as the CEO of Reckitt, a U.K.-based consumer health company, became Starbucks\\' CEO in March 2023. He succeeded Howard Schultz, the longtime Starbucks leader and chairman emeritus who came out of retirement in 2022 to serve as the company\\'s interim CEO.\\n\\nBut investors quickly soured on Narasimhan as the company\\'s sales weakened and it dealt with multiple issues, including competition from lower-cost competitors in China and boycotts in the Middle East and elsewhere due to its perceived support for Israel.\\n\\nMellody Hobson, the chair of Starbucks\\' board of directors, said Niccol has transformed Chipotle since becoming its CEO in 2018 by focusing on menu innovation, operational excellence and digital transformation.\\n\\n“Brian is a culture carrier who brings a wealth of experience and a proven track record of driving innovation and growth,\" Hobson said in a statement. “Like all of us at Starbucks, he understands that a remarkable customer experience is rooted in an exceptional partner experience.”\\n\\nSchultz said he has long admired Niccol.\\n\\n\"I believe he is the leader Starbucks needs at a pivotal moment in its history. He has my respect and full support,” Schultz said in a statement.',\n",
       " 'keywords': [],\n",
       " 'meta_keywords': [''],\n",
       " 'tags': set(),\n",
       " 'authors': ['Dee-Ann Durbin', 'The Associated Press -'],\n",
       " 'publish_date': datetime.datetime(2024, 8, 13, 7, 8),\n",
       " 'summary': '',\n",
       " 'html': '<!DOCTYPE html>\\n<html lang=\"en\">\\n<head>\\n<meta property=\"fb:app_id\" content=\"1495581714056366\"/>\\n<meta http-equiv=\"Content-Type\" content=\"text/html; charset=utf-8\" />\\n<title>Starbucks replaces its CEO, names Chipotle chief to head the company - Business News - CastanetKamloops.net</title>\\n<meta name=\"twitter:card\" content=\"summary_large_image\"/>\\n<meta name=\"twitter:site\" content=\"@CastanetNews\"/>\\n<meta property=\"og:type\" content=\"article\"/>\\n<meta property=\"article:publisher\" content=\"https://www.facebook.com/Castanet.net\"/>\\n<meta property=\"article:content_tier\" content=\"free\"/>\\n<meta property=\"article:opinion\" content=\"false\"/>\\n<meta property=\"og:title\" content=\"Starbucks replaces its CEO, names Chipotle chief to head the company - Business News\"/>\\n<meta name=\"description\" content=\"Starbucks, struggling with weak demand and disgruntled investors, said Tuesday that CEO Laxman Narasimhan is stepping down after a little more than a year in the job.\"/>\\n<meta property=\"og:description\" content=\"Starbucks, struggling with weak demand and disgruntled investors, said Tuesday that CEO Laxman Narasimhan is stepping down after a little more than a year in the job.\"/>\\n<link rel=\"canonical\" href=\"https://www.castanet.net/news/Business/501194/Starbucks-replaces-its-CEO-names-Chipotle-chief-to-head-the-company\"/>\\n<meta property=\"og:url\" content=\"https://www.castanet.net/news/Business/501194/Starbucks-replaces-its-CEO-names-Chipotle-chief-to-head-the-company\"/>\\n<meta property=\"og:image\" content=\"https://www.castanet.net/content/2024/8/37a61014e499717cd703e4a6c1730cc550663707ea732a0d131787b5c7e8e517_p3883387.jpg\"/>\\n<link href=\"https://www.castanet.net/rss/page-6.xml\" rel=\"alternate\" type=\"application/rss+xml\" title=\"Castanet - Business\" />\\n<meta name=\"referrer\" content=\"always\"/>\\n<link rel=\"dns-prefetch\" href=\"https://www.google-analytics.com/\" />\\n<link rel=\"preconnect\" href=\"https://www.google-analytics.com/\" />\\n<link rel=\"preconnect\" href=\"https://fonts.googleapis.com\"/>\\n<link rel=\"preconnect\" href=\"https://fonts.gstatic.com\" crossorigin/>\\n<link href=\\'https://fonts.googleapis.com/css?family=Open+Sans:400,600&display=swap\\' rel=\\'stylesheet\\' type=\\'text/css\\'/>\\n<!--[if lt IE 8]><link rel=\"stylesheet\" type=\"text/css\" href=\"/css/ie7.css\" /><![endif]-->\\n<link rel=\"stylesheet\" type=\"text/css\" href=\"/css/new93.css\" />\\n<link rel=\"stylesheet\" type=\"text/css\" href=\"/css/business8.css\" />\\n<style type=\"text/css\">\\n#content{margin-top:15px}\\nh4{font-weight:normal}\\n#s1 {width:300px;margin-right:40px}\\n#s2 {width:300px}\\n#s1headlines {width:300px}\\n#s1headlines ul li {padding-bottom:10px}\\n#s1headlines ul li span {line-height:14px}\\n\\n#s1photo {width:320px}\\n#s1photo a {margin:0 !important}\\n#s1photo h1, #s1photo h1 a {font-size:19px;font-weight:normal;margin-top:0 !important}\\n.s1phtitle {font-size:11px}\\n.s1phtitle div {padding:0 0 0 0;margin:5px}\\n.photo_credit {font-size:11px;font-style:normal;color:#000}\\n\\nh3, h3 a {font-size:19px;line-height:19px;font-weight:normal !important}\\n.newsstory h3,.newsstory h4,.newsstory h5 {font-size:14px;line-height:1.35em;margin-bottom:14px;font-weight:600 !important}\\n.newsstory.mobiledev h3,.newsstory.mobiledev h4,.newsstory.mobiledev h5 {font-size:38px}\\n.video video {max-width:640px}\\n#sfad {padding-left:0 !important;padding-right:0 !important;background-color:transparent !important}\\n#movies, #svault, .d300 {border-radius:7px;overflow:hidden}\\n.d300100 {border-radius:7px;overflow:hidden;width:300px;height:100px}\\n.d300250 {border-radius:7px;overflow:hidden;width:300px;height:250px}\\n#movies img {border-radius:7px}\\n.icnews span {position:absolute;font-size:14px;font-weight:normal;top:10px;left:10px;text-shadow:1px 1px 3px #000, 1px 1px 3px #000, 1px 1px 3px #000, 1px 1px 3px #000}\\n.icnews {border-top-right-radius:7px;overflow:hidden;margin:0 0 0 40px;width:130px}\\n.icnews a {color:#000}\\n.icnews img {width:130px;height:130px;max-width:130px;max-height:130px;margin:0 0 10px 0;box-shadow:0 1px 3px rgba(0, 0, 0, 0.41);vertical-align:bottom}\\n.icnews h3, .icnews h3 a {font-size:14px !important;line-height:17px}\\n.icnews img {border-radius:7px}\\n#sc {border-radius:7px}\\n#eventtop img, #eventbot img {border-radius:7px}\\n#sc img, #vault img {border-radius:7px}\\n.scolumns img {padding:0;margin-right:10px}\\n#ft2 {border-top-left-radius:7px;border-top-right-radius:7px;overflow:hidden;margin-top:0}\\n#ftlinks {background:#fdcf01}\\n.ftcol h4, .ftcol h4 a, .ftcol li a {color:#274b98}\\n#ftbot, #bftright {background-color:#3662ad}\\n\\n#s1photo h1 {float:none !important}\\n.greyBox3, #bc-related, #tango_top {border-radius:7px}\\n.stocktable {border-radius:7px;margin-bottom:40px;float:none}\\ntable.stocktable td.title {border-top-left-radius:7px;border-top-right-radius:7px}\\n#recentop {border-top-left-radius:7px;border-top-right-radius:7px;margin-top:40px}\\n.trending {border-bottom-left-radius:7px;border-bottom-right-radius:7px;margin-bottom:40px;overflow:hidden}\\n.thetango_widget {border-bottom-left-radius:7px;border-bottom-right-radius:7px}\\n.d300600 {border-radius:7px;overflow:hidden;width:300px;height:600px}\\n.gallery img {border-radius:7px}\\n#footer {border-radius:7px;margin-top:40px;background:#3662ad}\\n#related {border-radius:7px}\\n.greyBox3 {overflow:hidden}\\n\\n#newsarchive {display:block;font-size:19px;font-weight:600;text-align:center;text-decoration:underline}\\n#newsarchive:hover, .ql-related-links:hover {text-decoration:underline;color:#4a597f}\\n.stick_pad {position:fixed !important;top:10px !important}\\n\\n.cell_row {width:100%;float:left}\\n.cell_row .qt {float:left;margin:10px 0 10px 5px;width:19%;text-align:center}\\n.cell_row h2 {font-size:19px}\\n.pic img {border-radius:5px}\\n.cell_row h2 {padding:4px 0 3px 0;width:100% !important;background-image:url(/images/election_city_bg.jpg);text-indent:20px;background-color:#d8d8d8;background-repeat:repeat-y;background-position:right center;border-radius:5px}\\n\\n.backhome {margin-bottom:20px}\\n.backhome a {font-weight:600;text-decoration:underline}\\n.backhome.mobiledev {margin-bottom:32px}\\n.backhome.mobiledev a {font-size:32px;line-height:1.35em}\\n.sfoot1 {width:44px;height:66px;display:inline-block;background:no-repeat url(/images/story-footer.png) 0px 0px;position:relative}\\n.sfoot1 span {position:absolute;bottom:0;left:3px;color:#7d7e81}\\n.sfoot2 {margin-left:34px;width:44px;height:66px;display:inline-block;background:no-repeat url(/images/story-footer.png) -43px 0px;position:relative}\\n.sfoot2 span {position:absolute;bottom:0;left:-9px;width:70px;color:#7d7e81}\\n.sfoot3 {margin-left:34px;width:44px;height:66px;display:inline-block;background:no-repeat url(/images/story-footer.png) -87px 0px;position:relative}\\n.sfoot3 span {position:absolute;bottom:0;left:-2px;color:#7d7e81}\\n.scomments {margin-top:10px}\\n.scomments a {font-weight:600}\\n.newsletter {width:640px;height:46px;margin-top:10px}\\n.sfoot4 {width:268px;height:44px;display:inline-block;background:no-repeat url(/images/story-footer.png) -130px 0px;position:relative;box-sizing:border-box;padding-left:50px}\\n.sfoot4 span {clear:both;font-size:11px;line-height:11px;color:#7d7e81;display:inline-block;width:209px}\\n.sfoot4 p {color:#3c6eb6;text-transform:uppercase;font-style:italic}\\n.mc_embed_signup {width:370px;float:right;position:relative}\\n.mc_embed_signup input {-webkit-appearance:none;-moz-appearance:none;appearance:none}\\n.mc_embed_signup .email {width:235px;height:44px;box-sizing:border-box;border-radius:7px;border-color:#cedbed;padding-left:10px;font-size:14px}\\n.mc_embed_signup .button {position:absolute;top:0;right:0;text-transform:uppercase;font-style:italic;background:#3c6eb6;color:#fff;border:none;border-radius:7px;height:44px;line-height:42px;font-size:21px;padding:0 10px 0 10px}\\n.st-right {float:right;width:400px}\\n.recent-news {border-top:1px solid #d6d6d6;border-bottom:1px solid #d6d6d6;width:300px;margin-bottom:50px}\\n.recent-news span {display:block}\\n.recent-title {font-size:21px;font-weight:700;font-style:italic;letter-spacing:0.5px;margin-top:40px}\\n.recent-img {width:100px;height:75px;background-size:cover;display:inline-block}\\n.recent-info {width:185px;margin-left:10px;display:inline-block;vertical-align:top;font-size:12px}\\n.recent-headline {font-size:18px;margin-top:5px;font-weight:400}\\n.recent-morelink {float:right;margin-right:5px;font-weight:600;margin-top:3px;font-size:12px;font-style:italic}\\n.recent-news #body1 {padding-left:0px;margin:5px 0}\\n.recent-news #body1 li {list-style-type:none;clear:both;height:79px}\\n.hasfull, .hasfull a {font-size:20px;font-weight:700 !important;color:#525252;text-transform:uppercase}\\n.newsheadlinefull {font-size:29px;line-height:31px;font-weight:700;padding-top:35px;margin-bottom:10px}\\n.newsheadlinefull a {font-size:29px;line-height:31px;font-weight:700}\\n\\n.postcomment {margin-bottom:10px}\\n.postcomment a {font-weight:600 !important;text-decoration:underline !important}\\n.postcomment p {text-align:center}\\n.commentlink {display:block;float:right;margin-bottom:10px}\\n.commentlink.mobiledev {font-size:32px;line-height:1.35em}\\n.postcomment .errormsg {text-align:center;background-color:#ffdcdc;border-radius:7px;padding:10px;border:solid 2px #bc0000}\\n.postcomment .submit {\\ncolor: #fff !important;\\nborder: solid 1px #2874d7;\\nbackground: #5891e7 url(/images/button-shade.png) no-repeat center top;\\nbackground-size: auto;\\nbackground-size: 100% 95%;\\nborder-radius: 7px;\\nwidth: auto !important;\\nheight: auto !important;\\npadding: 6px 45px !important;\\nline-height: 16px;\\nfont-weight: 400;\\nmargin-top:10px;\\ndisplay: block;\\nfont-size: 14px;\\nfloat:right;\\n}\\n.scomments {clear:both;border-radius:7px;overflow:hidden}\\n.scomments > a {background:#3662ad;color:#fff;padding:10px;display:block;text-align:center;font-size:1.2em}\\n.scomments > a:hover {color:#fff;text-decoration:underline}\\n.comments {width:100%;height:auto;max-height:500px;display:block;overflow-y:auto}\\n.comments a {text-decoration:none;color:#000}\\n.comments a:hover {text-decoration:underline}\\n.comment {border-bottom:6px solid #3662ad;padding-bottom:20px;font-size:1em}\\n.comments blockquote {background-color:#fafafa;border:1px solid #ccc;border-radius:7px;padding:5px;margin:1em 1px 1em 25px}\\n.comments blockquote blockquote {background-color:#fff;margin:1em 1px 1em 15px}\\n.comments blockquote cite {display:block;font-style:normal;margin-bottom:10px}\\n.comments blockquote cite > span {float:right;font-size:0.9px}\\n.comments blockquote cite a {color:#3d6eb7}\\n.comments .smilies {vertical-align:text-bottom}\\n.comments .emoji {min-height:18px;min-width:18px;height:1em;width:1em}\\n.commentor {margin-top:10px}\\n.commentor a {font-weight:700;font-size:1.2em;color:#3d6eb7}\\n.commentor time {color:#5c656f;font-size:0.9em;display:block}\\n.postlink {color:#3d6eb7}\\n.commentform {margin:10px 0 20px 0}\\n.commentform textarea {font-size:1em;font-family:inherit;margin-top:10px;padding:0.5em;box-sizing:border-box;border:1px solid silver;border-radius:7px;width:100%;height:100px}\\n\\n@media print {\\n#rnews,#hdad,#hdrbuttons,#ftbot,#newsheader,#footlb,#myhomepage span,.mhsform,.megawrap,.contentfooter {display:none}\\n#backtotop {display:none !important}\\n#mh {position:relative !important}\\n#hdedition {background:none}\\n#hdedition span {color:transparent}\\n#hdedition a {display:none}\\n#content {margin-top:0 !important}\\n#lnews {width:980px}\\n}\\n</style>\\n<script src=\"https://ajax.googleapis.com/ajax/libs/jquery/1.12.4/jquery.min.js\"></script>\\n<script src=\"https://ajax.googleapis.com/ajax/libs/jqueryui/1.13.3/jquery-ui.min.js\"></script>\\n<script src=\"/js/tools-3news.js\"></script>\\n<script async src=\"https://www.googletagmanager.com/gtag/js?id=G-4EN6WDLDQD\"></script>\\n<script>\\nwindow.dataLayer = window.dataLayer || [];\\nfunction gtag(){dataLayer.push(arguments);}\\ngtag(\\'js\\', new Date());\\ngtag(\\'config\\', \\'G-4EN6WDLDQD\\');\\n</script>\\n<script type=\"text/javascript\">\\nvar _comscore = _comscore || [];\\n_comscore.push({ c1: \"2\", c2: \"6034663\" });\\n(function() {\\nvar s = document.createElement(\"script\"), el = document.getElementsByTagName(\"script\")[0]; s.async = true;\\ns.src = \"https://sb.scorecardresearch.com/cs/6034663/beacon.js\";\\nel.parentNode.insertBefore(s, el);\\n})();\\n</script>\\n<script type=\"text/javascript\" src=\"https://platform-api.sharethis.com/js/sharethis.js#property=642df0317e455e00129f0eb4&product=inline-share-buttons&source=platform\" async=\"async\"></script>\\n<script>\\n!function(f,b,e,v,n,t,s) {if(f.fbq)return;n=f.fbq=function(){n.callMethod? n.callMethod.apply(n,arguments):n.queue.push(arguments)}; if(!f._fbq)f._fbq=n;n.push=n;n.loaded=!0;n.version=\\'2.0\\'; n.queue=[];t=b.createElement(e);t.async=!0; t.src=v;s=b.getElementsByTagName(e)[0]; s.parentNode.insertBefore(t,s)}(window, document,\\'script\\', \\'https://connect.facebook.net/en_US/fbevents.js\\');\\nfbq(\\'init\\', \\'848449583451351\\');\\nfbq(\\'track\\', \\'PageView\\');\\n</script>\\n<noscript><img height=\"1\" width=\"1\" style=\"display:none\" src=\"https://www.facebook.com/tr?id=848449583451351&ev=PageView&noscript=1\" /></noscript>\\n</head>\\n\\n<body>\\n<div class=\"mobileframe\">\\n<div id=\"frame\">\\n<script type=\"text/javascript\">var sfPage=\"sfBusiness\";</script>\\n<div id=\"mh\" class=\"kamloops-mh\">\\n\\t<div id=\"hd\">\\n\\t\\t<div id=\"hdl\">\\n\\t\\t\\t<a href=\"https://www.castanetkamloops.net/\"><img srcset=\"//www.castanetkamloops.net/img/mh/CastanetM.svg\" src=\"//www.castanetkamloops.net/img/mh/CastanetM.png\" alt=\"Castanet\" title=\"Go Home\" class=\"mhlogo2\" width=\"195\" height=\"51\"/></a>\\n\\t\\t</div>\\n\\t\\t<div id=\"hdr\">\\n<div id=\"hdrwx\">\\n<a id=\"header_weather\" href=\"https://www.castanetkamloops.net/weather/Kamloops\" title=\"Kamloops Weather\" style=\"position:relative;margin:0;background:url(\\'//www.castanet.net/images/weather/icon/01.png\\') no-repeat top;background-size:50px 40px;width:50px;height:40px\"><span style=\"position:absolute;top:14px;left:10px\">27&deg;C</span></a></div>\\n\\n<div style=\"float:right;margin-top:15px;margin-right:5px\"><a href=\"https://www.rew.ca/okanagan\" target=\"_blank\" rel=\"noopener\"><img alt=\"REW Logo\" width=\"80\" height=\"20\" src=\"//www.castanetkamloops.net/img/mh/logo.e0bd1e4c.svg\" /><img src=\"/images/new-red.png\" width=\"25\" height=\"20\" alt=\"new feature\" style=\"position:absolute;top:1px;right:75px\"/></a></div>\\n\\t\\t</div>\\n\\n<div style=\"clear:both;margin:0 0 0 5px;line-height:18px\">\\n<div id=\"hdedition\" title=\"Choose your city\">\\n<span>city</span>\\n<a id=\"cityl\" href=\"https://www.castanet.net/penticton/\">&lsaquo;</a>\\n<a id=\"cityr\" href=\"https://www.castanet.net/osoyoos/\">&rsaquo;</a>\\n</div>\\n<div id=\"myhomepage\">\\n<a href=\"https://www.castanetkamloops.net/\" title=\"Choose your city\">\\n<img srcset=\"https://www.castanetkamloops.net/img/mh/KamloopsM.svg\" src=\"https://www.castanetkamloops.net/img/mh/KamloopsM.png\" alt=\"CastanetKamloops.net\" style=\"width:128px;height:13px\" width=\"128\" height=\"13\"></a> <span><a title=\"Kelowna\" href=\"https://www.castanet.net/kelowna/\">&#9679;</a><a title=\"Vernon\" href=\"https://www.castanet.net/vernon/\">&#9679;</a><a title=\"Penticton\" href=\"https://www.castanet.net/penticton/\">&#9679;</a><a class=\"hpselect\" title=\"Kamloops\" href=\"https://www.castanetkamloops.net/\">&#9679;</a><a title=\"Oliver / Osoyoos\" href=\"https://www.castanet.net/osoyoos/\">&#9679;</a><a title=\"Salmon Arm\" href=\"https://www.castanet.net/salmon-arm/\">&#9679;</a></span>\\n</div>\\n<div class=\"searchmh\">\\n<span id=\"mhdate\">Saturday, Aug 17</span><form class=\"mhsform\" name=\"newsearchg\" action=\"https://www.google.com/search\">\\n<input type=\"text\" name=\"q\" title=\"Google\" placeholder=\"Google\" autocomplete=\"off\"/>\\n<input type=\"image\" name=\"submit\" src=\"//www.castanetkamloops.net/images/mhsearchbutton.png\" style=\"width:15px;height:15px;position:absolute;top:0px;right:2px\" alt=\"Submit\"/>\\n</form>\\n</div>\\n<div class=\"searchmh\" style=\"margin:0\">\\n<form class=\"mhsform\" name=\"newsearchc\" action=\"//www.castanetkamloops.net/search-news/\">\\n<input type=\"text\" name=\"q\" title=\"Castanet\" placeholder=\"Castanet\" autocomplete=\"off\"/>\\n<input type=\"image\" name=\"submit\" src=\"//www.castanetkamloops.net/images/mhsearchbutton.png\" style=\"width:15px;height:15px;position:absolute;top:0px;right:2px\" alt=\"Submit\"/>\\n</form>\\n</div>\\n\\n<div id=\"hdrbuttons\" style=\"float:left\">\\n<a id=\"hdflyers\" title=\"Flyers\" href=\"https://classifieds.castanet.net/flyers/\">Flyers</a><a id=\"hdautomall\" title=\"AutoMall\" href=\"https://www.castanetautomall.com/\" target=\"_blank\" rel=\"noopener\">AutoMall</a><a id=\"hdevents\" title=\"Events\" href=\"https://www.castanetkamloops.net/events/\">Events</a><a id=\"hdcams\" title=\"Cams\" href=\"https://www.castanetkamloops.net/scenic-web-cams/camera/197/\">Cams</a><a id=\"hdtango\" title=\"The Tango\" href=\"https://thetango.net/\" target=\"_blank\" rel=\"noopener\">Tango</a>\\n</div>\\n</div>\\n\\n\\t</div>\\n<div class=\"megawrap\">\\n<ul class=\"sf-menu\" id=\"megamenu\">\\n\\t<li id=\"sfNews\">\\n\\t<a href=\"/\">Home</a>\\n\\t<div class=\"sf-mega\">\\n<div class=\"sf-mega-frame\">\\n\\t<div class=\"sf-mega-section\" style=\"width:290px\">\\n\\t<ul class=\"sf2col\">\\n<li><a href=\"/edition/news-story--48-.htm\">Kamloops</a></li>\\n<li><a href=\"/edition/news-story--61-.htm\">Salmon Arm</a></li>\\n<li><a href=\"/edition/news-story--2-.htm\">Vernon</a></li>\\n<li><a href=\"/edition/news-story--1-.htm\">Kelowna</a></li>\\n<li>&nbsp;</li>\\n<li><a href=\"/edition/news-story--11-.htm\">Poll</a></li>\\n<li><a href=\"/edition/news-story--10-.htm\">Letters</a></li>\\n<li><a href=\"/opinion/\">Opinion</a></li>\\n</ul>\\n<ul class=\"sf2col2\">\\n<li><a href=\"/edition/news-story--101-.htm\">West Kelowna</a></li>\\n<li><a href=\"/edition/news-story--86-.htm\">Peachland</a></li>\\n<li><a href=\"/edition/news-story--21-.htm\">Penticton</a></li>\\n<li><a href=\"/edition/news-story--87-.htm\">Oliver / Osoyoos</a></li>\\n<li>&nbsp;</li>\\n<li><a href=\"https://forums.castanet.net/\">Forums</a></li>\\n<li><a href=\"/columnists/\">Columnists</a></li>\\n<li><a href=\"/mailinglist/\">Newsletter Signup</a></li>\\n</ul>\\n<div style=\"clear:both\"></div>\\n\\t</div>\\n</div>\\n\\t</div>\\n\\t</li>\\n\\t<li id=\"sfBC\">\\n\\t<a href=\"/edition/news-story--3-.htm\">BC</a>\\n\\t<div class=\"sf-mega\">\\n<div class=\"sf-mega-frame\">\\n\\t<div class=\"sf-mega-section\">\\n\\t<ul>\\n<li style=\"clear:both;height:50px;overflow:hidden;line-height:14px;padding:10px 0 15px 0\"><a href=\"/edition/news-story-501935-3-.htm#501935\"><img loading=\"lazy\" src=\"/content/2024/8/square/thumb/42471330034d0b8ad93b7c3d1bd49cea51c9eeecc41547a224c45ff16f1a524c_p3887386.jpg\" alt=\"Story 501935\" style=\"float:left;width:50px;height:50px;margin:0 5px 0 0;border-radius:6px\"/>Arrested for racist posts<br/><span style=\"font-size:11px\">Chilliwack 1:33 pm - 1,029 views</span></a></li>\\n<li style=\"clear:both;height:50px;overflow:hidden;line-height:14px;padding:0 0 15px 0\"><a href=\"/edition/news-story-501930-3-.htm#501930\"><img loading=\"lazy\" src=\"/content/2024/8/square/thumb/glacier_112995_p.jpg\" alt=\"Story 501930\" style=\"float:left;width:50px;height:50px;margin:0 5px 0 0;border-radius:6px\"/>Crew removes marine debris<br/><span style=\"font-size:11px\">BC 1:20 pm - 1,029 views</span></a></li>\\n<li style=\"clear:both;height:50px;overflow:hidden;line-height:14px;padding:0 0 15px 0\"><a href=\"/edition/news-story-501916-3-.htm#501916\"><img loading=\"lazy\" src=\"/content/2024/8/square/thumb/glacier_112981_p.jpg\" alt=\"Story 501916\" style=\"float:left;width:50px;height:50px;margin:0 5px 0 0;border-radius:6px\"/>Vancouver\\'s early dog days<br/><span style=\"font-size:11px\">Vancouver 11:32 am - 1,942 views</span></a></li>\\n</ul>\\n<ul class=\"sf2col\">\\n<li><a href=\"/edition/news-story--48-.htm\">Kamloops</a></li>\\n<li><a href=\"/edition/news-story--61-.htm\">Salmon Arm</a></li>\\n<li><a href=\"/edition/news-story--2-.htm\">Vernon</a></li>\\n<li><a href=\"/edition/news-story--1-.htm\">Kelowna</a></li>\\n<li><a href=\"/edition/news-story--101-.htm\">West Kelowna</a></li>\\n<li><a href=\"/edition/news-story--21-.htm\">Penticton</a></li>\\n</ul>\\n<ul class=\"sf2col2\">\\n<li><a href=\"/edition/news-story--86-.htm\">Peachland</a></li>\\n<li><a href=\"/edition/news-story--87-.htm\">Oliver / Osoyoos</a></li>\\n<li><a href=\"/news/Vancouver/\">Vancouver</a></li>\\n<li><a href=\"/news/Victoria/\">Victoria</a></li>\\n<li><a href=\"/news/Prince%20George/\">Prince George</a></li>\\n<li><a href=\"/news/Nelson/\">Nelson</a></li>\\n</ul>\\n<ul style=\"clear:both\">\\n<li class=\"sf-menu-icon\"><a href=\"/edition/news-story--3-.htm\" class=\"bc-icon\">All BC News</a></li>\\n\\t</ul>\\n\\t</div>\\n</div>\\n\\t</div>\\n\\t</li>\\n\\t<li id=\"sfCanada\">\\n\\t<a href=\"/edition/news-story--4-.htm\">Canada</a>\\n\\t<div class=\"sf-mega\">\\n<div class=\"sf-mega-frame\">\\n\\t<div class=\"sf-mega-section\">\\n\\t<ul>\\n<li style=\"clear:both;height:50px;overflow:hidden;line-height:14px;padding:10px 0 15px 0\"><a href=\"/edition/news-story-501919-4-.htm#501919\"><img loading=\"lazy\" src=\"/content/2024/8/thumb/501919_0.jpg\" alt=\"Story 501919\" style=\"float:left;width:50px;height:50px;margin:0 5px 0 0;border-radius:6px\"/>Cleanup after flooding<br/><span style=\"font-size:11px\">Montreal 11:54 am - 1,313 views</span></a></li>\\n<li style=\"clear:both;height:50px;overflow:hidden;line-height:14px;padding:0 0 15px 0\"><a href=\"/edition/news-story-501918-4-.htm#501918\"><img loading=\"lazy\" src=\"/content/2024/8/square/thumb/490f06b4fe7d07adddbd0ba0b7f403737b201d89059192dcd8d87ee571f0bfc1_p3887092.jpg\" alt=\"Story 501918\" style=\"float:left;width:50px;height:50px;margin:0 5px 0 0;border-radius:6px\"/>Charles Adler into Senate<br/><span style=\"font-size:11px\">Canada 11:51 am - 2,253 views</span></a></li>\\n<li style=\"clear:both;height:50px;overflow:hidden;line-height:14px;padding:0 0 15px 0\"><a href=\"/edition/news-story-501900-4-.htm#501900\"><img loading=\"lazy\" src=\"/content/2024/8/thumb/501900_0.jpg\" alt=\"Story 501900\" style=\"float:left;width:50px;height:50px;margin:0 5px 0 0;border-radius:6px\"/>Plucked from obscurity<br/><span style=\"font-size:11px\">Canada 9:19 am - 4,560 views</span></a></li>\\n<li class=\"sf-menu-icon\"><a href=\"/edition/news-story--4-.htm\" class=\"canada-icon\">More Canada News</a></li>\\n\\t</ul>\\n\\t</div>\\n</div>\\n\\t</div>\\n\\t</li>\\n\\t<li id=\"sfWorld\">\\n\\t<a href=\"/edition/news-story--5-.htm\">World</a>\\n\\t<div class=\"sf-mega\">\\n<div class=\"sf-mega-frame\">\\n\\t<div class=\"sf-mega-section\">\\n\\t<ul>\\n<li style=\"clear:both;height:50px;overflow:hidden;line-height:14px;padding:10px 0 15px 0\"><a href=\"/edition/news-story-501911-5-.htm#501911\"><img loading=\"lazy\" src=\"/content/2024/8/square/thumb/268b6d983238781b616a99e915b77860b300833d943c087cac92e151351b1497_p3887199.jpg\" alt=\"Story 501911\" style=\"float:left;width:50px;height:50px;margin:0 5px 0 0;border-radius:6px\"/>Wildfires rage Turkey<br/><span style=\"font-size:11px\">Turkey  10:24 am - 3,276 views</span></a></li>\\n<li style=\"clear:both;height:50px;overflow:hidden;line-height:14px;padding:0 0 15px 0\"><a href=\"/edition/news-story-501906-5-.htm#501906\"><img loading=\"lazy\" src=\"/content/2024/8/square/thumb/25cd18df08aa82e93429364aeef5b57900720c66a8c49fb56c10a4bb124d1ff2_p3887165.jpg\" alt=\"Story 501906\" style=\"float:left;width:50px;height:50px;margin:0 5px 0 0;border-radius:6px\"/>Priceless works of art safe<br/><span style=\"font-size:11px\">London 9:37 am - 3,627 views</span></a></li>\\n<li style=\"clear:both;height:50px;overflow:hidden;line-height:14px;padding:0 0 15px 0\"><a href=\"/edition/news-story-501903-5-.htm#501903\"><img loading=\"lazy\" src=\"/content/2024/8/square/thumb/d56f2ee62f4bdfb886c759714d12c0800b409e305b0165d88c400761f39980fa_p3887149.jpg\" alt=\"Story 501903\" style=\"float:left;width:50px;height:50px;margin:0 5px 0 0;border-radius:6px\"/>85 killed in Sudan<br/><span style=\"font-size:11px\">World 9:34 am - 2,666 views</span></a></li>\\n<li class=\"sf-menu-icon\"><a href=\"/edition/news-story--5-.htm\" class=\"world-icon\">More World News</a></li>\\n\\t</ul>\\n\\t</div>\\n</div>\\n\\t</div>\\n\\t</li>\\n\\t<li id=\"sfBusiness\">\\n\\t<a href=\"/edition/news-story--6-.htm\">Business</a>\\n\\t<div class=\"sf-mega\">\\n<div class=\"sf-mega-frame\">\\n\\t\\t<div class=\"sf-mega-section\">\\n\\t\\t<ul>\\n<li style=\"clear:both;height:50px;overflow:hidden;line-height:14px;padding:10px 0 15px 0\"><a href=\"/edition/news-story-501904-6-.htm#501904\"><img loading=\"lazy\" src=\"/content/2024/8/square/thumb/23111f9ca2f2d77887f3919b3968d1da27a36266871b62d15b427edd2480107b_p3887144.jpg\" alt=\"Story 501904\" style=\"float:left;width:50px;height:50px;margin:0 5px 0 0;border-radius:6px\"/>Harris to meet Teamsters<br/><span style=\"font-size:11px\">Detroit  10:36 am - 3,120 views</span></a></li>\\n<li style=\"clear:both;height:50px;overflow:hidden;line-height:14px;padding:0 0 15px 0\"><a href=\"/edition/news-story-501766-6-.htm#501766\"><img loading=\"lazy\" src=\"/content/2024/8/square/thumb/827c5a347bdf50bfef0605bb85e1e8320c74d4de4e01ecc6eed7d7f72a217535_p3885500.jpg\" alt=\"Story 501766\" style=\"float:left;width:50px;height:50px;margin:0 5px 0 0;border-radius:6px\"/>More shipments halted<br/><span style=\"font-size:11px\">Canada  - 14,920 views</span></a></li>\\n<li style=\"clear:both;height:50px;overflow:hidden;line-height:14px;padding:0 0 5px 0\"><a href=\"/edition/news-story-501743-6-.htm#501743\"><img loading=\"lazy\" src=\"/content/2024/8/square/thumb/9d15ba6ac7bc5b3fc0d211ed4b7e8776d1e6c42291352edec4467fd3b52ad574_p3885387.jpg\" alt=\"Story 501743\" style=\"float:left;width:50px;height:50px;margin:0 5px 0 0;border-radius:6px\"/>Manufacturing sales fall<br/><span style=\"font-size:11px\">Canada  - 6,474 views</span></a></li>\\n</ul>\\n<ul class=\"sf2col\">\\n\\t\\t\\t<li><a href=\"/edition/news-story--66-.htm\">Sponsored Video</a></li>\\n\\t\\t\\t<li><a href=\"/themarket/\">The Market</a></li>\\n\\t\\t\\t<li><a href=\"/pressroom/\">Press Room</a></li>\\n\\t\\t\\t<li><a href=\"https://classifieds.castanet.net/cat/services/\">Services</a></li>\\n\\t\\t\\t<li><a href=\"https://classifieds.castanet.net/cat/real_estate/business_opportunities/\">Biz Opportunities</a></li>\\n\\t\\t\\t<li><a href=\"/edition/news-story--72-.htm\">StandOUT</a></li>\\n\\t\\t\\t<li><a href=\"/edition/news-story--63-.htm\">Think Local</a></li>\\n</ul>\\n<ul class=\"sf2col2\">\\n\\t\\t\\t<li><a href=\"https://okanaganedge.net/\" target=\"_blank\" rel=\"noopener\" style=\"text-decoration:underline\">Okanagan Edge</a></li>\\n\\t\\t\\t<li><a href=\"https://okanaganedge.net/category/okanagan-biz/\" target=\"_blank\" rel=\"noopener\">Okanagan Biz</a></li>\\n\\t\\t\\t<li><a href=\"https://okanaganedge.net/category/bc-biz/\" target=\"_blank\" rel=\"noopener\">BC Biz</a></li>\\n\\t\\t\\t<li><a href=\"https://okanaganedge.net/category/community/got-the-edge/\" target=\"_blank\" rel=\"noopener\">Got the Edge</a></li>\\n\\t\\t\\t<li><a href=\"https://okanaganedge.net/category/community/get-involved/\" target=\"_blank\" rel=\"noopener\">Get Involved</a></li>\\n\\t\\t\\t<li><a href=\"https://okanaganedge.net/category/business-buzz/\" target=\"_blank\" rel=\"noopener\">Business Buzz</a></li>\\n\\t\\t</ul>\\n<div style=\"clear:both\"></div>\\n\\t\\t</div>\\n</div>\\n\\t</div>\\n\\t</li>\\n\\t<li id=\"sfSports\">\\n\\t<a href=\"/sports/\">Sports</a>\\n\\t<div class=\"sf-mega\">\\n<div class=\"sf-mega-frame\">\\n\\t\\t<div class=\"sf-mega-section\">\\n\\t\\t<ul>\\n<li style=\"clear:both;height:50px;overflow:hidden;line-height:14px;padding:10px 0 15px 0\"><a href=\"/edition/news-story-501289-7-.htm#501289\"><img loading=\"lazy\" src=\"/content/2024/8/square/thumb/1_p3883700.jpg\" alt=\"Story 501289\" style=\"float:left;width:50px;height:50px;margin:0 5px 0 0;border-radius:6px\"/>A record-setting athlete<br/><span style=\"font-size:11px\">Sports  - 10,941 views</span></a></li>\\n<li style=\"clear:both;height:50px;overflow:hidden;line-height:14px;padding:0 0 15px 0\"><a href=\"/edition/news-story-501249-7-.htm#501249\"><img loading=\"lazy\" src=\"/content/2024/8/square/thumb/img_0361_p3883479.jpg\" alt=\"Story 501249\" style=\"float:left;width:50px;height:50px;margin:0 5px 0 0;border-radius:6px\"/>World Series bound<br/><span style=\"font-size:11px\">Sports  - 18,464 views</span></a></li>\\n<li style=\"clear:both;height:50px;overflow:hidden;line-height:14px;padding:0 0 5px 0\"><a href=\"/edition/news-story-501154-7-.htm#501154\"><img loading=\"lazy\" src=\"/content/2024/8/thumb/501154_1.jpg\" alt=\"Story 501154\" style=\"float:left;width:50px;height:50px;margin:0 5px 0 0;border-radius:6px\"/>NorthPaws reflect on season<br/><span style=\"font-size:11px\">Sports  - 5,545 views</span></a></li>\\n</ul>\\n<ul class=\"sf2col\">\\n\\t\\t\\t<li><a href=\"/edition/news-story--51-.htm\">WHL</a></li>\\n\\t\\t\\t<li><a href=\"/edition/news-story--35-.htm\">BCHL</a></li>\\n\\t\\t\\t<li><a href=\"/edition/news-story--44-.htm\">BCFC</a></li>\\n\\t\\t\\t<li><a href=\"/edition/news-story--62-.htm\">UBCO Heat</a></li>\\n\\t\\t\\t<li><a href=\"/golf/\">Golf</a></li>\\n\\t\\t\\t<li><a href=\"/sports/penticton-speedway/\">Penticton Speedway</a></li>\\n</ul>\\n<ul class=\"sf2col2\">\\n\\t\\t\\t<li><a href=\"/sports/ski/\">Ski</a></li>\\n\\t\\t\\t<li><a href=\"/ski/big-white/\">Big White</a></li>\\n\\t\\t\\t<li><a href=\"/ski/silver-star/\">Silver Star</a></li>\\n\\t\\t\\t<li><a href=\"/ski/apex/\">Apex</a></li>\\n\\t\\t\\t<li><a href=\"/ski/baldy/\">Baldy</a></li>\\n\\t\\t\\t<li><a href=\"/ski/sun-peaks/\">Sun Peaks</a></li>\\n\\t\\t</ul>\\n<div style=\"clear:both\"></div>\\n\\t\\t</div>\\n</div>\\n\\t</div>\\n\\t</li>\\n\\t<li id=\"sfShowBiz\">\\n\\t\\t<a href=\"/edition/news-story--8-.htm\">ShowBiz</a>\\n\\t\\t<div class=\"sf-mega\">\\n<div class=\"sf-mega-frame\">\\n\\t\\t<div class=\"sf-mega-section\">\\n\\t\\t<ul>\\n<li style=\"clear:both;height:50px;overflow:hidden;line-height:14px;padding:10px 0 15px 0\"><a href=\"/edition/news-story-501924-8-.htm#501924\"><img loading=\"lazy\" src=\"/content/2024/8/square/thumb/bang_99965_p.jpg\" alt=\"Story 501924\" style=\"float:left;width:50px;height:50px;margin:0 5px 0 0;border-radius:6px\"/>Hilton\\'s trailer burns down<br/><span style=\"font-size:11px\">Entertainment 12:00 pm - 978 views</span></a></li>\\n<li style=\"clear:both;height:50px;overflow:hidden;line-height:14px;padding:0 0 15px 0\"><a href=\"/edition/news-story-501923-8-.htm#501923\"><img loading=\"lazy\" src=\"/content/2024/8/square/thumb/bang_99969_p.jpg\" alt=\"Story 501923\" style=\"float:left;width:50px;height:50px;margin:0 5px 0 0;border-radius:6px\"/>Don\\'t take it seriously<br/><span style=\"font-size:11px\">Entertainment 11:59 am - 525 views</span></a></li>\\n<li style=\"clear:both;height:50px;overflow:hidden;line-height:14px;padding:0 0 5px 0\"><a href=\"/edition/news-story-501922-8-.htm#501922\"><img loading=\"lazy\" src=\"/content/2024/8/square/thumb/bang_99962_p.jpg\" alt=\"Story 501922\" style=\"float:left;width:50px;height:50px;margin:0 5px 0 0;border-radius:6px\"/>Taylor shocked by Ted Lasso<br/><span style=\"font-size:11px\">Entertainment 11:59 am - 668 views</span></a></li>\\n</ul>\\n<ul class=\"sf2col\">\\n\\t\\t<li><a href=\"https://tvlistings.zap2it.com/\">TV Listings</a></li>\\n\\t\\t<li><a href=\"/books.htm\">Books</a></li>\\n\\t\\t<li><a href=\"/edition/news-story--25-.htm\">Offbeat</a></li>\\n\\t\\t<li><a href=\"/edition/news-story--57-.htm\">Around the Web</a></li>\\n\\t\\t<li><a href=\"/edition/news-story--1160-.htm\">Weekly Horoscopes</a></li>\\n</ul>\\n<ul class=\"sf2col2\">\\n\\t\\t<li><a href=\"https://thetango.net/\" target=\"_blank\" rel=\"noopener\" style=\"text-decoration:underline\">The Tango</a></li>\\n\\t\\t<li><a href=\"https://thetango.net/category/daily-dose/\" target=\"_blank\" rel=\"noopener\">Daily Dose</a></li>\\n\\t\\t<li><a href=\"https://thetango.net/category/must-watch/\" target=\"_blank\" rel=\"noopener\">Must Watch</a></li>\\n\\t\\t<li><a href=\"https://thetango.net/category/galleries/\" target=\"_blank\" rel=\"noopener\">Galleries</a></li>\\n\\t\\t<li><a href=\"https://thetango.net/category/showbiz/\" target=\"_blank\" rel=\"noopener\">Showbiz</a></li>\\n\\t\\t<li><a href=\"https://thetango.net/category/music/\" target=\"_blank\" rel=\"noopener\">Music</a></li>\\n\\t\\t</ul>\\n<div style=\"clear:both\"></div>\\n\\t\\t</div>\\n</div>\\n\\t\\t</div>\\n\\t</li>\\t\\n\\t<li id=\"sfClassifieds\">\\n\\t\\t<a href=\"https://classifieds.castanet.net/\">Classifieds</a>\\n\\t\\t<div class=\"sf-mega\">\\n<div class=\"sf-mega-frame\">\\n\\t\\t<div class=\"sf-mega-section\">\\n\\t\\t<ul class=\"sf2col\">\\n<li><a href=\"https://classifieds.castanet.net/dashboard.php\" class=\"sfbutton\">Login</a></li>\\n\\t\\t\\t<li><a href=\"https://classifieds.castanet.net/live/\">Marketplace Live</a></li>\\n\\t\\t\\t<li><a href=\"/garagesales/\">Garage Sales</a></li>\\n\\t\\t\\t<li><a href=\"https://classifieds.castanet.net/cat/jobs/\">Jobs</a></li>\\n\\t\\t\\t<li><a href=\"https://classifieds.castanet.net/cat/real_estate/\">Real Estate</a></li>\\n\\t\\t\\t<li><a href=\"https://classifieds.castanet.net/cat/rentals/\">Rentals</a></li>\\n\\t\\t\\t<li><a href=\"https://classifieds.castanet.net/cat/vehicles/\">Vehicles</a></li>\\n\\t\\t\\t<li><a href=\"https://classifieds.castanet.net/cat/auto_parts/\">Auto Parts</a></li>\\n\\t\\t\\t<li><a href=\"https://classifieds.castanet.net/cat/rec_vehicles/\">Rec Vehicles</a></li>\\n\\t\\t\\t<li><a href=\"https://classifieds.castanet.net/cat/house-home/\">House-Home</a></li>\\n\\t\\t\\t<li><a href=\"https://classifieds.castanet.net/cat/furniture/\">Furniture</a></li>\\n\\t\\t\\t<li><a href=\"https://classifieds.castanet.net/cat/electronics/\">Electronics</a></li>\\n\\t\\t\\t<li><a href=\"https://classifieds.castanet.net/cat/fashion/\">Fashion</a></li>\\n\\t\\t\\t<li><a href=\"https://classifieds.castanet.net/cat/kids/\">Kids</a></li>\\n\\t\\t\\t<li><a href=\"https://classifieds.castanet.net/cat/sports-health/\">Sports-Health</a></li>\\n\\t\\t</ul>\\n<ul class=\"sf2col2\">\\n<li><a href=\"/help/\" class=\"sfbutton\">Help</a></li>\\n<li><a href=\"https://www.castanetautomall.com/\" target=\"_blank\" rel=\"noopener\">Automall</a></li>\\n<li><a href=\"https://www.rvpowersports.com/\" target=\"_blank\" rel=\"noopener\">RV-Boats-Powersports</a></li>\\n<li><a href=\"https://classifieds.castanet.net/flyers/\">Flyers</a></li>\\n\\t\\t\\t<li><a href=\"https://classifieds.castanet.net/cat/hobbies-music/\">Hobbies-Music</a></li>\\n\\t\\t\\t<li><a href=\"https://classifieds.castanet.net/cat/library/\">Library</a></li>\\n\\t\\t\\t<li><a href=\"https://classifieds.castanet.net/cat/vintage-antiques/\">Vintage-Antiques</a></li>\\n\\t\\t\\t<li><a href=\"https://classifieds.castanet.net/cat/home_improvement/\">Home Improvement</a></li>\\n\\t\\t\\t<li><a href=\"https://classifieds.castanet.net/cat/commercial-business/\">Commercial-Business</a></li>\\n\\t\\t\\t<li><a href=\"https://classifieds.castanet.net/cat/farmers_market/\">Farmer\\'s Market</a></li>\\n\\t\\t\\t<li><a href=\"https://classifieds.castanet.net/cat/horse-farm-pets/\">Horse-Farm-Pets</a></li>\\n\\t\\t\\t<li><a href=\"https://classifieds.castanet.net/cat/services/\">Services</a></li>\\n\\t\\t\\t<li><a href=\"https://classifieds.castanet.net/cat/garage-free-auctions/\">Garage-Free-Auctions</a></li>\\n\\t\\t\\t<li><a href=\"/stores/\">Stores</a></li>\\n\\t\\t\\t<li><a href=\"https://classifieds.castanet.net/Classifieds-Rate-Sheet-Apr-2022.pdf\" target=\"_blank\" rel=\"noopener\">Classifieds Rate Sheet</a></li>\\n</ul>\\n<div style=\"clear:both\"></div>\\n\\t\\t</div>\\n</div>\\n\\t\\t</div>\\n\\t</li>\\n\\t<li id=\"sfRealEstate\">\\n\\t\\t<a href=\"/realestate/\">Real Estate <img src=\"/images/new-red.png\" width=\"25\" height=\"20\" alt=\"new feature\" style=\"position:absolute;top:-2px;right:-5px\"/></a>\\n\\t\\t<div class=\"sf-mega\">\\n<div class=\"sf-mega-frame\">\\n\\t\\t<div class=\"sf-mega-section\" style=\"width:190px\">\\n\\t\\t<ul>\\n\\t\\t\\t<li><a href=\"https://classifieds.castanet.net/cat/real_estate/\">Castanet Real Estate Listings</a></li>\\n\\t\\t\\t<li><a href=\"https://www.rew.ca/okanagan\" target=\"_blank\" rel=\"noopener\">REW Real Estate Listings <img src=\"/images/new-red.png\" width=\"25\" height=\"20\" alt=\"new feature\" style=\"position:absolute;top:0;right:6px\"/></a></li>\\n\\t\\t\\t<li><a href=\"https://classifieds.castanet.net/cat/rentals/\">Rentals</a></li>\\n\\t\\t\\t<li><a href=\"/showhomes/\">Showhome Showcase</a></li>\\n\\t\\t\\t<li><a href=\"/edition/news-story--31-.htm\">Luxury Homes</a></li>\\n\\t\\t\\t<li><a href=\"/edition/news-story--88-.htm\">Luxury Homes South</a></li>\\n\\t\\t\\t<li><a href=\"/edition/news-story--90-.htm\">Luxury Homes North</a></li>\\n\\t\\t\\t<li><a href=\"/edition/news-story--1044-.htm\">Investment Real Estate</a></li>\\t\\t\\t\\n\\t\\t\\t<li><a href=\"https://classifieds.castanet.net/cat/real_estate/open_houses_no_showhomes_please/\">Open Houses</a></li>\\n\\t\\t</ul>\\n\\t\\t</div>\\n</div>\\n\\t\\t</div>\\t\\n\\t</li>\\n\\n\\t<li id=\"sfCommunity\">\\n\\t\\t<a href=\"/obituaries/\">Obits</a>\\n\\t</li>\\n\\t<li id=\"sfCity\">\\n\\t\\t<a href=\"/our-town/\">Our Town</a>\\n\\t\\t<div class=\"sf-mega\">\\n<div class=\"sf-mega-frame\">\\n\\t\\t<div class=\"sf-mega-section\">\\n\\t\\t<ul class=\"sf2col\">\\n\\t\\t\\t<li><a href=\"/obituaries/\">Obituaries</a></li>\\n\\t\\t\\t<li><a href=\"/themarket/\">The Market</a></li>\\n\\t\\t\\t<li><a href=\"/adopt-a-pet/\">Adopt-a-Pet</a></li>\\n\\t\\t\\t<li><a href=\"/events/\">Events</a></li>\\n\\t\\t\\t<li><a href=\"/movies/\">Movies</a></li>\\n\\t\\t\\t<li><a href=\"/scenic-web-cams/camera/197/\">Cams</a></li>\\n<li><a href=\"/gas-prices/\">Gas Prices</a></li>\\n\\t\\t\\t<li><a href=\"/gallery/\">Gallery</a></li>\\n<li><a href=\"/celebrations/\">Celebrations</a></li>\\n<li><a href=\"/contests/\">Contests</a></li>\\n\\t\\t\\t<li><span style=\"position:absolute;top:-2px;font-size:24px;text-decoration:none !important;color:#000\">&lsaquo;</span> &nbsp; &nbsp;<a href=\"/city/\" style=\"position:relative\" id=\"citylink\" class=\"taphover\">Cities </a>\\n<div>\\n\\t\\t<ul class=\"sf2col\">\\n\\t\\t\\t<li><a href=\"https://www.cityofarmstrong.bc.ca\" target=\"_blank\" rel=\"noopener\">Armstrong</a></li>\\n\\t\\t\\t<li><a href=\"https://www.cityofenderby.com\" target=\"_blank\" rel=\"noopener\">Enderby</a></li>\\n\\t\\t\\t<li><a href=\"https://www.kamloops.ca\" target=\"_blank\" rel=\"noopener\">Kamloops</a></li>\\n\\t\\t\\t<li><a href=\"https://www.kelowna.ca\" target=\"_blank\" rel=\"noopener\">Kelowna</a></li>\\n\\t\\t\\t<li>&nbsp;&nbsp;<a href=\"https://www.kelowna.ca/roads-transportation/parking/parking-tickets-service-requests\" target=\"_blank\" rel=\"noopener\">Pay Parking Tickets</a></li>\\n\\t\\t\\t<li><a href=\"https://www.keremeos.ca\" target=\"_blank\" rel=\"noopener\">Keremeos</a></li>\\n\\t\\t\\t<li><a href=\"https://www.lakecountry.bc.ca\" target=\"_blank\" rel=\"noopener\">Lake Country</a></li>\\n\\t\\t\\t<li><a href=\"https://www.merritt.ca\" target=\"_blank\" rel=\"noopener\">Merritt</a></li>\\n\\t\\t\\t<li><a href=\"https://www.oliver.ca\" target=\"_blank\" rel=\"noopener\">Oliver</a></li>\\n\\t\\t\\t<li><a href=\"https://www.osoyoos.ca\" target=\"_blank\" rel=\"noopener\">Osoyoos</a></li>\\n\\t\\t\\t<li><a href=\"https://www.peachland.ca\" target=\"_blank\" rel=\"noopener\">Peachland</a></li>\\n</ul>\\n<ul class=\"sf2col2\">\\n\\t\\t\\t<li><a href=\"https://www.penticton.ca\" target=\"_blank\" rel=\"noopener\">Penticton</a></li>\\n\\t\\t\\t<li><a href=\"https://www.summerland.ca\" target=\"_blank\" rel=\"noopener\">Summerland</a></li>\\n\\t\\t\\t<li><a href=\"https://www.vernon.ca\" target=\"_blank\" rel=\"noopener\">Vernon</a></li>\\n\\t\\t\\t<li><a href=\"https://www.westkelownacity.ca\" target=\"_blank\" rel=\"noopener\">West Kelowna</a></li>\\n\\t\\t\\t<li><a href=\"https://www.wfn.ca\" target=\"_blank\" rel=\"noopener\">Westbank First Nation</a></li>\\n\\t\\t\\t<li><a href=\"https://www.regionaldistrict.com\" target=\"_blank\" rel=\"noopener\">RDCO</a></li>\\n\\t\\t\\t<li><a href=\"https://www.rdos.bc.ca\" target=\"_blank\" rel=\"noopener\">RDOS</a></li>\\n\\t\\t\\t<li><a href=\"https://www.tnrd.ca\" target=\"_blank\" rel=\"noopener\">TNRD</a></li>\\n\\t\\t\\t<li><a href=\"https://www.interiorhealth.ca\" target=\"_blank\" rel=\"noopener\">Interior Health</a></li>\\n\\t\\t\\t<li><a href=\"https://www.orl.bc.ca\" target=\"_blank\" rel=\"noopener\">Library</a></li>\\n\\t\\t\\t<li><a href=\"https://ok.ubc.ca\" target=\"_blank\" rel=\"noopener\">UBC Okanagan</a></li>\\n\\t\\t\\t<li><a href=\"https://www.okanagan.bc.ca\" target=\"_blank\" rel=\"noopener\">Okanagan College</a></li>\\n\\t\\t</ul>\\n</div>\\n\\t\\t\\t<img loading=\"lazy\" src=\"/mh/flyout-fin.png\" alt=\"city links\" class=\"flyout-fin\" /></li>\\n\\t\\t</ul>\\n<ul class=\"sf2col2\">\\n\\t\\t\\t<li><a href=\"/garagesales/\">Garage Sales</a></li>\\n<li><a href=\"/food-and-drink/\">Food &amp; Drink</a></li>\\n<li><a href=\"/edition/news-story--14-.htm\">Wine Reviews</a></li>\\n\\t\\t\\t<li><a href=\"/wine/region/okanagan-valley/\">Wine Maps</a></li>\\n\\t\\t\\t<li><a href=\"/edition/news-story--49-.htm\">Campus Life Kamloops</a></li>\\n<li><a href=\"https://bctransit.com/\" target=\"_blank\" rel=\"noopener\">Bus Schedule</a></li>\\n\\t\\t\\t<li><a href=\"http://kamloopsairport.com/flights/?type=arrivals&term=\" target=\"_blank\" rel=\"noopener\">YKA Arrive</a> / <a href=\"http://kamloopsairport.com/flights/?type=departures&term=\" target=\"_blank\" rel=\"noopener\">Depart</a></li>\\n<li><a href=\"https://classifieds.castanet.net/flyers/\">Flyers</a></li>\\n</ul>\\n<div style=\"clear:both\"></div>\\n\\t\\t</div>\\n</div>\\n\\t\\t</div>\\n\\t</li>\\n\\t<li id=\"sfWeather\">\\n\\t\\t<a href=\"/weather/\">Weather</a>\\n\\t\\t<div class=\"sf-mega\">\\n<div class=\"sf-mega-frame\">\\n\\t\\t<div class=\"sf-mega-section\"> \\n\\t\\t<ul>\\n\\t\\t<li><a href=\"/weather/Kamloops\">Kamloops</a></li>\\n\\t\\t<li><a href=\"/weather/Salmon-Arm\">Salmon Arm</a></li>\\n\\t\\t<li><a href=\"/weather/Vernon\">Vernon</a></li>\\n\\t\\t<li><a href=\"/weather/Kelowna\">Kelowna</a></li>\\n\\t\\t<li><a href=\"/weather/Penticton\">Penticton</a></li>\\n\\t\\t<li><a href=\"/weather/Vancouver\">Vancouver</a></li>\\n\\t\\t</ul>\\n\\t\\t</div>\\n</div>\\n\\t\\t</div>\\n\\t</li> \\n</ul>\\n</div>\\n<div style=\"clear:both\"></div>\\n\\t\\n<script type=\"text/javascript\">\\nif (sfPage) { $(\\'#\\'+sfPage).addClass(\"current\"); }\\n$(\"#hdrbuttons a\").on(\"click\",function(){$.get(\"/ybclick.php?name=\"+$(this).attr(\\'id\\'));});\\n$(\".mhsform\").on(\"submit\",function(e){e.preventDefault();var _this=$(this);$.ajax(\"/ybclick.php?name=\"+_this.attr(\\'name\\')).then(function(resp) {_this.off(\\'submit\\').trigger(\"submit\");})});\\n</script>\\n</div>\\n\\t<div id=\"content\">\\n\\t\\t<div id=\"hdad\">\\n\\t\\t\\t<div id=\"hdpromo\">\\n<div style=\"width:230px;height:90px;border-radius:7px;overflow:hidden\"><a href=\"https://www.castanetkamloops.net/cgi-bin2/stats/clickcounter.cgi?id=242131&amp;cid=366737&amp;region=700\" rel=\"nofollow\" target=\"_blank\"><img src=\"https://x.castanet.net/IPE/24-07/display/IPE-Tickets-PR1.jpg\" height=\"90\" width=\"230\" alt=\"242131\"/></a></div>\\t\\t\\t</div>\\n\\t\\t\\t<div id=\"hdright\">\\n<div style=\"width:728px;height:90px;border-radius:7px;overflow:hidden\"><a href=\"https://www.castanetkamloops.net/cgi-bin2/stats/clickcounter.cgi?id=242975&amp;cid=358057&amp;region=51\" rel=\"nofollow\" target=\"_blank\"><img src=\"https://x.castanet.net/KamloopsSymphony/24-08/display/KSO_Kids_Concerts_Castanet_Leaderboard.gif\" height=\"90\" width=\"728\" alt=\"242975\"/></a></div>\\t\\t\\t</div>\\n\\t\\t\\t<div class=\"crow\"></div>\\n\\t\\t</div>\\n\\t\\t<div class=\"crow\"></div>\\n\\t\\t<div id=\"lnews\">\\n<div id=\"newsheader\">Business&nbsp;&nbsp;</div>\\n<a id=\"501194\" style=\"display:block;position:relative;top:-125px;visibility:hidden\"></a><div class=\"newsstory\" itemscope itemtype=\"https://schema.org/NewsArticle\">\\n<h1 class=\"newsheadlinefull\" itemprop=\"headline\">Starbucks replaces its CEO, names Chipotle chief to head the company</h1><h2 class=\"newsheadline hasfull\" itemprop=\"alternativeHeadline\">New Starbucks CEO</h2><div class=\"byline\">Dee-ann Durbin, The Associated Press - <span itemprop=\"datePublished\" datetime=\"2024-08-13T07:08:00\">Aug 13, 2024 / 7:08 am</span><span class=\"storyid\"> | Story: 501194</span></div>\\n<div itemprop=\"articleBody\">\\n<div class=\"gallery\" id=\"photo3883387\">\\r\\n<div class=\"gallery_img\"><img src=\"/content/2024/8/37a61014e499717cd703e4a6c1730cc550663707ea732a0d131787b5c7e8e517_p3883387.jpg\" style=\"height:427px; width:640px\" />\\r\\n<div class=\"photo_credit\">Photo: The Canadian Press</div>\\r\\n\\r\\n<div class=\"photo_cutline\" style=\"width:635px\">FILE - A Starbucks mermaid logo sign is displayed on a store, May 29, 2024, in Salem, N.H. (AP Photo/Charles Krupa, File)</div>\\r\\n</div>\\r\\n</div>\\r\\n\\r\\n<p>Starbucks, struggling with <a href=\"https://apnews.com/article/starbucks-coffee-earnings-25d1ed90abfc14f38539a858e9a3bd72\">weak demand</a> and disgruntled investors, said Tuesday that CEO Laxman Narasimhan is stepping down after a little more than a year in the job.</p>\\r\\n\\r\\n<p>The Seattle coffee giant said Brian Niccol, the chairman and CEO of Chipotle, will become Starbucks&#39; chairman and CEO on Sept. 9.</p>\\r\\n\\r\\n<p>Starbucks shares jumped more than 13% before the market opened.</p>\\r\\n\\r\\n<p>Narasimhan, a longtime PepsiCo executive who has also served as the CEO of Reckitt, a U.K.-based consumer health company, <a href=\"https://apnews.com/article/starbucks-ceo-schultz-narasimhan-0b83682ed7ba44de49ce73f113e1dc7d\">became Starbucks&#39; CEO</a> in March 2023. He succeeded Howard Schultz, the longtime Starbucks leader and chairman emeritus who came out of retirement in 2022 to serve as the company&#39;s interim CEO.</p>\\r\\n\\r\\n<p>But investors quickly soured on Narasimhan as the company&#39;s sales weakened and it dealt with multiple issues, including competition from lower-cost competitors in China and <a href=\"https://apnews.com/article/starbucks-war-palestinians-israel-boycott-labor-3b1165fc74ed181a4a5dad2106779922\">boycotts in the Middle East and elsewhere</a> due to its perceived support for Israel.</p>\\r\\n\\r\\n<p>Mellody Hobson, the chair of Starbucks&#39; board of directors, said Niccol has transformed Chipotle since becoming its CEO in 2018 by focusing on menu innovation, operational excellence and digital transformation.</p>\\r\\n\\r\\n<p>&ldquo;Brian is a culture carrier who brings a wealth of experience and a proven track record of driving innovation and growth,&quot; Hobson said in a statement. &ldquo;Like all of us at Starbucks, he understands that a remarkable customer experience is rooted in an exceptional partner experience.&rdquo;</p>\\r\\n\\r\\n<p>Schultz said he has long admired Niccol.</p>\\r\\n\\r\\n<p>&quot;I believe he is the leader Starbucks needs at a pivotal moment in its history. He has my respect and full support,&rdquo; Schultz said in a statement.</p>\\r\\n</div>\\n</div>\\n<div class=\"contentfooter\">\\n<p class=\"backhome\"><a href=\"/\">Back to Homepage</a></p>\\n<a class=\"sfoot1\" href=\"/contactus/report_typo.php?story=501194\" target=\"_blank\" rel=\"nofollow\"><span>Typos</span></a><a class=\"sfoot2\" href=\"/contactus/news-tips.php\"><span>News Tips</span></a><a class=\"sfoot3\" href=\"https://forums.castanet.net/viewtopic.php?f=134&t=101399\"><span>Forums</span></a>\\n<div class=\"sharethis-inline-share-buttons\" data-url=\"https://www.castanetkamloops.net/news/Business/501194/Starbucks-replaces-its-CEO-names-Chipotle-chief-to-head-the-company\" data-title=\"Starbucks replaces its CEO, names Chipotle chief to head the company - Business News\"></div><div class=\"postcomment\" id=\"postcomment101399\" style=\"margin-top:10px\"></div>\\n<div style=\"position:relative;top:20px;left:10px;margin-top:-20px;\"><span style=\"background:#e84d3c;color:#fff;padding:1px 5px;border-radius:7px;font-size:12px\">NEW</span></div> \\n<div class=\"scomments\">\\n<a id=\"vc101399\" href=\"https://forums.castanet.net/viewtopic.php?f=134&t=101399\" onClick=\"viewComments(this,101399);return false;\">View Comments (1)</a>\\n<a id=\"pc101399\" style=\"display:none\" href=\"https://forums.castanet.net/posting.php?mode=reply&f=134&t=101399\">Post a Comment</a>\\n</div>\\n<div class=\"newsletter\">\\n<div class=\"sfoot4\">\\n<p>Must-Read Stories</p>\\n<span>Get all the day\\'s most vital news with our newsletter, sent every weekday.</span>\\n</div>\\n<div class=\"mc_embed_signup\">\\n<form action=\"https://castanetkamloops.us5.list-manage.com/subscribe/post?u=cca0520b5e122304ac86be48e&amp;id=993a54d267\" method=\"post\" name=\"mc-embedded-subscribe-form\" class=\"validate\" target=\"_blank\" novalidate>\\n<input type=\"email\" value=\"\" name=\"EMAIL\" class=\"required email\" placeholder=\"Enter Email Address\" required />\\n<div style=\"position:absolute;left:-5000px\" aria-hidden=\"true\"><input type=\"text\" name=\"b_cca0520b5e122304ac86be48e_be97587725\" tabindex=\"-1\" value=\"\" /></div>\\n<input type=\"submit\" value=\"Sign Me Up!\" name=\"subscribe\" class=\"button\" />\\n</form>\\n</div>\\n</div>\\n</div>\\n<div class=\"crow\"></div>\\n<div class=\"crow\"></div><br/><br/>\\n<a href=\"/news/Business/\" id=\"newsarchive\">More Business News</a><br/><br/>\\n<div style=\"width:640px;height:900px;border-radius:7px;overflow:hidden;margin-bottom:40px\"><a href=\"https://www.castanetkamloops.net/cgi-bin2/stats/clickcounter.cgi?id=233230&amp;cid=352763&amp;region=1194\" rel=\"nofollow\" target=\"_blank\"><img src=\"https://x.castanet.net/DesignerAppliances/24-07/display/DesignerAppliances-July2024-FP1b.jpg\" height=\"900\" width=\"640\" alt=\"233230\"/></a></div>\\t\\t</div>\\n<div id=\"rnews\">\\n<div class=\\'quicklinks\\' style=\\'margin:0\\'><div class=\\'qlheader\\'><span>Okanagan Companies</span></div><table style=\\'color:#000;border:none;font-size:14px;width:300px\\'><tr style=\\'height:22px\\'><td><a style=\\'margin-left:10px;text-decoration:none;font-size:14px;color:#000\\' href=\\'https://cantex.ca/\\' target=\\'_blank\\'>Cantex</a></td><td>0.12</td><td class=\\'stocklv\\' style=\\'padding-right:10px\\'>0</td></tr><tr style=\\'height:22px\\'><td><a style=\\'margin-left:10px;text-decoration:none;font-size:14px;color:#000\\' href=\\'https://metalexventures.com/\\' target=\\'_blank\\'>Metalex Ventures</a></td><td>0.015</td><td class=\\'stocklv\\' style=\\'padding-right:10px\\'>0</td></tr><tr style=\\'height:22px\\'><td><a style=\\'margin-left:10px;text-decoration:none;font-size:14px;color:#000\\' href=\\'https://www.russelmetals.com/\\' target=\\'_blank\\'>Russel Metals</a></td><td>38.07</td><td class=\\'stockdn\\' style=\\'padding-right:10px\\'>-0.23</td></tr><tr style=\\'height:22px\\'><td><a style=\\'margin-left:10px;text-decoration:none;font-size:14px;color:#000\\' href=\\'https://decisivedividend.com/\\' target=\\'_blank\\'>Decisive Dividend Corp</a></td><td>6.12</td><td class=\\'stocklv\\' style=\\'padding-right:10px\\'>0</td></tr><tr style=\\'height:22px\\'><td><a style=\\'margin-left:10px;text-decoration:none;font-size:14px;color:#000\\' href=\\'https://www.diamcormining.com/\\' target=\\'_blank\\'>Diamcor Mining</a></td><td>0.035</td><td class=\\'stocklv\\' style=\\'padding-right:10px\\'>0</td></tr><tr style=\\'height:22px\\'><td><a style=\\'margin-left:10px;text-decoration:none;font-size:14px;color:#000\\' href=\\'https://ggxgold.com/\\' target=\\'_blank\\'>GGX Gold Corp</a></td><td>0.015</td><td class=\\'stockdn\\' style=\\'padding-right:10px\\'>-0.01</td></tr></table></div><div style=\"margin:20px 0 235px 0;height:100px\"><div style=\"width:300px;height:100px\"></div></div><a href=\"/themarket/\"><img style=\"width:300px;margin:10px 0 20px 0\" src=\"/img/TheMarket-5.jpg\"/></a>\\n<div style=\"width:300px;height:250px;border-radius:7px;overflow:hidden\"><a href=\"https://www.castanetkamloops.net/cgi-bin2/stats/clickcounter.cgi?id=240851&amp;cid=364722&amp;region=50\" rel=\"nofollow\" target=\"_blank\"><img src=\"https://x.castanet.net/YoungDrivers/22-12/display/YoungDriversofCanada-MR1.gif\" height=\"250\" width=\"300\" alt=\"240851\"/></a></div><div class=\\'quicklinks\\' style=\\'margin:40px 0 0 0\\'><div class=\\'qlheader\\'><span>Cryptocurrencies</span></div><table style=\\'color:#000;border:none;font-size:14px;width:300px;\\' cellspacing=\\'0\\' cellpadding=\\'3\\'><tbody><tr style=\\'height:25px\\'><td><a style=\\'margin-left:10px;text-decoration:none;font-size:14px;color:#000\\' href=\\'https://www.cryptocompare.com/\\' target=\\'_blank\\'>Bitcoin</a></td><td>81195.6</td><td class=\\'stockup\\' style=\\'padding-right:10px\\'>+0.50%</td></tr><tr style=\\'height:25px\\'><td><a style=\\'margin-left:10px;text-decoration:none;font-size:14px;color:#000\\' href=\\'https://www.cryptocompare.com/\\' target=\\'_blank\\'>Ethereum</a></td><td>3576.35</td><td class=\\'stockup\\' style=\\'padding-right:10px\\'>+0.54%</td></tr><tr style=\\'height:25px\\'><td><a style=\\'margin-left:10px;text-decoration:none;font-size:14px;color:#000\\' href=\\'https://www.cryptocompare.com/\\' target=\\'_blank\\'>Dash</a></td><td>36.04</td><td class=\\'stockup\\' style=\\'padding-right:10px\\'>+4.16%</td></tr><tr style=\\'height:25px\\'><td><a style=\\'margin-left:10px;text-decoration:none;font-size:14px;color:#000\\' href=\\'https://www.cryptocompare.com/\\' target=\\'_blank\\'>Litecoin</a></td><td>92.42</td><td class=\\'stockup\\' style=\\'padding-right:10px\\'>+1.22%</td></tr><tr style=\\'height:25px\\'><td><a style=\\'margin-left:10px;text-decoration:none;font-size:14px;color:#000\\' href=\\'https://www.cryptocompare.com/\\' target=\\'_blank\\'>Ripple</a></td><td>0.7758</td><td class=\\'stocklv\\' style=\\'padding-right:10px\\'>+0.26%</td></tr><tr style=\\'height:25px\\'><td><a style=\\'margin-left:10px;text-decoration:none;font-size:14px;color:#000\\' href=\\'https://www.cryptocompare.com/\\' target=\\'_blank\\'>EOS</a></td><td>0.6859</td><td class=\\'stockup\\' style=\\'padding-right:10px\\'>+1.18%</td></tr><tr style=\\'height:25px\\'><td><a style=\\'margin-left:10px;text-decoration:none;font-size:14px;color:#000\\' href=\\'https://www.cryptocompare.com/\\' target=\\'_blank\\'>Dogecoin</a></td><td>0.1405</td><td class=\\'stocklv\\' style=\\'padding-right:10px\\'>+2.18%</td></tr><tr style=\\'height:25px\\'><td><a style=\\'margin-left:10px;text-decoration:none;font-size:14px;color:#000\\' href=\\'https://www.cryptocompare.com/\\' target=\\'_blank\\'>Cardano</a></td><td>0.4563</td><td class=\\'stocklv\\' style=\\'padding-right:10px\\'>+0.66%</td></tr></tbody></table></div><div class=\\'crow\\' style=\\'font-size:11px;text-align:right\\'>Data from <a href=\\'https://www.cryptocompare.com/\\' target=\\'_blank\\'>CryptoCompare</a></div><div class=\"recent-title\">RECENT STORIES</div><div class=\"recent-news\"><ul id=\"body1\">\\n<li><a href=\\'/edition/news-story-501935-3-.htm#501935\\'><div class=\"recent-img\" style=\"background-image:url(/content/2024/8/thumb/501935_0.jpg);\"></div><div class=\\'recent-info\\'><span class=\\'recent-headline\\'>Arrested for racist posts</span><span class=\\'recent-sub\\'>Chilliwack - 1:33 pm</span></div></a></li>\\n<li><a href=\\'/edition/news-story-501930-3-.htm#501930\\'><div class=\"recent-img\" style=\"background-image:url(/content/2024/8/thumb/501930_1.jpg);\"></div><div class=\\'recent-info\\'><span class=\\'recent-headline\\'>Crew removes marine debris</span><span class=\\'recent-sub\\'>BC - 1:20 pm</span></div></a></li>\\n<li><a href=\\'/edition/news-story-501931-2-.htm#501931\\'><div class=\"recent-img\" style=\"background-image:url(/content/2024/8/thumb/501931_0.jpg);\"></div><div class=\\'recent-info\\'><span class=\\'recent-headline\\'>Vernon shows its Pride</span><span class=\\'recent-sub\\'>Vernon - 1:17 pm</span></div></a></li>\\n<li><a href=\\'/edition/news-story-501913-61-.htm#501913\\'><div class=\"recent-img\" style=\"background-image:url(/content/2024/8/thumb/501913_1.jpg);\"></div><div class=\\'recent-info\\'><span class=\\'recent-headline\\'>Dinner and a show</span><span class=\\'recent-sub\\'>Salmon Arm - 1:00 pm</span></div></a></li>\\n<li><a href=\\'/edition/news-story-501924-8-.htm#501924\\'><div class=\"recent-img\" style=\"background-image:url(/content/2024/8/thumbs/bang_99965_p.jpg);\"></div><div class=\\'recent-info\\'><span class=\\'recent-headline\\'>Hilton\\'s trailer burns down</span><span class=\\'recent-sub\\'>Entertainment - 12:00 pm</span></div></a></li>\\n</ul><a class=\\'recent-morelink\\' href=\\'/\\'>More Top Stories &gt;</a></div>\\n<div style=\"clear:both;width:300px;height:300px;overflow:hidden;margin-bottom:40px\">\\n<script src=\\'https://securepubads.g.doubleclick.net/tag/js/gpt.js\\'>\\ngoogletag.pubads().definePassback(\\'/4326737/atex_GNG-BC_site_section_subsection_bigbox_S1_Castanet\\', [[300, 250], [300, 300]]).display();\\n</script>\\n</div>\\n<div class=\"crow\"></div>\\n<div style=\"width:300px;height:250px;border-radius:7px;overflow:hidden\"><a href=\"https://www.castanetkamloops.net/cgi-bin2/stats/clickcounter.cgi?id=241167&amp;cid=365202&amp;region=207\" rel=\"nofollow\" target=\"_blank\"><img src=\"https://x.castanet.net/AGutterWindowCleaningALLLOCATIONS/24-05/display/APlusGutter-Spec-Newa.gif\" height=\"250\" width=\"300\" alt=\"241167\"/></a></div><div class=\"quicklinks\"><span class=\"qlheader\">Real Estate</span><div class=\\'feature_line\\'><div id=\\'feature_left\\'><a class=\"feat_link\" href=\"https://classifieds.castanet.net/details/familypet_friendly_with_large_yard/5042861/\"><img src=\"https://c.castanet.net/img/45/5042861-1-1.jpg\" alt=\"5042861\" width=\"80\" height=\"60\" class=\"feat_img\"/></a></div>\\n<div class=\"feat_details\">9 610 Katherine Rd<br>\\n2 bedrooms 2 baths <br>\\n$420,000<br><a class=\"feat_link\" href=\"https://classifieds.castanet.net/details/familypet_friendly_with_large_yard/5042861/\">more details</a><br></div><div class=\"clear\"></div></div>\\n</div>\\n<div style=\"margin-bottom:40px\"><div style=\"width:300px;height:250px;border-radius:7px;overflow:hidden\"><a href=\"https://www.castanetkamloops.net/cgi-bin2/stats/clickcounter.cgi?id=241471&amp;cid=365698&amp;region=1155\" rel=\"nofollow\" target=\"_blank\"><img src=\"https://x.castanet.net/ArtWalk/24-07/display/LCArtWalk-MR1.gif\" height=\"250\" width=\"300\" alt=\"241471\"/></a></div></div>\\n<div style=\"width:300px;height:600px;border-radius:7px;overflow:hidden\"><a href=\"https://www.castanetkamloops.net/cgi-bin2/stats/clickcounter.cgi?id=240323&amp;cid=363939&amp;region=722\" rel=\"nofollow\" target=\"_blank\"><img src=\"https://x.castanet.net/TotalRestorationKamloops/24-07/display/TotalRestorationKamloops-ComingSoon-HP2.gif\" height=\"600\" width=\"300\" alt=\"240323\" loading=\"lazy\"/></a></div><div style=\"margin:40px 0 40px 0;text-align:center;color:#000\"><a href=\"https://rtdnacanada.com/\"><img src=\"/img/RTNDA.jpg\" alt=\"Castanet Proud Member of RTNDA Canada\" width=\"300\" height=\"115\" loading=\"lazy\"/></a></div>\\n<div style=\"width:300px;height:600px;border-radius:7px;overflow:hidden\"><a href=\"https://www.castanetkamloops.net/cgi-bin2/stats/clickcounter.cgi?id=238604&amp;cid=361301&amp;region=842\" rel=\"nofollow\" target=\"_blank\"><img src=\"https://x.castanet.net/BCLCCossetteMedia/24-07/display/BCLC_Community_Outreach_DisplayAd_300x600_Kamloops.gif\" height=\"600\" width=\"300\" alt=\"238604\" loading=\"lazy\"/></a></div><div style=\"clear:both;margin:40px 0\">\\n<a href=\"/pressroom/\"><img alt=\"Press Room\" src=\"/images/pressroom-300x150-rev.jpg\" width=\"300\" height=\"150\"/></a>\\n</div>\\n<div id=\"sticky\"><div style=\"width:300px;height:600px;border-radius:7px;overflow:hidden\"><a href=\"https://www.castanetkamloops.net/cgi-bin2/stats/clickcounter.cgi?id=242517&amp;cid=345438&amp;region=941\" rel=\"nofollow\" target=\"_blank\"><img src=\"https://x.castanet.net/FoxandSons/24-05/display/FoxandSons-SummerComfort-HP1.jpg\" height=\"600\" width=\"300\" alt=\"242517\" loading=\"lazy\"/></a></div></div>\\n</div>\\n\\t\\t<div class=\"crow\"></div>\\n<div id=\"footlb\" style=\"width:728px;height:90px\"><script src=\\'https://securepubads.g.doubleclick.net/tag/js/gpt.js\\'>\\ngoogletag.pubads().definePassback(\\'/1066367/728x90-general\\', [728, 90]).display();\\n</script>\\n</div>\\n<div id=\"ftbot\">\\r\\n<div id=\"bftleft\">\\r\\n&copy; 2024 Castanet.net\\r\\n<ul>\\r\\n<li><a href=\"/homepage/\" onclick=\"this.style.behavior=\\'url(#default#homepage)\\';this.setHomePage(\\'https://www.castanet.net/\\');\">Make Castanet Your Homepage</a></li>\\r\\n<li><a href=\"/contactus/news-tips.php\">News Tips</a></li>\\r\\n<li><a href=\"/advertise/\">Advertising</a></li>\\r\\n<li><a href=\"/contactus/\">Contact Us</a></li>\\r\\n</ul>\\r\\n</div>\\r\\n<div id=\"bftright\">\\r\\n</div>\\r\\n<div class=\"crow\"></div>\\r\\n</div>\\r\\n\\t</div>\\n</div>\\n</div>\\n\\n<div id=\"backtotop\"><a href=\"#\" class=\"totop\" title=\"Top of Page\"></a><a href=\"#\" class=\"homebtn\" title=\"Home Page\"></a></div>\\n<noscript><img src=\"https://sb.scorecardresearch.com/p?c1=2&amp;c2=6034663&amp;cv=3.6.0&amp;cj=1\" alt=\"\" /></noscript>\\n<script>function getCookie(name) {\\n\\tvar re = new RegExp(name + \"=([^;]+)\");\\n\\tvar value = re.exec(document.cookie);\\n\\treturn (value != null) ? unescape(value[1]) : \\'0\\';\\n}\\n\\nvar winheight=0;\\nfunction flyout(el){\\n\\tfo_menu=$(el).parent().children(\\'ul\\');\\n\\tif(winheight==0 ||winheight!=$(window).height()){\\n\\t\\t$(fo_menu).css(\\'top\\', \\'-100px\\');\\n\\t\\twinheight=$(window).height();\\n\\t}\\n\\tfo_height=$(fo_menu).outerHeight();\\n\\tfo_bottom=($(fo_menu).offset().top + fo_height-$(window).scrollTop());\\n\\tif($(window).height()<fo_bottom){\\n\\t\\tnewtop=(fo_bottom-$(window).height()+105)*-1;\\n\\t\\t$(fo_menu).css(\\'top\\', newtop + \\'px\\');\\n\\t}\\n}\\n\\n$(\\'a.taphover\\').on(\"touchstart\", function (e) {\\n    \"use strict\"; //satisfy the code inspectors\\n\\tvar link = $(this); //preselect the link\\n\\n    if (link.hasClass(\\'hover\\')) {\\n\\treturn true;\\n    } else {\\n\\t link.addClass(\"hover\");\\n\\tflyout(link);\\n\\t$(\\'a.taphover\\').not(this).removeClass(\"hover\");\\n\\te.preventDefault();\\n\\treturn false;\\n    }\\n});\\n</script>\\n<script type=\"text/javascript\" src=\"/js/main1o.js\"></script>\\n<script>\\nfunction doComment(el,topic,newsurl,newsid) {\\n\\t$.post(\"/postcomment.php\",{t:topic,storyurl:newsurl,storyid:newsid}, function( data ) {\\n\\t\\tif (data) {\\n\\t\\t\\t$(\"#postcomment\"+topic).html(data);\\n\\t\\t}\\n\\t});\\n}\\nfunction postComment(el,topic) {\\n\\tvar mycomment = $(el).find(\\'textarea\\').val().trim();\\n\\tif (mycomment === \\'\\' || mycomment == null) {\\n\\t\\talert(\"You didn\\'t enter a comment\");\\n\\t}\\n\\telse {\\n\\t\\t$.post(\"/postcomment.php\",{t:topic,message:mycomment}, function( data ) {\\n\\t\\t\\tif (data) {\\n\\t\\t\\t\\t$(\\'#postcomment\\'+topic).html(\\'<p>Thank you for your comment</p>\\');\\n\\t\\t\\t\\tif ($(\\'#comments\\'+topic).prev().text() === \\'No Comments Yet\\') $(\\'#comments\\'+topic).prev().text(\\'Latest Comment\\');\\n\\t\\t\\t\\t$(\\'#comments\\'+topic).prepend(data);\\n\\t\\t\\t}\\n\\t\\t});\\n\\t}\\n}\\nfunction viewComments(el,topic) {\\n\\t$.get(\"/viewcomments.php\",{t:topic}, function( data ) {\\n\\t\\tif (data) {\\n\\t\\t\\t$(el).hide();\\n\\t\\t\\t$(\"#pc\"+topic).show();\\n\\t\\t\\t$(\"#pc\"+topic).after(data);\\n\\t\\t}\\n\\t});\\n}\\n</script>\\n<script type=\"text/javascript\">if (navigator.userAgent.match(/iPhone/i) || navigator.userAgent.match(/iPad/i) || navigator.userAgent.match(/iPod/i) || navigator.userAgent.match(/Android/i) || navigator.userAgent.match(/BlackBerry/i)) {\\nvar isPad=true;\\nvar sticky_class=\"stick_pad\";\\nvar sticky_offset=15;\\n}else{ \\nvar isPad=false;\\nvar sticky_class=\"stick\";\\nvar sticky_offset=90;\\n}\\n$(window).bind(\"load\", function() {\\n\\tif($(\"#lnews\").height()<=$(\"#rnews\").height()) return;\\n\\tvar s = $(\"#sticky\");\\n\\tvar pos = s.position();\\n\\tvar p_height=$(document).height();\\n\\tvar ad_height=s.height();\\n\\t$(window).scroll(function() {\\n\\t\\tp_height=$(document).height();\\n\\t\\tvar windowpos = $(window).scrollTop();\\n\\t\\tif(windowpos+ad_height+200>p_height-100){\\n\\t\\t\\tmax_top=p_height-200-ad_height-10;\\n\\t\\t\\ts.css({\"position\":\"absolute\", \"top\":max_top+\"px\"})\\n\\t\\t\\ts.removeClass(sticky_class);\\n\\t\\t}else{\\n\\t\\t\\tif ((windowpos+sticky_offset)>=pos.top) {\\n\\t\\t\\t\\ts.css({\"position\":\"\", \"top\":\"\"})\\n\\t\\t\\t\\ts.addClass(sticky_class);\\n\\t\\t\\t} else {\\n\\t\\t\\t\\ts.removeClass(sticky_class);\\n\\t\\t\\t}\\n\\t\\t}\\n\\t});\\n});\\n$.fn.isOnScreen = function(){\\nvar win = $(window);\\nvar viewport = {\\ntop : win.scrollTop(),\\nleft : win.scrollLeft()\\n};\\nviewport.right = viewport.left + win.width();\\nviewport.bottom = viewport.top + win.height();\\n\\nvar bounds = this.offset();\\nbounds.right = bounds.left + this.outerWidth();\\nbounds.bottom = bounds.top + this.outerHeight();\\n\\nreturn (!(viewport.right < bounds.left || viewport.left > bounds.right || viewport.bottom < bounds.top || viewport.top > bounds.bottom));\\n};\\n</script>\\n<script>(function(){function c(){var b=a.contentDocument||a.contentWindow.document;if(b){var d=b.createElement(\\'script\\');d.innerHTML=\"window.__CF$cv$params={r:\\'8b4c8773e80274a6\\',t:\\'MTcyMzkyNzc1MC4wMDAwMDA=\\'};var a=document.createElement(\\'script\\');a.nonce=\\'\\';a.src=\\'/cdn-cgi/challenge-platform/scripts/jsd/main.js\\';document.getElementsByTagName(\\'head\\')[0].appendChild(a);\";b.getElementsByTagName(\\'head\\')[0].appendChild(d)}}if(document.body){var a=document.createElement(\\'iframe\\');a.height=1;a.width=1;a.style.position=\\'absolute\\';a.style.top=0;a.style.left=0;a.style.border=\\'none\\';a.style.visibility=\\'hidden\\';document.body.appendChild(a);if(\\'loading\\'!==document.readyState)c();else if(window.addEventListener)document.addEventListener(\\'DOMContentLoaded\\',c);else{var e=document.onreadystatechange||function(){};document.onreadystatechange=function(b){e(b);\\'loading\\'!==document.readyState&&(document.onreadystatechange=e,c())}}}})();</script></body>\\n</html>\\n',\n",
       " 'article_html': '',\n",
       " 'is_parsed': True,\n",
       " 'download_state': 2,\n",
       " 'download_exception_msg': None,\n",
       " 'meta_description': 'Starbucks, struggling with weak demand and disgruntled investors, said Tuesday that CEO Laxman Narasimhan is stepping down after a little more than a year in the job.',\n",
       " 'meta_lang': 'en',\n",
       " 'meta_favicon': '',\n",
       " 'meta_data': defaultdict(dict,\n",
       "             {'fb': {'app_id': 1495581714056366},\n",
       "              'twitter': {'card': 'summary_large_image',\n",
       "               'site': '@CastanetNews'},\n",
       "              'og': {'type': 'article',\n",
       "               'title': 'Starbucks replaces its CEO, names Chipotle chief to head the company - Business News',\n",
       "               'description': 'Starbucks, struggling with weak demand and disgruntled investors, said Tuesday that CEO Laxman Narasimhan is stepping down after a little more than a year in the job.',\n",
       "               'url': 'https://www.castanet.net/news/Business/501194/Starbucks-replaces-its-CEO-names-Chipotle-chief-to-head-the-company',\n",
       "               'image': 'https://www.castanet.net/content/2024/8/37a61014e499717cd703e4a6c1730cc550663707ea732a0d131787b5c7e8e517_p3883387.jpg'},\n",
       "              'article': {'publisher': 'https://www.facebook.com/Castanet.net',\n",
       "               'content_tier': 'free',\n",
       "               'opinion': 'false'},\n",
       "              'description': 'Starbucks, struggling with weak demand and disgruntled investors, said Tuesday that CEO Laxman Narasimhan is stepping down after a little more than a year in the job.',\n",
       "              'referrer': 'always'}),\n",
       " 'canonical_link': 'https://www.castanet.net/news/Business/501194/Starbucks-replaces-its-CEO-names-Chipotle-chief-to-head-the-company',\n",
       " 'top_node': <Element div at 0x1076ba120>,\n",
       " 'clean_top_node': <Element div at 0x1076b8e60>,\n",
       " 'doc': <Element html at 0x106383750>,\n",
       " 'clean_doc': <Element html at 0x1076abd90>,\n",
       " 'additional_data': {},\n",
       " 'link_hash': 'f738a03304b5ccc48a45e81b43699939.1723927750.307014'}"
      ]
     },
     "execution_count": 10,
     "metadata": {},
     "output_type": "execute_result"
    }
   ],
   "source": [
    "article.__dict__"
   ]
  },
  {
   "cell_type": "code",
   "execution_count": null,
   "metadata": {},
   "outputs": [],
   "source": []
  }
 ],
 "metadata": {
  "kernelspec": {
   "display_name": ".venv",
   "language": "python",
   "name": "python3"
  },
  "language_info": {
   "codemirror_mode": {
    "name": "ipython",
    "version": 3
   },
   "file_extension": ".py",
   "mimetype": "text/x-python",
   "name": "python",
   "nbconvert_exporter": "python",
   "pygments_lexer": "ipython3",
   "version": "3.12.3"
  }
 },
 "nbformat": 4,
 "nbformat_minor": 2
}
