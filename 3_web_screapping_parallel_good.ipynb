{
 "cells": [
  {
   "cell_type": "code",
   "execution_count": 2,
   "metadata": {},
   "outputs": [],
   "source": [
    "import pandas as pd\n",
    "import requests\n",
    "\n",
    "pd.set_option('display.max_columns', None)\n",
    "# pd.set_option('display.max_colwidth', None)"
   ]
  },
  {
   "cell_type": "code",
   "execution_count": 3,
   "metadata": {},
   "outputs": [],
   "source": [
    "df = pd.read_pickle(\"data/20240813.gkg.first-1000-news.pkl\")"
   ]
  },
  {
   "cell_type": "code",
   "execution_count": 4,
   "metadata": {},
   "outputs": [],
   "source": [
    "gkg = pd.read_pickle(\"data/20240813.gkg.pkl\")"
   ]
  },
  {
   "cell_type": "code",
   "execution_count": 5,
   "metadata": {},
   "outputs": [],
   "source": [
    "list_urls = gkg[\"first_url\"].head(100).to_list()"
   ]
  },
  {
   "cell_type": "code",
   "execution_count": 6,
   "metadata": {},
   "outputs": [
    {
     "data": {
      "text/plain": [
       "100"
      ]
     },
     "execution_count": 6,
     "metadata": {},
     "output_type": "execute_result"
    }
   ],
   "source": [
    "len(list_urls)"
   ]
  },
  {
   "cell_type": "code",
   "execution_count": 7,
   "metadata": {},
   "outputs": [],
   "source": [
    "from newspaper import Article\n",
    "from newspaper import Config\n",
    "\n",
    "user_agent = 'Mozilla/5.0 (Macintosh; Intel Mac OS X 10_11_5) AppleWebKit/537.36 (KHTML, like Gecko) Chrome/50.0.2661.102 Safari/537.36'\n",
    "config = Config()\n",
    "config.browser_user_agent = user_agent\n",
    "def get_article(url):\n",
    "    try:\n",
    "        article = Article(url, config=config)\n",
    "        article.download()\n",
    "        article.parse()\n",
    "        article.nlp()\n",
    "        data = {\n",
    "            \"title\": article.title,\n",
    "            \"text\": article.text,\n",
    "            \"summary\": article.summary\n",
    "        }\n",
    "        return data\n",
    "    except Exception as e:\n",
    "        return {\n",
    "            \"title\": \"ERROR\",\n",
    "            \"text\": str(e),\n",
    "            \"summary\": \"ERROR\"\n",
    "        }"
   ]
  },
  {
   "cell_type": "code",
   "execution_count": 8,
   "metadata": {},
   "outputs": [],
   "source": [
    "import time\n",
    "def get_article(url):\n",
    "    start_time = time.time()\n",
    "    download_time = parse_time = nlp_time = None\n",
    "    \n",
    "    try:\n",
    "        article = Article(url, config=config)\n",
    "        \n",
    "        start_download = time.time()\n",
    "        article.download()\n",
    "        download_time = time.time() - start_download\n",
    "        \n",
    "        start_parse = time.time()\n",
    "        article.parse()\n",
    "        parse_time = time.time() - start_parse\n",
    "        \n",
    "        start_nlp = time.time()\n",
    "        article.nlp()\n",
    "        nlp_time = time.time() - start_nlp\n",
    "        \n",
    "        data = {\n",
    "            \"title\": article.title,\n",
    "            \"text\": article.text,\n",
    "            \"summary\": article.summary,\n",
    "        }\n",
    "    except Exception as e:\n",
    "        data = {\n",
    "            \"title\": \"ERROR\",\n",
    "            \"text\": str(e),\n",
    "            \"summary\": \"ERROR\",\n",
    "        }\n",
    "    finally:\n",
    "        total_time = time.time() - start_time\n",
    "        data = {\n",
    "            **data,\n",
    "            \"download\": download_time,\n",
    "            \"parse\": parse_time,\n",
    "            \"nlp\": nlp_time,\n",
    "            \"total\": total_time\n",
    "        }\n",
    "        return data"
   ]
  },
  {
   "cell_type": "code",
   "execution_count": 9,
   "metadata": {},
   "outputs": [],
   "source": [
    "from concurrent.futures import ThreadPoolExecutor, as_completed\n",
    "\n",
    "def scrape_articles_parallel(urls, max_workers=10):\n",
    "    results = [None] * len(urls)\n",
    "    with ThreadPoolExecutor(max_workers=max_workers) as executor:\n",
    "        future_to_index = {executor.submit(get_article, url): i for i, url in enumerate(urls)}\n",
    "        for future in as_completed(future_to_index):\n",
    "            index = future_to_index[future]\n",
    "            results[index] = future.result()\n",
    "    return results"
   ]
  },
  {
   "cell_type": "code",
   "execution_count": 10,
   "metadata": {},
   "outputs": [],
   "source": [
    "articles = scrape_articles_parallel(list_urls,10)"
   ]
  },
  {
   "cell_type": "code",
   "execution_count": 29,
   "metadata": {},
   "outputs": [
    {
     "name": "stderr",
     "output_type": "stream",
     "text": [
      "/Users/ahueteg/Documents/workspace/ahueteg/hackatons/factored-datathon-2024-ariteam/.venv/lib/python3.12/site-packages/dateutil/parser/_parser.py:1207: UnknownTimezoneWarning: tzname ET identified but not understood.  Pass `tzinfos` argument in order to correctly return a timezone-aware datetime.  In a future version, this will raise an exception.\n",
      "  warnings.warn(\"tzname {tzname} identified but not understood.  \"\n"
     ]
    }
   ],
   "source": [
    "articles = scrape_articles_parallel(list_urls,20)"
   ]
  },
  {
   "cell_type": "code",
   "execution_count": 44,
   "metadata": {},
   "outputs": [
    {
     "name": "stderr",
     "output_type": "stream",
     "text": [
      "/Users/ahueteg/Documents/workspace/ahueteg/hackatons/factored-datathon-2024-ariteam/.venv/lib/python3.12/site-packages/dateutil/parser/_parser.py:1207: UnknownTimezoneWarning: tzname ET identified but not understood.  Pass `tzinfos` argument in order to correctly return a timezone-aware datetime.  In a future version, this will raise an exception.\n",
      "  warnings.warn(\"tzname {tzname} identified but not understood.  \"\n",
      "/Users/ahueteg/Documents/workspace/ahueteg/hackatons/factored-datathon-2024-ariteam/.venv/lib/python3.12/site-packages/dateutil/parser/_parser.py:1207: UnknownTimezoneWarning: tzname CDT identified but not understood.  Pass `tzinfos` argument in order to correctly return a timezone-aware datetime.  In a future version, this will raise an exception.\n",
      "  warnings.warn(\"tzname {tzname} identified but not understood.  \"\n"
     ]
    }
   ],
   "source": [
    "\n",
    "articles = scrape_articles_parallel(list_urls,40)"
   ]
  },
  {
   "cell_type": "code",
   "execution_count": 13,
   "metadata": {},
   "outputs": [
    {
     "data": {
      "text/plain": [
       "'https://www.portstephensexaminer.com.au/story/8728260/port-stephens-man-pleads-not-guilty-to-axe-handle-assault/?cs=30'"
      ]
     },
     "execution_count": 13,
     "metadata": {},
     "output_type": "execute_result"
    }
   ],
   "source": [
    "list_urls[30]"
   ]
  },
  {
   "cell_type": "code",
   "execution_count": 14,
   "metadata": {},
   "outputs": [
    {
     "data": {
      "text/plain": [
       "{'title': 'Man on bail denies bashing drunk person with axe handle',\n",
       " 'text': \"Raymond Terrace courthouse. File picture\\n\\nA MAN accused of bashing a drunk person with an axe handle at Port Stephens has formally denied the charge.\\n\\nSubscribe now for unlimited access .\\n\\nor signup to continue reading\\n\\nAll articles from our website\\n\\nThe digital version of Today's Paper\\n\\nBreaking news alerts direct to your inbox\\n\\nAll articles from the other in your area\\n\\nJarrod Tarrant did not appear in Raymond Terrace Local Court on Monday when his solicitor pleaded not guilty to assault occasioning actual bodily harm, on his behalf.\\n\\nThe 29-year-old was on bail on the night of July 26 when a man was punched, kicked, and beaten with an axe handle - suffering a ruptured spleen which required treatment in a hospital intensive care unit - at Shoal Bay.\\n\\nThe court heard when the matter was first mentioned three days after Mr Tarrant's arrest he planned to fight the charge on the basis he said he was at home celebrating a birthday with two people at the time of the alleged attack.\\n\\nThe court also heard the injured man admitted he drank two litres of wine before the alleged assault, but was sure Mr Tarrant was responsible when he spoke to police from his hospital bed.\\n\\nThe court heard on Monday the Office of the Director of Public Prosecutions had not elected to become involved in the case.\\n\\nThe not guilty plea means Mr Tarrant will face a local court hearing.\\n\\nMagistrate Kirralee Perry ordered the brief of evidence be served before the matter is next mentioned again on September 23.\\n\\nMr Tarrant remains in custody, on remand.\\n\\nAdvertisement\\n\\nAd\\n\\nGet the latest Nelson Bay news in your inbox\\n\\nSign up for our newsletter to stay up to date.\\n\\nEmail address\\n\\nWe care about the protection of your data. Read our Privacy Policy.\\n\\nAdvertisement\\n\\nAd\",\n",
       " 'summary': 'Raymond Terrace courthouse.\\nFile picture A MAN accused of bashing a drunk person with an axe handle at Port Stephens has formally denied the charge.\\nThe 29-year-old was on bail on the night of July 26 when a man was punched, kicked, and beaten with an axe handle - suffering a ruptured spleen which required treatment in a hospital intensive care unit - at Shoal Bay.\\nThe court heard on Monday the Office of the Director of Public Prosecutions had not elected to become involved in the case.\\nMr Tarrant remains in custody, on remand.',\n",
       " 'download': 3.5645508766174316,\n",
       " 'parse': 0.21735215187072754,\n",
       " 'nlp': 0.0018930435180664062,\n",
       " 'total': 3.783857822418213}"
      ]
     },
     "execution_count": 14,
     "metadata": {},
     "output_type": "execute_result"
    }
   ],
   "source": [
    "articles[30]"
   ]
  },
  {
   "cell_type": "code",
   "execution_count": 15,
   "metadata": {},
   "outputs": [
    {
     "name": "stdout",
     "output_type": "stream",
     "text": [
      "Number of CPU cores: 10\n"
     ]
    }
   ],
   "source": [
    "import multiprocessing\n",
    "\n",
    "def get_core_count():\n",
    "    return multiprocessing.cpu_count()\n",
    "\n",
    "print(f\"Number of CPU cores: {get_core_count()}\")"
   ]
  },
  {
   "cell_type": "code",
   "execution_count": 33,
   "metadata": {},
   "outputs": [],
   "source": [
    "pd.DataFrame(articles).to_csv(\"data/20240813.gkg.first-1000-news-articles.csv\", index=False)"
   ]
  },
  {
   "cell_type": "code",
   "execution_count": 30,
   "metadata": {},
   "outputs": [
    {
     "data": {
      "text/html": [
       "<div>\n",
       "<style scoped>\n",
       "    .dataframe tbody tr th:only-of-type {\n",
       "        vertical-align: middle;\n",
       "    }\n",
       "\n",
       "    .dataframe tbody tr th {\n",
       "        vertical-align: top;\n",
       "    }\n",
       "\n",
       "    .dataframe thead th {\n",
       "        text-align: right;\n",
       "    }\n",
       "</style>\n",
       "<table border=\"1\" class=\"dataframe\">\n",
       "  <thead>\n",
       "    <tr style=\"text-align: right;\">\n",
       "      <th></th>\n",
       "      <th>title</th>\n",
       "      <th>text</th>\n",
       "      <th>summary</th>\n",
       "      <th>download</th>\n",
       "      <th>parse</th>\n",
       "      <th>nlp</th>\n",
       "      <th>total</th>\n",
       "    </tr>\n",
       "  </thead>\n",
       "  <tbody>\n",
       "    <tr>\n",
       "      <th>995</th>\n",
       "      <td>Soldier charged for Kiss driver's road death o...</td>\n",
       "      <td>Laurel V Williams\\n\\nJALANI Mapp, the man char...</td>\n",
       "      <td>Laurel V Williams JALANI Mapp, the man charged...</td>\n",
       "      <td>8.456538</td>\n",
       "      <td>0.210626</td>\n",
       "      <td>0.002457</td>\n",
       "      <td>8.669670</td>\n",
       "    </tr>\n",
       "    <tr>\n",
       "      <th>996</th>\n",
       "      <td>Bangladesh Sees 12-Year High Inflation Amid Pr...</td>\n",
       "      <td>Bangladesh's inflation in July reached a 12-ye...</td>\n",
       "      <td>Bangladesh's inflation in July reached a 12-ye...</td>\n",
       "      <td>4.836724</td>\n",
       "      <td>1.499970</td>\n",
       "      <td>0.001541</td>\n",
       "      <td>6.338301</td>\n",
       "    </tr>\n",
       "    <tr>\n",
       "      <th>997</th>\n",
       "      <td>ERROR</td>\n",
       "      <td>Article `download()` failed with HTTPConnectio...</td>\n",
       "      <td>ERROR</td>\n",
       "      <td>10.675692</td>\n",
       "      <td>NaN</td>\n",
       "      <td>NaN</td>\n",
       "      <td>10.675741</td>\n",
       "    </tr>\n",
       "    <tr>\n",
       "      <th>998</th>\n",
       "      <td>Your superb shots of the Northern Lights visib...</td>\n",
       "      <td>The Aurora Borealis was visible in parts of th...</td>\n",
       "      <td>The Aurora Borealis was visible in parts of th...</td>\n",
       "      <td>9.594916</td>\n",
       "      <td>0.327279</td>\n",
       "      <td>0.001642</td>\n",
       "      <td>9.923888</td>\n",
       "    </tr>\n",
       "    <tr>\n",
       "      <th>999</th>\n",
       "      <td>LQR House Inc. Announces 382% Year-Over-Year R...</td>\n",
       "      <td>MIAMI BEACH, FL / ACCESSWIRE / August 13, 2024...</td>\n",
       "      <td>In July 2023, LQR House reported revenues of $...</td>\n",
       "      <td>3.938475</td>\n",
       "      <td>25.957049</td>\n",
       "      <td>0.003842</td>\n",
       "      <td>29.899412</td>\n",
       "    </tr>\n",
       "  </tbody>\n",
       "</table>\n",
       "</div>"
      ],
      "text/plain": [
       "                                                 title  \\\n",
       "995  Soldier charged for Kiss driver's road death o...   \n",
       "996  Bangladesh Sees 12-Year High Inflation Amid Pr...   \n",
       "997                                              ERROR   \n",
       "998  Your superb shots of the Northern Lights visib...   \n",
       "999  LQR House Inc. Announces 382% Year-Over-Year R...   \n",
       "\n",
       "                                                  text  \\\n",
       "995  Laurel V Williams\\n\\nJALANI Mapp, the man char...   \n",
       "996  Bangladesh's inflation in July reached a 12-ye...   \n",
       "997  Article `download()` failed with HTTPConnectio...   \n",
       "998  The Aurora Borealis was visible in parts of th...   \n",
       "999  MIAMI BEACH, FL / ACCESSWIRE / August 13, 2024...   \n",
       "\n",
       "                                               summary   download      parse  \\\n",
       "995  Laurel V Williams JALANI Mapp, the man charged...   8.456538   0.210626   \n",
       "996  Bangladesh's inflation in July reached a 12-ye...   4.836724   1.499970   \n",
       "997                                              ERROR  10.675692        NaN   \n",
       "998  The Aurora Borealis was visible in parts of th...   9.594916   0.327279   \n",
       "999  In July 2023, LQR House reported revenues of $...   3.938475  25.957049   \n",
       "\n",
       "          nlp      total  \n",
       "995  0.002457   8.669670  \n",
       "996  0.001541   6.338301  \n",
       "997       NaN  10.675741  \n",
       "998  0.001642   9.923888  \n",
       "999  0.003842  29.899412  "
      ]
     },
     "execution_count": 30,
     "metadata": {},
     "output_type": "execute_result"
    }
   ],
   "source": [
    "pd.DataFrame(articles).tail()"
   ]
  },
  {
   "cell_type": "code",
   "execution_count": 46,
   "metadata": {},
   "outputs": [
    {
     "data": {
      "text/html": [
       "<div>\n",
       "<style scoped>\n",
       "    .dataframe tbody tr th:only-of-type {\n",
       "        vertical-align: middle;\n",
       "    }\n",
       "\n",
       "    .dataframe tbody tr th {\n",
       "        vertical-align: top;\n",
       "    }\n",
       "\n",
       "    .dataframe thead th {\n",
       "        text-align: right;\n",
       "    }\n",
       "</style>\n",
       "<table border=\"1\" class=\"dataframe\">\n",
       "  <thead>\n",
       "    <tr style=\"text-align: right;\">\n",
       "      <th></th>\n",
       "      <th>title</th>\n",
       "      <th>text</th>\n",
       "      <th>summary</th>\n",
       "      <th>download</th>\n",
       "      <th>parse</th>\n",
       "      <th>nlp</th>\n",
       "      <th>total</th>\n",
       "    </tr>\n",
       "  </thead>\n",
       "  <tbody>\n",
       "    <tr>\n",
       "      <th>9998</th>\n",
       "      <td>NITDA, Japan partner to empower startups with ...</td>\n",
       "      <td>The National Information Technology Developmen...</td>\n",
       "      <td>The National Information Technology Developmen...</td>\n",
       "      <td>4.829097</td>\n",
       "      <td>206.816207</td>\n",
       "      <td>0.002367</td>\n",
       "      <td>211.647736</td>\n",
       "    </tr>\n",
       "    <tr>\n",
       "      <th>7976</th>\n",
       "      <td>SVB&amp;T Corp.: SVB&amp;T Corporation Reports 2024 Se...</td>\n",
       "      <td>SVB&amp;T Corporation (OTCQX:SVBT), parent company...</td>\n",
       "      <td>Interest income increased $890,000 compared to...</td>\n",
       "      <td>5.704282</td>\n",
       "      <td>111.365592</td>\n",
       "      <td>0.013440</td>\n",
       "      <td>117.083366</td>\n",
       "    </tr>\n",
       "    <tr>\n",
       "      <th>8071</th>\n",
       "      <td>Franco-Nevada Reports Q2 2024 Results; New Min...</td>\n",
       "      <td>New Mine Start-ups and Acquisitions\\n\\n(in U.S...</td>\n",
       "      <td>Q2 2024 Portfolio Updates Precious Metal asset...</td>\n",
       "      <td>6.259472</td>\n",
       "      <td>96.307791</td>\n",
       "      <td>0.036811</td>\n",
       "      <td>102.604130</td>\n",
       "    </tr>\n",
       "    <tr>\n",
       "      <th>9428</th>\n",
       "      <td>Ponsse Oyj : Half year Report for 1 January 30...</td>\n",
       "      <td>Ponsse's Half-year Report for 1 January - 30 J...</td>\n",
       "      <td>DISTRIBUTION NETWORK In the new operating mode...</td>\n",
       "      <td>7.137853</td>\n",
       "      <td>88.686141</td>\n",
       "      <td>0.036498</td>\n",
       "      <td>95.860548</td>\n",
       "    </tr>\n",
       "    <tr>\n",
       "      <th>5760</th>\n",
       "      <td>1843 Seated Dollar</td>\n",
       "      <td>Author Replies: 12 / Views: 1,690\\n\\nValued Me...</td>\n",
       "      <td>Pillar of the Community United States 4049 Pos...</td>\n",
       "      <td>5.871923</td>\n",
       "      <td>75.527072</td>\n",
       "      <td>0.003525</td>\n",
       "      <td>81.402565</td>\n",
       "    </tr>\n",
       "    <tr>\n",
       "      <th>6408</th>\n",
       "      <td>More than 20 injured in German train crash</td>\n",
       "      <td>BERLIN - An east German regional train struck ...</td>\n",
       "      <td>BERLIN - An east German regional train struck ...</td>\n",
       "      <td>8.011999</td>\n",
       "      <td>68.955060</td>\n",
       "      <td>0.001326</td>\n",
       "      <td>76.968432</td>\n",
       "    </tr>\n",
       "    <tr>\n",
       "      <th>7918</th>\n",
       "      <td>Syndicated Article – Your Fort Dodge</td>\n",
       "      <td></td>\n",
       "      <td></td>\n",
       "      <td>4.412640</td>\n",
       "      <td>72.175424</td>\n",
       "      <td>0.000181</td>\n",
       "      <td>76.588318</td>\n",
       "    </tr>\n",
       "    <tr>\n",
       "      <th>2269</th>\n",
       "      <td>Defunct N.S. regional development agency to un...</td>\n",
       "      <td>HALIFAX - A forensic audit will determine what...</td>\n",
       "      <td>Percy Paris, the economic and rural developmen...</td>\n",
       "      <td>8.450237</td>\n",
       "      <td>67.218402</td>\n",
       "      <td>0.002903</td>\n",
       "      <td>75.671610</td>\n",
       "    </tr>\n",
       "    <tr>\n",
       "      <th>6542</th>\n",
       "      <td>CTV Montreal: Stephane Giroux at the courthouse</td>\n",
       "      <td>You are now being redirected to the BCE.ca web...</td>\n",
       "      <td>You are now being redirected to the BCE.ca web...</td>\n",
       "      <td>9.847173</td>\n",
       "      <td>65.702806</td>\n",
       "      <td>0.005332</td>\n",
       "      <td>75.555381</td>\n",
       "    </tr>\n",
       "    <tr>\n",
       "      <th>3720</th>\n",
       "      <td>Young people see online slurs as jokes: AP-MTV...</td>\n",
       "      <td>WASHINGTON - Is it ever OK to tweet that a gir...</td>\n",
       "      <td>Jaded by the Internet free-for-all, teens and ...</td>\n",
       "      <td>8.151193</td>\n",
       "      <td>66.477123</td>\n",
       "      <td>0.006284</td>\n",
       "      <td>74.634714</td>\n",
       "    </tr>\n",
       "  </tbody>\n",
       "</table>\n",
       "</div>"
      ],
      "text/plain": [
       "                                                  title  \\\n",
       "9998  NITDA, Japan partner to empower startups with ...   \n",
       "7976  SVB&T Corp.: SVB&T Corporation Reports 2024 Se...   \n",
       "8071  Franco-Nevada Reports Q2 2024 Results; New Min...   \n",
       "9428  Ponsse Oyj : Half year Report for 1 January 30...   \n",
       "5760                                 1843 Seated Dollar   \n",
       "6408         More than 20 injured in German train crash   \n",
       "7918               Syndicated Article – Your Fort Dodge   \n",
       "2269  Defunct N.S. regional development agency to un...   \n",
       "6542    CTV Montreal: Stephane Giroux at the courthouse   \n",
       "3720  Young people see online slurs as jokes: AP-MTV...   \n",
       "\n",
       "                                                   text  \\\n",
       "9998  The National Information Technology Developmen...   \n",
       "7976  SVB&T Corporation (OTCQX:SVBT), parent company...   \n",
       "8071  New Mine Start-ups and Acquisitions\\n\\n(in U.S...   \n",
       "9428  Ponsse's Half-year Report for 1 January - 30 J...   \n",
       "5760  Author Replies: 12 / Views: 1,690\\n\\nValued Me...   \n",
       "6408  BERLIN - An east German regional train struck ...   \n",
       "7918                                                      \n",
       "2269  HALIFAX - A forensic audit will determine what...   \n",
       "6542  You are now being redirected to the BCE.ca web...   \n",
       "3720  WASHINGTON - Is it ever OK to tweet that a gir...   \n",
       "\n",
       "                                                summary  download       parse  \\\n",
       "9998  The National Information Technology Developmen...  4.829097  206.816207   \n",
       "7976  Interest income increased $890,000 compared to...  5.704282  111.365592   \n",
       "8071  Q2 2024 Portfolio Updates Precious Metal asset...  6.259472   96.307791   \n",
       "9428  DISTRIBUTION NETWORK In the new operating mode...  7.137853   88.686141   \n",
       "5760  Pillar of the Community United States 4049 Pos...  5.871923   75.527072   \n",
       "6408  BERLIN - An east German regional train struck ...  8.011999   68.955060   \n",
       "7918                                                     4.412640   72.175424   \n",
       "2269  Percy Paris, the economic and rural developmen...  8.450237   67.218402   \n",
       "6542  You are now being redirected to the BCE.ca web...  9.847173   65.702806   \n",
       "3720  Jaded by the Internet free-for-all, teens and ...  8.151193   66.477123   \n",
       "\n",
       "           nlp       total  \n",
       "9998  0.002367  211.647736  \n",
       "7976  0.013440  117.083366  \n",
       "8071  0.036811  102.604130  \n",
       "9428  0.036498   95.860548  \n",
       "5760  0.003525   81.402565  \n",
       "6408  0.001326   76.968432  \n",
       "7918  0.000181   76.588318  \n",
       "2269  0.002903   75.671610  \n",
       "6542  0.005332   75.555381  \n",
       "3720  0.006284   74.634714  "
      ]
     },
     "execution_count": 46,
     "metadata": {},
     "output_type": "execute_result"
    }
   ],
   "source": [
    "ar = pd.DataFrame(articles)\n",
    "\n",
    "ar.sort_values(\"total\", ascending=False).head(10)"
   ]
  },
  {
   "cell_type": "code",
   "execution_count": null,
   "metadata": {},
   "outputs": [],
   "source": []
  }
 ],
 "metadata": {
  "kernelspec": {
   "display_name": ".venv",
   "language": "python",
   "name": "python3"
  },
  "language_info": {
   "codemirror_mode": {
    "name": "ipython",
    "version": 3
   },
   "file_extension": ".py",
   "mimetype": "text/x-python",
   "name": "python",
   "nbconvert_exporter": "python",
   "pygments_lexer": "ipython3",
   "version": "3.12.3"
  }
 },
 "nbformat": 4,
 "nbformat_minor": 2
}
