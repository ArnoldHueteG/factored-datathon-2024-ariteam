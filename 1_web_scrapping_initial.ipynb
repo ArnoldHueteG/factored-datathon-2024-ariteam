{
 "cells": [
  {
   "cell_type": "code",
   "execution_count": 2,
   "metadata": {},
   "outputs": [],
   "source": [
    "import pandas as pd\n",
    "import requests\n",
    "\n",
    "pd.set_option('display.max_columns', None)\n",
    "# pd.set_option('display.max_colwidth', None)"
   ]
  },
  {
   "cell_type": "code",
   "execution_count": 3,
   "metadata": {},
   "outputs": [],
   "source": [
    "gkg = pd.read_csv(\"data/20240813.gkg.csv\", sep=\"\\t\")\n",
    "#gkg.head()"
   ]
  },
  {
   "cell_type": "code",
   "execution_count": 4,
   "metadata": {},
   "outputs": [
    {
     "data": {
      "text/html": [
       "<div>\n",
       "<style scoped>\n",
       "    .dataframe tbody tr th:only-of-type {\n",
       "        vertical-align: middle;\n",
       "    }\n",
       "\n",
       "    .dataframe tbody tr th {\n",
       "        vertical-align: top;\n",
       "    }\n",
       "\n",
       "    .dataframe thead th {\n",
       "        text-align: right;\n",
       "    }\n",
       "</style>\n",
       "<table border=\"1\" class=\"dataframe\">\n",
       "  <thead>\n",
       "    <tr style=\"text-align: right;\">\n",
       "      <th></th>\n",
       "      <th>DATE</th>\n",
       "      <th>NUMARTS</th>\n",
       "      <th>COUNTS</th>\n",
       "      <th>THEMES</th>\n",
       "      <th>LOCATIONS</th>\n",
       "      <th>PERSONS</th>\n",
       "      <th>ORGANIZATIONS</th>\n",
       "      <th>TONE</th>\n",
       "      <th>CAMEOEVENTIDS</th>\n",
       "      <th>SOURCES</th>\n",
       "      <th>SOURCEURLS</th>\n",
       "    </tr>\n",
       "  </thead>\n",
       "  <tbody>\n",
       "    <tr>\n",
       "      <th>0</th>\n",
       "      <td>20240813</td>\n",
       "      <td>1</td>\n",
       "      <td>NaN</td>\n",
       "      <td>TAX_ETHNICITY;TAX_ETHNICITY_CANADIAN;TAX_FNCAC...</td>\n",
       "      <td>1#Canada#CA#CA#60#-96#CA;1#Israel#IS#IS#31.5#3...</td>\n",
       "      <td>charles krupa;laxman narasimhan;brian niccol;h...</td>\n",
       "      <td>pepsico;starbucks</td>\n",
       "      <td>2.06185567010309,3.78006872852234,1.7182130584...</td>\n",
       "      <td>1192349779</td>\n",
       "      <td>castanetkamloops.net</td>\n",
       "      <td>https://www.castanetkamloops.net/news/Business...</td>\n",
       "    </tr>\n",
       "    <tr>\n",
       "      <th>1</th>\n",
       "      <td>20240813</td>\n",
       "      <td>1</td>\n",
       "      <td>NaN</td>\n",
       "      <td>MANMADE_DISASTER_IMPLIED;</td>\n",
       "      <td>1#Brazil#BR#BR#-10#-55#BR;4#Sao Paulo, SãPaulo...</td>\n",
       "      <td>thalita valente machado;campos alencar e silva...</td>\n",
       "      <td>NaN</td>\n",
       "      <td>-1.52542372881356,2.03389830508475,3.559322033...</td>\n",
       "      <td>NaN</td>\n",
       "      <td>bostonglobe.com</td>\n",
       "      <td>https://www.bostonglobe.com/2024/08/12/world/b...</td>\n",
       "    </tr>\n",
       "    <tr>\n",
       "      <th>2</th>\n",
       "      <td>20240813</td>\n",
       "      <td>1</td>\n",
       "      <td>NaN</td>\n",
       "      <td>SOC_GENERALCRIME;EPU_CATS_MIGRATION_FEAR_FEAR;...</td>\n",
       "      <td>2#Indiana, United States#US#USIN#39.8647#-86.2...</td>\n",
       "      <td>shawn scudder;bob courtney</td>\n",
       "      <td>neighborhood watch program;madison police;madi...</td>\n",
       "      <td>0.199600798403194,1.79640718562874,1.596806387...</td>\n",
       "      <td>1192464356,1192464356,1192501503,1192478508</td>\n",
       "      <td>wdrb.com</td>\n",
       "      <td>https://www.wdrb.com/news/crime-reports/city-o...</td>\n",
       "    </tr>\n",
       "    <tr>\n",
       "      <th>3</th>\n",
       "      <td>20240813</td>\n",
       "      <td>1</td>\n",
       "      <td>NaN</td>\n",
       "      <td>TAX_FNCACT;TAX_FNCACT_SPEAKER;UNGP_FORESTS_RIV...</td>\n",
       "      <td>1#Pakistan#PK#PK#30#70#PK;4#Islamabad, Islamab...</td>\n",
       "      <td>andrei metelitsa</td>\n",
       "      <td>national assembly speaker sardar ayaz sadiq;pa...</td>\n",
       "      <td>5.64102564102564,5.64102564102564,0,5.64102564...</td>\n",
       "      <td>1192348387</td>\n",
       "      <td>brecorder.com</td>\n",
       "      <td>https://www.brecorder.com/news/40317251/na-spe...</td>\n",
       "    </tr>\n",
       "    <tr>\n",
       "      <th>4</th>\n",
       "      <td>20240813</td>\n",
       "      <td>1</td>\n",
       "      <td>NaN</td>\n",
       "      <td>EPU_POLICY;EPU_POLICY_POLITICAL;USPEC_POLITICS...</td>\n",
       "      <td>3#Washington, Washington, United States#US#USD...</td>\n",
       "      <td>michael l kripchak;michael rulli</td>\n",
       "      <td>penguin club;election commission;johnson leads...</td>\n",
       "      <td>0.995024875621891,1.82421227197347,0.829187396...</td>\n",
       "      <td>NaN</td>\n",
       "      <td>tribtoday.com</td>\n",
       "      <td>https://www.tribtoday.com/news/local-news/2024...</td>\n",
       "    </tr>\n",
       "  </tbody>\n",
       "</table>\n",
       "</div>"
      ],
      "text/plain": [
       "       DATE  NUMARTS COUNTS  \\\n",
       "0  20240813        1    NaN   \n",
       "1  20240813        1    NaN   \n",
       "2  20240813        1    NaN   \n",
       "3  20240813        1    NaN   \n",
       "4  20240813        1    NaN   \n",
       "\n",
       "                                              THEMES  \\\n",
       "0  TAX_ETHNICITY;TAX_ETHNICITY_CANADIAN;TAX_FNCAC...   \n",
       "1                          MANMADE_DISASTER_IMPLIED;   \n",
       "2  SOC_GENERALCRIME;EPU_CATS_MIGRATION_FEAR_FEAR;...   \n",
       "3  TAX_FNCACT;TAX_FNCACT_SPEAKER;UNGP_FORESTS_RIV...   \n",
       "4  EPU_POLICY;EPU_POLICY_POLITICAL;USPEC_POLITICS...   \n",
       "\n",
       "                                           LOCATIONS  \\\n",
       "0  1#Canada#CA#CA#60#-96#CA;1#Israel#IS#IS#31.5#3...   \n",
       "1  1#Brazil#BR#BR#-10#-55#BR;4#Sao Paulo, SãPaulo...   \n",
       "2  2#Indiana, United States#US#USIN#39.8647#-86.2...   \n",
       "3  1#Pakistan#PK#PK#30#70#PK;4#Islamabad, Islamab...   \n",
       "4  3#Washington, Washington, United States#US#USD...   \n",
       "\n",
       "                                             PERSONS  \\\n",
       "0  charles krupa;laxman narasimhan;brian niccol;h...   \n",
       "1  thalita valente machado;campos alencar e silva...   \n",
       "2                         shawn scudder;bob courtney   \n",
       "3                                   andrei metelitsa   \n",
       "4                   michael l kripchak;michael rulli   \n",
       "\n",
       "                                       ORGANIZATIONS  \\\n",
       "0                                  pepsico;starbucks   \n",
       "1                                                NaN   \n",
       "2  neighborhood watch program;madison police;madi...   \n",
       "3  national assembly speaker sardar ayaz sadiq;pa...   \n",
       "4  penguin club;election commission;johnson leads...   \n",
       "\n",
       "                                                TONE  \\\n",
       "0  2.06185567010309,3.78006872852234,1.7182130584...   \n",
       "1  -1.52542372881356,2.03389830508475,3.559322033...   \n",
       "2  0.199600798403194,1.79640718562874,1.596806387...   \n",
       "3  5.64102564102564,5.64102564102564,0,5.64102564...   \n",
       "4  0.995024875621891,1.82421227197347,0.829187396...   \n",
       "\n",
       "                                 CAMEOEVENTIDS               SOURCES  \\\n",
       "0                                   1192349779  castanetkamloops.net   \n",
       "1                                          NaN       bostonglobe.com   \n",
       "2  1192464356,1192464356,1192501503,1192478508              wdrb.com   \n",
       "3                                   1192348387         brecorder.com   \n",
       "4                                          NaN         tribtoday.com   \n",
       "\n",
       "                                          SOURCEURLS  \n",
       "0  https://www.castanetkamloops.net/news/Business...  \n",
       "1  https://www.bostonglobe.com/2024/08/12/world/b...  \n",
       "2  https://www.wdrb.com/news/crime-reports/city-o...  \n",
       "3  https://www.brecorder.com/news/40317251/na-spe...  \n",
       "4  https://www.tribtoday.com/news/local-news/2024...  "
      ]
     },
     "execution_count": 4,
     "metadata": {},
     "output_type": "execute_result"
    }
   ],
   "source": [
    "gkg.head()"
   ]
  },
  {
   "cell_type": "code",
   "execution_count": 5,
   "metadata": {},
   "outputs": [],
   "source": [
    "# create a function to apply to counts to split the string AFFECT#3000000#Americans#1#United States#US#US#39.828175#-98.5795#US; into a list. the separator is \";\"\n",
    "\n",
    "def split_counts(counts, sep=\";\"):\n",
    "    if pd.isna(counts):\n",
    "        return []\n",
    "    return counts[:-1].split(sep)\n",
    "\n",
    "# apply the function to the counts column\n",
    "\n",
    "gkg[\"counts\"] = gkg[\"COUNTS\"].apply(split_counts)\n",
    "gkg[\"themes\"] = gkg[\"THEMES\"].apply(split_counts)\n",
    "gkg[\"locations\"] = gkg[\"LOCATIONS\"].apply(split_counts)\n",
    "gkg[\"persons\"] = gkg[\"PERSONS\"].apply(split_counts)\n",
    "gkg[\"organizations\"] = gkg[\"ORGANIZATIONS\"].apply(split_counts)\n",
    "gkg[\"tone\"] = gkg[\"TONE\"].apply(split_counts, sep=\",\")\n",
    "gkg[\"cameoeventids\"] = gkg[\"CAMEOEVENTIDS\"].apply(split_counts, sep=\",\")\n",
    "gkg[\"sources\"] = gkg[\"SOURCES\"].apply(split_counts)\n",
    "gkg[\"sourcesurl\"] = gkg[\"SOURCEURLS\"].apply(split_counts, sep='<UDIV>')\n"
   ]
  },
  {
   "cell_type": "code",
   "execution_count": 6,
   "metadata": {},
   "outputs": [],
   "source": [
    "def get_dicts_from_lists(counts):\n",
    "    if len(counts) == 0:\n",
    "        return []\n",
    "    return [dict(zip([\"COUNTTYPE\", \"NUMBER\", \"OBJECTTYPE\", \"GEO_TYPE\", \"GEO_FULLNAME\", \"GEO_COUNTRYCODE\", \"GEO_ADM1CODE\", \"GEO_LAT\", \"GEO_LONG\", \"GEO_FEATUREID\"], i.split(\"#\"))) for i in counts]\n",
    "\n",
    "gkg[\"counts\"] = gkg[\"counts\"].apply(get_dicts_from_lists)\n",
    "gkg.loc[:, \"first_url\"] = gkg[\"sourcesurl\"].apply(lambda x: x[0].strip())"
   ]
  },
  {
   "cell_type": "code",
   "execution_count": 7,
   "metadata": {},
   "outputs": [],
   "source": [
    "gkg.to_pickle(\"data/20240813.gkg.pkl\")"
   ]
  },
  {
   "cell_type": "code",
   "execution_count": 6,
   "metadata": {},
   "outputs": [
    {
     "data": {
      "text/plain": [
       "0    https://www.castanetkamloops.net/news/Business...\n",
       "1    https://www.bostonglobe.com/2024/08/12/world/b...\n",
       "2    https://www.wdrb.com/news/crime-reports/city-o...\n",
       "3    https://www.brecorder.com/news/40317251/na-spe...\n",
       "4    https://www.tribtoday.com/news/local-news/2024...\n",
       "Name: sourcesurl, dtype: object"
      ]
     },
     "execution_count": 6,
     "metadata": {},
     "output_type": "execute_result"
    }
   ],
   "source": [
    "# expand gkg[\"sourcesurl\"] to create a new row for each value in the list\n",
    "\n",
    "gkg.explode(\"sourcesurl\")[\"sourcesurl\"].head()"
   ]
  },
  {
   "cell_type": "code",
   "execution_count": 7,
   "metadata": {},
   "outputs": [],
   "source": [
    "url = gkg.explode(\"sourcesurl\")[\"sourcesurl\"].iloc[0]"
   ]
  },
  {
   "cell_type": "code",
   "execution_count": 8,
   "metadata": {},
   "outputs": [],
   "source": [
    "url = 'https://www.castanetkamloops.net/news/Business/501194/Starbucks-replaces-its-CEO-names-Chipotle-chief-to-head-the-compan'"
   ]
  },
  {
   "cell_type": "code",
   "execution_count": 10,
   "metadata": {},
   "outputs": [
    {
     "name": "stderr",
     "output_type": "stream",
     "text": [
      "[nltk_data] Downloading package punkt to /Users/ahueteg/nltk_data...\n",
      "[nltk_data]   Package punkt is already up-to-date!\n"
     ]
    },
    {
     "data": {
      "text/plain": [
       "True"
      ]
     },
     "execution_count": 10,
     "metadata": {},
     "output_type": "execute_result"
    }
   ],
   "source": [
    "import nltk\n",
    "nltk.download('punkt')"
   ]
  },
  {
   "cell_type": "code",
   "execution_count": 5,
   "metadata": {},
   "outputs": [
    {
     "name": "stderr",
     "output_type": "stream",
     "text": [
      "[nltk_data] Downloading package punkt to /Users/ahueteg/nltk_data...\n",
      "[nltk_data]   Package punkt is already up-to-date!\n"
     ]
    },
    {
     "data": {
      "text/plain": [
       "True"
      ]
     },
     "execution_count": 5,
     "metadata": {},
     "output_type": "execute_result"
    }
   ],
   "source": [
    "from newspaper import Article\n",
    "from newspaper import Config\n",
    "\n",
    "user_agent = 'Mozilla/5.0 (Macintosh; Intel Mac OS X 10_11_5) AppleWebKit/537.36 (KHTML, like Gecko) Chrome/50.0.2661.102 Safari/537.36'\n",
    "config = Config()\n",
    "config.browser_user_agent = user_agent\n",
    "\n",
    "import nltk\n",
    "nltk.download('punkt')"
   ]
  },
  {
   "cell_type": "code",
   "execution_count": 6,
   "metadata": {},
   "outputs": [],
   "source": [
    "import time\n",
    "from contextlib import contextmanager\n",
    "\n",
    "def measure_time(func):\n",
    "    def wrapper(*args, **kwargs):\n",
    "        start_time = time.time()\n",
    "        result = func(*args, **kwargs)\n",
    "        end_time = time.time()\n",
    "        execution_time = end_time - start_time\n",
    "        print(f\"Function '{func.__name__}' took {execution_time:.6f} seconds to execute.\")\n",
    "        return result\n",
    "    return wrapper\n",
    "\n",
    "@contextmanager\n",
    "def print_time():\n",
    "    start_time = time.time()\n",
    "    yield\n",
    "    end_time = time.time()\n",
    "    print(f\"Execution time: {end_time - start_time:.6f} seconds\")"
   ]
  },
  {
   "cell_type": "code",
   "execution_count": 11,
   "metadata": {},
   "outputs": [],
   "source": [
    "gkg.loc[:, \"first_url\"] = gkg[\"sourcesurl\"].apply(lambda x: x[0].strip())"
   ]
  },
  {
   "cell_type": "code",
   "execution_count": 7,
   "metadata": {},
   "outputs": [
    {
     "data": {
      "text/plain": [
       "{'title': 'Katy Perry, Orlando Bloom Cross Off Major Bucket-List Item In Epic New Clip',\n",
       " 'text': 'Katy Perry and Orlando Bloom recently crossed a daring item off their bucket-list and captured detailed footage of the entire adventure.\\n\\nThe icons enjoyed each other\\'s company in Sardinia, Italy over the weekend, and what better way to spend a romantic holiday than by jumping out of a helicopter straight into the ocean? The \"Firework\" songstress shared video footage to Instagram on Monday (August 12) depicting a successful plunge and memories to last a lifetime.\\n\\nThe first photo in the epic carousel shows Perry and Bloom mid-jump, bracing for impact of the unsettled water beneath them. The next clip in the series shows what happened before the unforgettable moment they exited the aircraft, both seemingly excited and well-prepared for the jump. After a brief countdown, the pair fearlessly shot through the air and into the ocean, recording their descent as they breached the ocean\\'s surface with smiles on their faces.\\n\\nMission: Accomplished!\\n\\nThe third and final photo in the series shows just how high in the sky the couple were when they jumped out of the helicopter, featuring a gorgeous mountain backdrop to accompany the legendary moment.\\n\\nPerry captioned the photo with a sweet message to her husband writing, \"Like the stars are in the sky You and I will find each other In every single life.\"\\n\\nThe \"California Gurls\" hitmaker and Pirates of the Caribbean actor met in 2016 and got engaged three years later. Perry gave birth to their daughter, Daisy Dove Bloom, on August 26, 2020, per Business Insider.\\n\\nWatch the pair\\'s latest bucket-list adventure unfold below!',\n",
       " 'summary': \"Katy Perry and Orlando Bloom recently crossed a daring item off their bucket-list and captured detailed footage of the entire adventure.\\nThe first photo in the epic carousel shows Perry and Bloom mid-jump, bracing for impact of the unsettled water beneath them.\\nThe next clip in the series shows what happened before the unforgettable moment they exited the aircraft, both seemingly excited and well-prepared for the jump.\\nPerry gave birth to their daughter, Daisy Dove Bloom, on August 26, 2020, per Business Insider.\\nWatch the pair's latest bucket-list adventure unfold below!\"}"
      ]
     },
     "execution_count": 7,
     "metadata": {},
     "output_type": "execute_result"
    }
   ],
   "source": [
    "def get_article(url):\n",
    "    try:\n",
    "        article = Article(url, config=config)\n",
    "        article.download()\n",
    "        article.parse()\n",
    "        article.nlp()\n",
    "        data = {\n",
    "            \"title\": article.title,\n",
    "            \"text\": article.text,\n",
    "            \"summary\": article.summary\n",
    "        }\n",
    "        return data\n",
    "    except Exception as e:\n",
    "        return {\n",
    "            \"title\": \"ERROR\",\n",
    "            \"text\": str(e),\n",
    "            \"summary\": \"ERROR\"\n",
    "        }\n",
    "# get timing of the function\n",
    "def get_article_from_list(url_list):\n",
    "    return get_article(url_list[0])\n",
    "\n",
    "url = \"https://mix967online.iheart.com/content/2024-08-13-katy-perry-orlando-bloom-cross-off-major-bucket-list-item-in-epic-new-clip/\"\n",
    "get_article_from_list([url])"
   ]
  },
  {
   "cell_type": "code",
   "execution_count": 25,
   "metadata": {},
   "outputs": [],
   "source": [
    "df = gkg.head(1000)"
   ]
  },
  {
   "cell_type": "code",
   "execution_count": 31,
   "metadata": {},
   "outputs": [
    {
     "name": "stderr",
     "output_type": "stream",
     "text": [
      "/Users/ahueteg/Documents/workspace/ahueteg/hackatons/factored-datathon-2024-ariteam/.venv/lib/python3.12/site-packages/dateutil/parser/_parser.py:1207: UnknownTimezoneWarning: tzname ET identified but not understood.  Pass `tzinfos` argument in order to correctly return a timezone-aware datetime.  In a future version, this will raise an exception.\n",
      "  warnings.warn(\"tzname {tzname} identified but not understood.  \"\n"
     ]
    }
   ],
   "source": [
    "import dask.dataframe as dd\n",
    "from dask.distributed import Client\n",
    "\n",
    "ddf = dd.from_pandas(df, npartitions=200)  # Adjust npartitions based on your data size and available resources\n",
    "\n",
    "# Start a Dask client\n",
    "client = Client()  # This will use local threads/processes by default\n",
    "\n",
    "# Apply the function to the 'sourcesurl' column\n",
    "ddf['articles_data'] = ddf['first_url'].apply(get_article, meta=('articles_data', 'object'))\n",
    "\n",
    "# Compute the result\n",
    "result = ddf.compute()\n",
    "\n",
    "# Close the client\n",
    "client.close()"
   ]
  },
  {
   "cell_type": "code",
   "execution_count": 27,
   "metadata": {},
   "outputs": [
    {
     "data": {
      "text/html": [
       "<div>\n",
       "<style scoped>\n",
       "    .dataframe tbody tr th:only-of-type {\n",
       "        vertical-align: middle;\n",
       "    }\n",
       "\n",
       "    .dataframe tbody tr th {\n",
       "        vertical-align: top;\n",
       "    }\n",
       "\n",
       "    .dataframe thead th {\n",
       "        text-align: right;\n",
       "    }\n",
       "</style>\n",
       "<table border=\"1\" class=\"dataframe\">\n",
       "  <thead>\n",
       "    <tr style=\"text-align: right;\">\n",
       "      <th></th>\n",
       "      <th>DATE</th>\n",
       "      <th>NUMARTS</th>\n",
       "      <th>COUNTS</th>\n",
       "      <th>THEMES</th>\n",
       "      <th>LOCATIONS</th>\n",
       "      <th>PERSONS</th>\n",
       "      <th>ORGANIZATIONS</th>\n",
       "      <th>TONE</th>\n",
       "      <th>CAMEOEVENTIDS</th>\n",
       "      <th>SOURCES</th>\n",
       "      <th>SOURCEURLS</th>\n",
       "      <th>counts</th>\n",
       "      <th>themes</th>\n",
       "      <th>locations</th>\n",
       "      <th>persons</th>\n",
       "      <th>organizations</th>\n",
       "      <th>tone</th>\n",
       "      <th>cameoeventids</th>\n",
       "      <th>sources</th>\n",
       "      <th>sourcesurl</th>\n",
       "      <th>first_url</th>\n",
       "      <th>articles_data</th>\n",
       "    </tr>\n",
       "  </thead>\n",
       "  <tbody>\n",
       "    <tr>\n",
       "      <th>0</th>\n",
       "      <td>20240813</td>\n",
       "      <td>1</td>\n",
       "      <td>&lt;NA&gt;</td>\n",
       "      <td>TAX_ETHNICITY;TAX_ETHNICITY_CANADIAN;TAX_FNCAC...</td>\n",
       "      <td>1#Canada#CA#CA#60#-96#CA;1#Israel#IS#IS#31.5#3...</td>\n",
       "      <td>charles krupa;laxman narasimhan;brian niccol;h...</td>\n",
       "      <td>pepsico;starbucks</td>\n",
       "      <td>2.06185567010309,3.78006872852234,1.7182130584...</td>\n",
       "      <td>1192349779</td>\n",
       "      <td>castanetkamloops.net</td>\n",
       "      <td>https://www.castanetkamloops.net/news/Business...</td>\n",
       "      <td>[]</td>\n",
       "      <td>['TAX_ETHNICITY', 'TAX_ETHNICITY_CANADIAN', 'T...</td>\n",
       "      <td>['1#Canada#CA#CA#60#-96#CA', '1#Israel#IS#IS#3...</td>\n",
       "      <td>['charles krupa', 'laxman narasimhan', 'brian ...</td>\n",
       "      <td>['pepsico', 'starbuck']</td>\n",
       "      <td>['2.06185567010309', '3.78006872852234', '1.71...</td>\n",
       "      <td>['119234977']</td>\n",
       "      <td>['castanetkamloops.ne']</td>\n",
       "      <td>['https://www.castanetkamloops.net/news/Busine...</td>\n",
       "      <td>https://www.castanetkamloops.net/news/Business...</td>\n",
       "      <td>{'title': 'Starbucks replaces its CEO, names C...</td>\n",
       "    </tr>\n",
       "    <tr>\n",
       "      <th>1</th>\n",
       "      <td>20240813</td>\n",
       "      <td>1</td>\n",
       "      <td>&lt;NA&gt;</td>\n",
       "      <td>MANMADE_DISASTER_IMPLIED;</td>\n",
       "      <td>1#Brazil#BR#BR#-10#-55#BR;4#Sao Paulo, SãPaulo...</td>\n",
       "      <td>thalita valente machado;campos alencar e silva...</td>\n",
       "      <td>&lt;NA&gt;</td>\n",
       "      <td>-1.52542372881356,2.03389830508475,3.559322033...</td>\n",
       "      <td>&lt;NA&gt;</td>\n",
       "      <td>bostonglobe.com</td>\n",
       "      <td>https://www.bostonglobe.com/2024/08/12/world/b...</td>\n",
       "      <td>[]</td>\n",
       "      <td>['MANMADE_DISASTER_IMPLIED']</td>\n",
       "      <td>['1#Brazil#BR#BR#-10#-55#BR', '4#Sao Paulo, Sã...</td>\n",
       "      <td>['thalita valente machado', 'campos alencar e ...</td>\n",
       "      <td>[]</td>\n",
       "      <td>['-1.52542372881356', '2.03389830508475', '3.5...</td>\n",
       "      <td>[]</td>\n",
       "      <td>['bostonglobe.co']</td>\n",
       "      <td>['https://www.bostonglobe.com/2024/08/12/world...</td>\n",
       "      <td>https://www.bostonglobe.com/2024/08/12/world/b...</td>\n",
       "      <td>{'title': 'Brazil buries pilot who died in pla...</td>\n",
       "    </tr>\n",
       "    <tr>\n",
       "      <th>2</th>\n",
       "      <td>20240813</td>\n",
       "      <td>1</td>\n",
       "      <td>&lt;NA&gt;</td>\n",
       "      <td>SOC_GENERALCRIME;EPU_CATS_MIGRATION_FEAR_FEAR;...</td>\n",
       "      <td>2#Indiana, United States#US#USIN#39.8647#-86.2...</td>\n",
       "      <td>shawn scudder;bob courtney</td>\n",
       "      <td>neighborhood watch program;madison police;madi...</td>\n",
       "      <td>0.199600798403194,1.79640718562874,1.596806387...</td>\n",
       "      <td>1192464356,1192464356,1192501503,1192478508</td>\n",
       "      <td>wdrb.com</td>\n",
       "      <td>https://www.wdrb.com/news/crime-reports/city-o...</td>\n",
       "      <td>[]</td>\n",
       "      <td>['SOC_GENERALCRIME', 'EPU_CATS_MIGRATION_FEAR_...</td>\n",
       "      <td>['2#Indiana, United States#US#USIN#39.8647#-86...</td>\n",
       "      <td>['shawn scudder', 'bob courtne']</td>\n",
       "      <td>['neighborhood watch program', 'madison police...</td>\n",
       "      <td>['0.199600798403194', '1.79640718562874', '1.5...</td>\n",
       "      <td>['1192464356', '1192464356', '1192501503', '11...</td>\n",
       "      <td>['wdrb.co']</td>\n",
       "      <td>['https://www.wdrb.com/news/crime-reports/city...</td>\n",
       "      <td>https://www.wdrb.com/news/crime-reports/city-o...</td>\n",
       "      <td>{'title': 'City of Madison police launch new n...</td>\n",
       "    </tr>\n",
       "    <tr>\n",
       "      <th>3</th>\n",
       "      <td>20240813</td>\n",
       "      <td>1</td>\n",
       "      <td>&lt;NA&gt;</td>\n",
       "      <td>TAX_FNCACT;TAX_FNCACT_SPEAKER;UNGP_FORESTS_RIV...</td>\n",
       "      <td>1#Pakistan#PK#PK#30#70#PK;4#Islamabad, Islamab...</td>\n",
       "      <td>andrei metelitsa</td>\n",
       "      <td>national assembly speaker sardar ayaz sadiq;pa...</td>\n",
       "      <td>5.64102564102564,5.64102564102564,0,5.64102564...</td>\n",
       "      <td>1192348387</td>\n",
       "      <td>brecorder.com</td>\n",
       "      <td>https://www.brecorder.com/news/40317251/na-spe...</td>\n",
       "      <td>[]</td>\n",
       "      <td>['TAX_FNCACT', 'TAX_FNCACT_SPEAKER', 'UNGP_FOR...</td>\n",
       "      <td>['1#Pakistan#PK#PK#30#70#PK', '4#Islamabad, Is...</td>\n",
       "      <td>['andrei metelits']</td>\n",
       "      <td>['national assembly speaker sardar ayaz sadiq'...</td>\n",
       "      <td>['5.64102564102564', '5.64102564102564', '0', ...</td>\n",
       "      <td>['119234838']</td>\n",
       "      <td>['brecorder.co']</td>\n",
       "      <td>['https://www.brecorder.com/news/40317251/na-s...</td>\n",
       "      <td>https://www.brecorder.com/news/40317251/na-spe...</td>\n",
       "      <td>{'title': 'NA Speaker meets Belarusian envoy',...</td>\n",
       "    </tr>\n",
       "    <tr>\n",
       "      <th>4</th>\n",
       "      <td>20240813</td>\n",
       "      <td>1</td>\n",
       "      <td>&lt;NA&gt;</td>\n",
       "      <td>EPU_POLICY;EPU_POLICY_POLITICAL;USPEC_POLITICS...</td>\n",
       "      <td>3#Washington, Washington, United States#US#USD...</td>\n",
       "      <td>michael l kripchak;michael rulli</td>\n",
       "      <td>penguin club;election commission;johnson leads...</td>\n",
       "      <td>0.995024875621891,1.82421227197347,0.829187396...</td>\n",
       "      <td>&lt;NA&gt;</td>\n",
       "      <td>tribtoday.com</td>\n",
       "      <td>https://www.tribtoday.com/news/local-news/2024...</td>\n",
       "      <td>[]</td>\n",
       "      <td>['EPU_POLICY', 'EPU_POLICY_POLITICAL', 'USPEC_...</td>\n",
       "      <td>['3#Washington, Washington, United States#US#U...</td>\n",
       "      <td>['michael l kripchak', 'michael rull']</td>\n",
       "      <td>['penguin club', 'election commission', 'johns...</td>\n",
       "      <td>['0.995024875621891', '1.82421227197347', '0.8...</td>\n",
       "      <td>[]</td>\n",
       "      <td>['tribtoday.co']</td>\n",
       "      <td>['https://www.tribtoday.com/news/local-news/20...</td>\n",
       "      <td>https://www.tribtoday.com/news/local-news/2024...</td>\n",
       "      <td>{'title': 'PAC gave more than $7K to YSU boost...</td>\n",
       "    </tr>\n",
       "  </tbody>\n",
       "</table>\n",
       "</div>"
      ],
      "text/plain": [
       "       DATE  NUMARTS COUNTS  \\\n",
       "0  20240813        1   <NA>   \n",
       "1  20240813        1   <NA>   \n",
       "2  20240813        1   <NA>   \n",
       "3  20240813        1   <NA>   \n",
       "4  20240813        1   <NA>   \n",
       "\n",
       "                                              THEMES  \\\n",
       "0  TAX_ETHNICITY;TAX_ETHNICITY_CANADIAN;TAX_FNCAC...   \n",
       "1                          MANMADE_DISASTER_IMPLIED;   \n",
       "2  SOC_GENERALCRIME;EPU_CATS_MIGRATION_FEAR_FEAR;...   \n",
       "3  TAX_FNCACT;TAX_FNCACT_SPEAKER;UNGP_FORESTS_RIV...   \n",
       "4  EPU_POLICY;EPU_POLICY_POLITICAL;USPEC_POLITICS...   \n",
       "\n",
       "                                           LOCATIONS  \\\n",
       "0  1#Canada#CA#CA#60#-96#CA;1#Israel#IS#IS#31.5#3...   \n",
       "1  1#Brazil#BR#BR#-10#-55#BR;4#Sao Paulo, SãPaulo...   \n",
       "2  2#Indiana, United States#US#USIN#39.8647#-86.2...   \n",
       "3  1#Pakistan#PK#PK#30#70#PK;4#Islamabad, Islamab...   \n",
       "4  3#Washington, Washington, United States#US#USD...   \n",
       "\n",
       "                                             PERSONS  \\\n",
       "0  charles krupa;laxman narasimhan;brian niccol;h...   \n",
       "1  thalita valente machado;campos alencar e silva...   \n",
       "2                         shawn scudder;bob courtney   \n",
       "3                                   andrei metelitsa   \n",
       "4                   michael l kripchak;michael rulli   \n",
       "\n",
       "                                       ORGANIZATIONS  \\\n",
       "0                                  pepsico;starbucks   \n",
       "1                                               <NA>   \n",
       "2  neighborhood watch program;madison police;madi...   \n",
       "3  national assembly speaker sardar ayaz sadiq;pa...   \n",
       "4  penguin club;election commission;johnson leads...   \n",
       "\n",
       "                                                TONE  \\\n",
       "0  2.06185567010309,3.78006872852234,1.7182130584...   \n",
       "1  -1.52542372881356,2.03389830508475,3.559322033...   \n",
       "2  0.199600798403194,1.79640718562874,1.596806387...   \n",
       "3  5.64102564102564,5.64102564102564,0,5.64102564...   \n",
       "4  0.995024875621891,1.82421227197347,0.829187396...   \n",
       "\n",
       "                                 CAMEOEVENTIDS               SOURCES  \\\n",
       "0                                   1192349779  castanetkamloops.net   \n",
       "1                                         <NA>       bostonglobe.com   \n",
       "2  1192464356,1192464356,1192501503,1192478508              wdrb.com   \n",
       "3                                   1192348387         brecorder.com   \n",
       "4                                         <NA>         tribtoday.com   \n",
       "\n",
       "                                          SOURCEURLS counts  \\\n",
       "0  https://www.castanetkamloops.net/news/Business...     []   \n",
       "1  https://www.bostonglobe.com/2024/08/12/world/b...     []   \n",
       "2  https://www.wdrb.com/news/crime-reports/city-o...     []   \n",
       "3  https://www.brecorder.com/news/40317251/na-spe...     []   \n",
       "4  https://www.tribtoday.com/news/local-news/2024...     []   \n",
       "\n",
       "                                              themes  \\\n",
       "0  ['TAX_ETHNICITY', 'TAX_ETHNICITY_CANADIAN', 'T...   \n",
       "1                       ['MANMADE_DISASTER_IMPLIED']   \n",
       "2  ['SOC_GENERALCRIME', 'EPU_CATS_MIGRATION_FEAR_...   \n",
       "3  ['TAX_FNCACT', 'TAX_FNCACT_SPEAKER', 'UNGP_FOR...   \n",
       "4  ['EPU_POLICY', 'EPU_POLICY_POLITICAL', 'USPEC_...   \n",
       "\n",
       "                                           locations  \\\n",
       "0  ['1#Canada#CA#CA#60#-96#CA', '1#Israel#IS#IS#3...   \n",
       "1  ['1#Brazil#BR#BR#-10#-55#BR', '4#Sao Paulo, Sã...   \n",
       "2  ['2#Indiana, United States#US#USIN#39.8647#-86...   \n",
       "3  ['1#Pakistan#PK#PK#30#70#PK', '4#Islamabad, Is...   \n",
       "4  ['3#Washington, Washington, United States#US#U...   \n",
       "\n",
       "                                             persons  \\\n",
       "0  ['charles krupa', 'laxman narasimhan', 'brian ...   \n",
       "1  ['thalita valente machado', 'campos alencar e ...   \n",
       "2                   ['shawn scudder', 'bob courtne']   \n",
       "3                                ['andrei metelits']   \n",
       "4             ['michael l kripchak', 'michael rull']   \n",
       "\n",
       "                                       organizations  \\\n",
       "0                            ['pepsico', 'starbuck']   \n",
       "1                                                 []   \n",
       "2  ['neighborhood watch program', 'madison police...   \n",
       "3  ['national assembly speaker sardar ayaz sadiq'...   \n",
       "4  ['penguin club', 'election commission', 'johns...   \n",
       "\n",
       "                                                tone  \\\n",
       "0  ['2.06185567010309', '3.78006872852234', '1.71...   \n",
       "1  ['-1.52542372881356', '2.03389830508475', '3.5...   \n",
       "2  ['0.199600798403194', '1.79640718562874', '1.5...   \n",
       "3  ['5.64102564102564', '5.64102564102564', '0', ...   \n",
       "4  ['0.995024875621891', '1.82421227197347', '0.8...   \n",
       "\n",
       "                                       cameoeventids                  sources  \\\n",
       "0                                      ['119234977']  ['castanetkamloops.ne']   \n",
       "1                                                 []       ['bostonglobe.co']   \n",
       "2  ['1192464356', '1192464356', '1192501503', '11...              ['wdrb.co']   \n",
       "3                                      ['119234838']         ['brecorder.co']   \n",
       "4                                                 []         ['tribtoday.co']   \n",
       "\n",
       "                                          sourcesurl  \\\n",
       "0  ['https://www.castanetkamloops.net/news/Busine...   \n",
       "1  ['https://www.bostonglobe.com/2024/08/12/world...   \n",
       "2  ['https://www.wdrb.com/news/crime-reports/city...   \n",
       "3  ['https://www.brecorder.com/news/40317251/na-s...   \n",
       "4  ['https://www.tribtoday.com/news/local-news/20...   \n",
       "\n",
       "                                           first_url  \\\n",
       "0  https://www.castanetkamloops.net/news/Business...   \n",
       "1  https://www.bostonglobe.com/2024/08/12/world/b...   \n",
       "2  https://www.wdrb.com/news/crime-reports/city-o...   \n",
       "3  https://www.brecorder.com/news/40317251/na-spe...   \n",
       "4  https://www.tribtoday.com/news/local-news/2024...   \n",
       "\n",
       "                                       articles_data  \n",
       "0  {'title': 'Starbucks replaces its CEO, names C...  \n",
       "1  {'title': 'Brazil buries pilot who died in pla...  \n",
       "2  {'title': 'City of Madison police launch new n...  \n",
       "3  {'title': 'NA Speaker meets Belarusian envoy',...  \n",
       "4  {'title': 'PAC gave more than $7K to YSU boost...  "
      ]
     },
     "execution_count": 27,
     "metadata": {},
     "output_type": "execute_result"
    }
   ],
   "source": [
    "result.head()"
   ]
  },
  {
   "cell_type": "code",
   "execution_count": 16,
   "metadata": {},
   "outputs": [
    {
     "name": "stderr",
     "output_type": "stream",
     "text": [
      "/var/folders/tf/8v3l8mx557xf5pyvklc18qyr0000gn/T/ipykernel_23941/2647760911.py:1: SettingWithCopyWarning: \n",
      "A value is trying to be set on a copy of a slice from a DataFrame.\n",
      "Try using .loc[row_indexer,col_indexer] = value instead\n",
      "\n",
      "See the caveats in the documentation: https://pandas.pydata.org/pandas-docs/stable/user_guide/indexing.html#returning-a-view-versus-a-copy\n",
      "  df.loc[:, \"article\"] = df[\"sourcesurl\"].apply(get_article_from_list)\n"
     ]
    }
   ],
   "source": [
    "df.loc[:, \"article\"] = df[\"sourcesurl\"].apply(get_article_from_list)"
   ]
  },
  {
   "cell_type": "code",
   "execution_count": 28,
   "metadata": {},
   "outputs": [],
   "source": [
    "result_df = pd.concat([result.drop('articles_data', axis=1), result['articles_data'].apply(pd.Series)], axis=1)"
   ]
  },
  {
   "cell_type": "code",
   "execution_count": 29,
   "metadata": {},
   "outputs": [],
   "source": [
    "result_df[[\"first_url\",\"title\", \"text\", \"summary\"]].to_pickle(\"data/20240813.gkg.first-1000-news.pkl\")"
   ]
  },
  {
   "cell_type": "code",
   "execution_count": 30,
   "metadata": {},
   "outputs": [
    {
     "data": {
      "text/plain": [
       "title\n",
       "ERROR                                                                             341\n",
       "                                                                                    9\n",
       "International News, Currencies & Economic Indicators                                4\n",
       "Two men jailed over calls on Facebook to protest outside asylum seekers’ hotel      3\n",
       "What the papers say – August 13                                                     3\n",
       "                                                                                 ... \n",
       "Mushroom-themed tours emerge as popular summer-vacation option                      1\n",
       "Nampa Police Post Hilarious Update on Green Power Ranger Arrest                     1\n",
       "half GGR at Clark casinos up 12pct: Pagcor data                                     1\n",
       "Vinci Aviation obtains access to a second Learjet 45 - Canadian Manufacturing       1\n",
       "HGVT Empowers Aspiring Drivers with Comprehensive Lorry Licence Training            1\n",
       "Name: count, Length: 618, dtype: int64"
      ]
     },
     "execution_count": 30,
     "metadata": {},
     "output_type": "execute_result"
    }
   ],
   "source": [
    "result_df[\"title\"].value_counts()"
   ]
  },
  {
   "cell_type": "code",
   "execution_count": 3,
   "metadata": {},
   "outputs": [],
   "source": [
    "df = pd.read_pickle(\"data/20240813.gkg.first-1000-news.pkl\")"
   ]
  },
  {
   "cell_type": "code",
   "execution_count": 4,
   "metadata": {},
   "outputs": [],
   "source": [
    "df.to_csv(\"data/20240813.gkg.first-1000-news.csv\", index=False)"
   ]
  },
  {
   "cell_type": "code",
   "execution_count": null,
   "metadata": {},
   "outputs": [],
   "source": []
  }
 ],
 "metadata": {
  "kernelspec": {
   "display_name": ".venv",
   "language": "python",
   "name": "python3"
  },
  "language_info": {
   "codemirror_mode": {
    "name": "ipython",
    "version": 3
   },
   "file_extension": ".py",
   "mimetype": "text/x-python",
   "name": "python",
   "nbconvert_exporter": "python",
   "pygments_lexer": "ipython3",
   "version": "3.12.3"
  }
 },
 "nbformat": 4,
 "nbformat_minor": 2
}
